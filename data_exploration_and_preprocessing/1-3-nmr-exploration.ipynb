{
 "cells": [
  {
   "cell_type": "code",
   "execution_count": 1,
   "metadata": {},
   "outputs": [
    {
     "name": "stdout",
     "output_type": "stream",
     "text": [
      "/scratch/aqd215/k-gnn/nmr_shift_data\n"
     ]
    }
   ],
   "source": [
    "cd /scratch/aqd215/k-gnn/nmr_shift_data/"
   ]
  },
  {
   "cell_type": "code",
   "execution_count": 2,
   "metadata": {},
   "outputs": [],
   "source": [
    "import rdkit\n",
    "import graph_conv_many_nuc_util\n",
    "import torch\n",
    "import torch_geometric.transforms as T\n",
    "from dataloader import DataLoader\n",
    "import sys\n",
    "from k_gnn import ConnectedThreeMalkin\n",
    "from torch_geometric.data import (InMemoryDataset, download_url, extract_tar,\n",
    "                                  Data)\n",
    "\n",
    "class knnGraph(InMemoryDataset):\n",
    "    def __init__(self,\n",
    "                 root,\n",
    "                 transform=None,\n",
    "                 pre_transform=None,\n",
    "                 pre_filter=None):\n",
    "        super(knnGraph, self).__init__(root, transform, pre_transform, pre_filter)\n",
    "        self.type = type\n",
    "        self.data, self.slices = torch.load(self.processed_paths[0])\n",
    "\n",
    "    @property\n",
    "    def raw_file_names(self):\n",
    "        return 'temp.pt'\n",
    "\n",
    "    @property\n",
    "    def processed_file_names(self):\n",
    "        return 'whole.pt'\n",
    "    \n",
    "    def download(self):\n",
    "        pass\n",
    "\n",
    "    def process(self):\n",
    "        raw_data_list = torch.load(self.raw_paths[0])\n",
    "        data_list = [\n",
    "            Data(\n",
    "                x=d[0],\n",
    "                atom_types=d[1],\n",
    "                edge_index=d[2],\n",
    "                edge_attr=d[3],\n",
    "                mask=d[4],\n",
    "                y=d[5]\n",
    "                ) for d in raw_data_list\n",
    "        ]\n",
    "\n",
    "        if self.pre_filter is not None:\n",
    "            data_list = [data for data in data_list if self.pre_filter(data)]\n",
    "\n",
    "        if self.pre_transform is not None:\n",
    "            data_list = [self.pre_transform(data) for data in data_list]\n",
    "\n",
    "        data, slices = self.collate(data_list)\n",
    "        torch.save((data, slices), self.processed_paths[0])\n",
    "\n",
    "def process(infile, kgnn = False):\n",
    "    dataset_hparams = graph_conv_many_nuc_util.DEFAULT_DATA_HPARAMS\n",
    "    ds = graph_conv_many_nuc_util.make_datasets({'filename' : infile}, dataset_hparams)\n",
    "    print('made datasets')\n",
    "#     sys.stdout.flush()\n",
    "\n",
    "    torch.save(ds, '/scratch/aqd215/k-gnn/nmr_shift_data/temp_files/raw/temp.pt')\n",
    "    print('saved temp files')\n",
    "#     sys.stdout.flush()\n",
    "\n",
    "    dataset = knnGraph(root='/scratch/aqd215/k-gnn/nmr_shift_data/temp_files/')\n",
    "    print('made dataset')\n",
    "#     sys.stdout.flush()\n",
    "\n",
    "#     dataset.data.num_nodes = int(dataset.data.mask.sum().item())\n",
    "    print(dataset.data)\n",
    "\n",
    "    if kgnn == True:\n",
    "        dataset.data = ConnectedThreeMalkin()(dataset.data)\n",
    "\n",
    "        #gets all the unique values of iso_type_3 and arranges them\n",
    "        #then returns the index of the values in the original iso_type_3 in the unique ordered iso_type_3\n",
    "        #reassigns this vector of indices (same size as original iso_type_3) to iso_type_3\n",
    "        dataset.data.iso_type_3 = torch.unique(dataset.data.iso_type_3, True, True)[1]\n",
    "\n",
    "        #gets max of iso_type_3 + 1. This is the max index + 1\n",
    "        num_i_3 = dataset.data.iso_type_3.max().item() + 1\n",
    "\n",
    "        dataset.data.iso_type_3 = F.one_hot(dataset.data.iso_type_3, num_classes=num_i_3).to(torch.float)\n",
    "\n",
    "    train_split = 1 #int(len(dataset)*0.6)\n",
    "    val_split = 1 #int(len(dataset)*0.2)\n",
    "    train_dataset = dataset[:train_split]\n",
    "    val_dataset = dataset[train_split:train_split+val_split]\n",
    "    test_dataset = dataset[train_split+val_split:3]\n",
    "\n",
    "    train_loader = DataLoader(train_dataset, batch_size=64, num_workers=1)\n",
    "    val_loader = DataLoader(val_dataset, batch_size=64, num_workers=1)\n",
    "    test_loader = DataLoader(test_dataset, batch_size=64, num_workers=1)\n",
    "    print('created data loaders')\n",
    "#     sys.stdout.flush()\n",
    "\n",
    "    if kgnn == False:\n",
    "        return train_loader, val_loader, test_loader\n",
    "    else:\n",
    "        return train_loader, val_loader, test_loader, num_i_3"
   ]
  },
  {
   "cell_type": "code",
   "execution_count": null,
   "metadata": {},
   "outputs": [
    {
     "name": "stdout",
     "output_type": "stream",
     "text": [
      "made datasets\n",
      "saved temp files\n",
      "Processing...\n"
     ]
    }
   ],
   "source": [
    "infile = '/scratch/aqd215/k-gnn/nmr_shift_data/graph_conv_many_nuc_pipeline.datasets/graph_conv_many_nuc_pipeline.data.13C.nmrshiftdb_hconfspcl_nmrshiftdb.aromatic.64.0.mol_dict.pickle'\n",
    "                                                               \n",
    "train_loader, val_loader, test_loader = process(infile, kgnn = True)"
   ]
  },
  {
   "cell_type": "code",
   "execution_count": 8,
   "metadata": {},
   "outputs": [
    {
     "name": "stdout",
     "output_type": "stream",
     "text": [
      "Batch(atom_types=[2506, 8], batch=[2506], edge_attr=[5244, 4], edge_index=[2, 5244], mask=[2506], x=[2506, 37], y=[2506]) 2506\n"
     ]
    }
   ],
   "source": [
    "for data in train_loader:\n",
    "    print(data, data.num_nodes)\n",
    "    break"
   ]
  },
  {
   "cell_type": "code",
   "execution_count": null,
   "metadata": {},
   "outputs": [
    {
     "name": "stdout",
     "output_type": "stream",
     "text": [
      "made datasets\n"
     ]
    }
   ],
   "source": [
    "train_loader_C3M, val_loader_C3M, test_loader_C3M = process(infile, kgnn = True)"
   ]
  },
  {
   "cell_type": "code",
   "execution_count": 6,
   "metadata": {},
   "outputs": [],
   "source": [
    "def props(cls):   \n",
    "    return [i for i in cls.__dict__.keys() if i[:1] != '_']"
   ]
  },
  {
   "cell_type": "code",
   "execution_count": 11,
   "metadata": {},
   "outputs": [
    {
     "data": {
      "text/plain": [
       "['root', 'transform', 'pre_transform', 'pre_filter', 'data', 'slices', 'type']"
      ]
     },
     "execution_count": 11,
     "metadata": {},
     "output_type": "execute_result"
    }
   ],
   "source": [
    "props(train_loader.dataset)"
   ]
  },
  {
   "cell_type": "code",
   "execution_count": 6,
   "metadata": {},
   "outputs": [
    {
     "data": {
      "text/plain": [
       "724415"
      ]
     },
     "execution_count": 6,
     "metadata": {},
     "output_type": "execute_result"
    }
   ],
   "source": [
    "train_loader.dataset.data.num_nodes"
   ]
  },
  {
   "cell_type": "code",
   "execution_count": null,
   "metadata": {},
   "outputs": [],
   "source": []
  }
 ],
 "metadata": {
  "kernelspec": {
   "display_name": "Virtual Env py3.7",
   "language": "python",
   "name": "py3.7"
  },
  "language_info": {
   "codemirror_mode": {
    "name": "ipython",
    "version": 3
   },
   "file_extension": ".py",
   "mimetype": "text/x-python",
   "name": "python",
   "nbconvert_exporter": "python",
   "pygments_lexer": "ipython3",
   "version": "3.7.6"
  }
 },
 "nbformat": 4,
 "nbformat_minor": 4
}
