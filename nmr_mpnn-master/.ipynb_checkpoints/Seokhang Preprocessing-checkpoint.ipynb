{
 "cells": [
  {
   "cell_type": "code",
   "execution_count": 1,
   "metadata": {},
   "outputs": [],
   "source": [
    "import numpy as np\n",
    "import pickle as pkl\n",
    "import os, sys, sparse\n",
    "from util import atomFeatures, bondFeatures\n",
    "from rdkit import Chem, RDConfig, rdBase\n",
    "from rdkit.Chem import AllChem, ChemicalFeatures"
   ]
  },
  {
   "cell_type": "code",
   "execution_count": 3,
   "metadata": {},
   "outputs": [],
   "source": [
    "suppl = pkl.load(open('datasets/data_13C.pickle','rb'))"
   ]
  },
  {
   "cell_type": "code",
   "execution_count": 5,
   "metadata": {},
   "outputs": [],
   "source": [
    "mol_trn = suppl['train_df']"
   ]
  },
  {
   "cell_type": "code",
   "execution_count": 6,
   "metadata": {},
   "outputs": [],
   "source": [
    "molsuppl = mol_trn['rdmol'].to_list()\n",
    "molprops = mol_trn['value'].to_list()"
   ]
  },
  {
   "cell_type": "code",
   "execution_count": 9,
   "metadata": {},
   "outputs": [],
   "source": [
    "n_max=64\n",
    "dim_node=30\n",
    "dim_edge=10\n",
    "atom_list=['H','C','N','O','F','P','S','Cl']"
   ]
  },
  {
   "cell_type": "code",
   "execution_count": 10,
   "metadata": {},
   "outputs": [],
   "source": [
    "rdBase.DisableLog('rdApp.error') \n",
    "rdBase.DisableLog('rdApp.warning')"
   ]
  },
  {
   "cell_type": "code",
   "execution_count": 11,
   "metadata": {},
   "outputs": [],
   "source": [
    "fdef_name = os.path.join(RDConfig.RDDataDir, 'BaseFeatures.fdef')\n",
    "chem_feature_factory = ChemicalFeatures.BuildFeatureFactory(fdef_name)"
   ]
  },
  {
   "cell_type": "code",
   "execution_count": 12,
   "metadata": {},
   "outputs": [],
   "source": [
    "current_max = 0\n",
    "\n",
    "DV = []\n",
    "DE = []\n",
    "DY = []\n",
    "DM = []\n",
    "Dsmi = []"
   ]
  },
  {
   "cell_type": "code",
   "execution_count": 13,
   "metadata": {},
   "outputs": [
    {
     "data": {
      "text/plain": [
       "'/Users/aquail/anaconda2/envs/python3/share/RDKit/Data/BaseFeatures.fdef'"
      ]
     },
     "execution_count": 13,
     "metadata": {},
     "output_type": "execute_result"
    }
   ],
   "source": [
    "fdef_name"
   ]
  },
  {
   "cell_type": "code",
   "execution_count": 14,
   "metadata": {},
   "outputs": [
    {
     "data": {
      "text/plain": [
       "<rdkit.Chem.rdMolChemicalFeatures.MolChemicalFeatureFactory at 0x11d8ca580>"
      ]
     },
     "execution_count": 14,
     "metadata": {},
     "output_type": "execute_result"
    }
   ],
   "source": [
    "chem_feature_factory"
   ]
  },
  {
   "cell_type": "code",
   "execution_count": 20,
   "metadata": {},
   "outputs": [],
   "source": [
    "feats = chem_feature_factory.GetFeaturesForMol(suppl['train_df']['rdmol'][0])"
   ]
  },
  {
   "cell_type": "code",
   "execution_count": 38,
   "metadata": {},
   "outputs": [
    {
     "data": {
      "text/html": [
       "<div>\n",
       "<style scoped>\n",
       "    .dataframe tbody tr th:only-of-type {\n",
       "        vertical-align: middle;\n",
       "    }\n",
       "\n",
       "    .dataframe tbody tr th {\n",
       "        vertical-align: top;\n",
       "    }\n",
       "\n",
       "    .dataframe thead th {\n",
       "        text-align: right;\n",
       "    }\n",
       "</style>\n",
       "<table border=\"1\" class=\"dataframe\">\n",
       "  <thead>\n",
       "    <tr style=\"text-align: right;\">\n",
       "      <th></th>\n",
       "      <th>molecule_id</th>\n",
       "      <th>rdmol</th>\n",
       "      <th>spectra_ids</th>\n",
       "      <th>value</th>\n",
       "    </tr>\n",
       "  </thead>\n",
       "  <tbody>\n",
       "    <tr>\n",
       "      <th>0</th>\n",
       "      <td>4001</td>\n",
       "      <td>&lt;rdkit.Chem.rdchem.Mol object at 0x11a0cf330&gt;</td>\n",
       "      <td>[1]</td>\n",
       "      <td>[{15: 193.4, 11: 203.0, 2: 33.5, 14: 33.5, 1: ...</td>\n",
       "    </tr>\n",
       "    <tr>\n",
       "      <th>2</th>\n",
       "      <td>4003</td>\n",
       "      <td>&lt;rdkit.Chem.rdchem.Mol object at 0x11a0cf3b0&gt;</td>\n",
       "      <td>[3]</td>\n",
       "      <td>[{10: 26.1, 9: 23.3, 6: 23.5, 1: 132.1, 8: 23....</td>\n",
       "    </tr>\n",
       "    <tr>\n",
       "      <th>3</th>\n",
       "      <td>4004</td>\n",
       "      <td>&lt;rdkit.Chem.rdchem.Mol object at 0x11a0cf2b0&gt;</td>\n",
       "      <td>[4]</td>\n",
       "      <td>[{4: 38.7, 8: 38.7, 6: 73.5, 15: 25.2, 11: 18....</td>\n",
       "    </tr>\n",
       "    <tr>\n",
       "      <th>4</th>\n",
       "      <td>4006</td>\n",
       "      <td>&lt;rdkit.Chem.rdchem.Mol object at 0x11a0cf5b0&gt;</td>\n",
       "      <td>[6]</td>\n",
       "      <td>[{8: 120.9, 5: 146.0, 2: 109.4, 4: 159.8, 15: ...</td>\n",
       "    </tr>\n",
       "    <tr>\n",
       "      <th>6</th>\n",
       "      <td>4009</td>\n",
       "      <td>&lt;rdkit.Chem.rdchem.Mol object at 0x11a0cf630&gt;</td>\n",
       "      <td>[9]</td>\n",
       "      <td>[{26: 62.8, 22: 78.44, 0: 95.68, 1: 96.13, 7: ...</td>\n",
       "    </tr>\n",
       "  </tbody>\n",
       "</table>\n",
       "</div>"
      ],
      "text/plain": [
       "   molecule_id                                          rdmol spectra_ids  \\\n",
       "0         4001  <rdkit.Chem.rdchem.Mol object at 0x11a0cf330>         [1]   \n",
       "2         4003  <rdkit.Chem.rdchem.Mol object at 0x11a0cf3b0>         [3]   \n",
       "3         4004  <rdkit.Chem.rdchem.Mol object at 0x11a0cf2b0>         [4]   \n",
       "4         4006  <rdkit.Chem.rdchem.Mol object at 0x11a0cf5b0>         [6]   \n",
       "6         4009  <rdkit.Chem.rdchem.Mol object at 0x11a0cf630>         [9]   \n",
       "\n",
       "                                               value  \n",
       "0  [{15: 193.4, 11: 203.0, 2: 33.5, 14: 33.5, 1: ...  \n",
       "2  [{10: 26.1, 9: 23.3, 6: 23.5, 1: 132.1, 8: 23....  \n",
       "3  [{4: 38.7, 8: 38.7, 6: 73.5, 15: 25.2, 11: 18....  \n",
       "4  [{8: 120.9, 5: 146.0, 2: 109.4, 4: 159.8, 15: ...  \n",
       "6  [{26: 62.8, 22: 78.44, 0: 95.68, 1: 96.13, 7: ...  "
      ]
     },
     "execution_count": 38,
     "metadata": {},
     "output_type": "execute_result"
    }
   ],
   "source": [
    "suppl['train_df'].head()"
   ]
  },
  {
   "cell_type": "code",
   "execution_count": 34,
   "metadata": {},
   "outputs": [
    {
     "data": {
      "image/png": "[encoded data removed]",
      "text/plain": [
       "<rdkit.Chem.rdchem.Mol at 0x11a0cf330>"
      ]
     },
     "execution_count": 34,
     "metadata": {},
     "output_type": "execute_result"
    }
   ],
   "source": [
    "suppl['train_df']['rdmol'][0]"
   ]
  },
  {
   "cell_type": "code",
   "execution_count": 37,
   "metadata": {},
   "outputs": [
    {
     "data": {
      "image/png": "[encoded data removed]",
      "text/plain": [
       "<rdkit.Chem.rdchem.Mol at 0x11a0cf3b0>"
      ]
     },
     "execution_count": 37,
     "metadata": {},
     "output_type": "execute_result"
    }
   ],
   "source": [
    "suppl['train_df']['rdmol'][2]"
   ]
  },
  {
   "cell_type": "code",
   "execution_count": 35,
   "metadata": {},
   "outputs": [
    {
     "name": "stdout",
     "output_type": "stream",
     "text": [
      "6\n",
      "6\n",
      "6\n",
      "6\n",
      "6\n",
      "6\n",
      "6\n",
      "6\n",
      "6\n",
      "6\n",
      "6\n",
      "6\n",
      "6\n",
      "8\n",
      "6\n",
      "6\n",
      "8\n",
      "8\n",
      "1\n",
      "1\n",
      "1\n",
      "1\n",
      "1\n",
      "1\n",
      "1\n",
      "1\n",
      "1\n",
      "1\n",
      "1\n",
      "1\n",
      "1\n",
      "1\n",
      "1\n",
      "1\n",
      "1\n",
      "1\n",
      "1\n",
      "1\n",
      "1\n",
      "1\n"
     ]
    }
   ],
   "source": [
    "for atom in suppl['train_df']['rdmol'][0].GetAtoms():\n",
    "    print(atom.GetAtomicNum())"
   ]
  },
  {
   "cell_type": "code",
   "execution_count": 28,
   "metadata": {},
   "outputs": [
    {
     "data": {
      "text/plain": [
       "40"
      ]
     },
     "execution_count": 28,
     "metadata": {},
     "output_type": "execute_result"
    }
   ],
   "source": [
    "suppl['train_df']['rdmol'][0].GetNumAtoms()"
   ]
  },
  {
   "cell_type": "code",
   "execution_count": 24,
   "metadata": {},
   "outputs": [
    {
     "data": {
      "text/plain": [
       "(<rdkit.Chem.rdMolChemicalFeatures.MolChemicalFeature at 0x11d8c86f0>,\n",
       " <rdkit.Chem.rdMolChemicalFeatures.MolChemicalFeature at 0x11d8ff9f0>,\n",
       " <rdkit.Chem.rdMolChemicalFeatures.MolChemicalFeature at 0x11d8ffb10>,\n",
       " <rdkit.Chem.rdMolChemicalFeatures.MolChemicalFeature at 0x11d8ffc30>,\n",
       " <rdkit.Chem.rdMolChemicalFeatures.MolChemicalFeature at 0x11d8ffd50>,\n",
       " <rdkit.Chem.rdMolChemicalFeatures.MolChemicalFeature at 0x11d8ffe70>,\n",
       " <rdkit.Chem.rdMolChemicalFeatures.MolChemicalFeature at 0x11d900030>,\n",
       " <rdkit.Chem.rdMolChemicalFeatures.MolChemicalFeature at 0x11d900150>,\n",
       " <rdkit.Chem.rdMolChemicalFeatures.MolChemicalFeature at 0x11d900270>,\n",
       " <rdkit.Chem.rdMolChemicalFeatures.MolChemicalFeature at 0x11d900390>,\n",
       " <rdkit.Chem.rdMolChemicalFeatures.MolChemicalFeature at 0x11d9004b0>,\n",
       " <rdkit.Chem.rdMolChemicalFeatures.MolChemicalFeature at 0x11d9005d0>,\n",
       " <rdkit.Chem.rdMolChemicalFeatures.MolChemicalFeature at 0x11d9006f0>,\n",
       " <rdkit.Chem.rdMolChemicalFeatures.MolChemicalFeature at 0x11d900810>,\n",
       " <rdkit.Chem.rdMolChemicalFeatures.MolChemicalFeature at 0x11d900930>,\n",
       " <rdkit.Chem.rdMolChemicalFeatures.MolChemicalFeature at 0x11d900a50>,\n",
       " <rdkit.Chem.rdMolChemicalFeatures.MolChemicalFeature at 0x11d900b70>)"
      ]
     },
     "execution_count": 24,
     "metadata": {},
     "output_type": "execute_result"
    }
   ],
   "source": [
    "feats"
   ]
  },
  {
   "cell_type": "code",
   "execution_count": 26,
   "metadata": {
    "scrolled": true
   },
   "outputs": [
    {
     "name": "stdout",
     "output_type": "stream",
     "text": [
      "Help on MolChemicalFeature in module rdkit.Chem.rdMolChemicalFeatures object:\n",
      "\n",
      "class MolChemicalFeature(Boost.Python.instance)\n",
      " |  Class to represent a chemical feature.\n",
      " |  These chemical features may or may not have been derived from molecule object;\n",
      " |  i.e. it is possible to have a chemical feature that was created just from its type\n",
      " |  and location.\n",
      " |  \n",
      " |  Method resolution order:\n",
      " |      MolChemicalFeature\n",
      " |      Boost.Python.instance\n",
      " |      builtins.object\n",
      " |  \n",
      " |  Static methods defined here:\n",
      " |  \n",
      " |  ClearCache(...)\n",
      " |      ClearCache( (MolChemicalFeature)arg1) -> None :\n",
      " |          Clears the cache used to store position information.\n",
      " |      \n",
      " |          C++ signature :\n",
      " |              void ClearCache(RDKit::MolChemicalFeature {lvalue})\n",
      " |  \n",
      " |  GetActiveConformer(...)\n",
      " |      GetActiveConformer( (MolChemicalFeature)arg1) -> int :\n",
      " |          Gets the conformer to use.\n",
      " |      \n",
      " |          C++ signature :\n",
      " |              int GetActiveConformer(RDKit::MolChemicalFeature {lvalue})\n",
      " |  \n",
      " |  GetAtomIds(...)\n",
      " |      GetAtomIds( (MolChemicalFeature)arg1) -> object :\n",
      " |          Get the IDs of the atoms that participate in the feature\n",
      " |      \n",
      " |          C++ signature :\n",
      " |              _object* GetAtomIds(RDKit::MolChemicalFeature)\n",
      " |  \n",
      " |  GetFactory(...)\n",
      " |      GetFactory( (MolChemicalFeature)arg1) -> MolChemicalFeatureFactory :\n",
      " |          Get the factory used to generate this feature\n",
      " |      \n",
      " |          C++ signature :\n",
      " |              RDKit::MolChemicalFeatureFactory const* GetFactory(RDKit::MolChemicalFeature {lvalue})\n",
      " |  \n",
      " |  GetFamily(...)\n",
      " |      GetFamily( (MolChemicalFeature)arg1) -> str :\n",
      " |          Get the family to which the feature belongs; donor, acceptor, etc.\n",
      " |      \n",
      " |          C++ signature :\n",
      " |              std::__1::basic_string<char, std::__1::char_traits<char>, std::__1::allocator<char> > GetFamily(RDKit::MolChemicalFeature {lvalue})\n",
      " |  \n",
      " |  GetId(...)\n",
      " |      GetId( (MolChemicalFeature)arg1) -> int :\n",
      " |          Returns the identifier of the feature\n",
      " |          \n",
      " |      \n",
      " |          C++ signature :\n",
      " |              int GetId(RDKit::MolChemicalFeature {lvalue})\n",
      " |  \n",
      " |  GetMol(...)\n",
      " |      GetMol( (MolChemicalFeature)arg1) -> Mol :\n",
      " |          Get the molecule used to derive the features\n",
      " |      \n",
      " |          C++ signature :\n",
      " |              RDKit::ROMol const* GetMol(RDKit::MolChemicalFeature {lvalue})\n",
      " |  \n",
      " |  GetPos(...)\n",
      " |      GetPos( (MolChemicalFeature)self [, (int)confId=-1]) -> Point3D :\n",
      " |          Get the location of the chemical feature\n",
      " |      \n",
      " |          C++ signature :\n",
      " |              RDGeom::Point3D GetPos(RDKit::MolChemicalFeature {lvalue} [,int=-1])\n",
      " |  \n",
      " |  GetType(...)\n",
      " |      GetType( (MolChemicalFeature)arg1) -> str :\n",
      " |          Get the specific type for the feature\n",
      " |      \n",
      " |          C++ signature :\n",
      " |              std::__1::basic_string<char, std::__1::char_traits<char>, std::__1::allocator<char> > GetType(RDKit::MolChemicalFeature {lvalue})\n",
      " |  \n",
      " |  SetActiveConformer(...)\n",
      " |      SetActiveConformer( (MolChemicalFeature)arg1, (int)arg2) -> None :\n",
      " |          Sets the conformer to use (must be associated with a molecule).\n",
      " |      \n",
      " |          C++ signature :\n",
      " |              void SetActiveConformer(RDKit::MolChemicalFeature {lvalue},int)\n",
      " |  \n",
      " |  __init__(...)\n",
      " |      Raises an exception\n",
      " |      This class cannot be instantiated from Python\n",
      " |  \n",
      " |  __reduce__ = <unnamed Boost.Python function>(...)\n",
      " |  \n",
      " |  ----------------------------------------------------------------------\n",
      " |  Static methods inherited from Boost.Python.instance:\n",
      " |  \n",
      " |  __new__(*args, **kwargs) from Boost.Python.class\n",
      " |      Create and return a new object.  See help(type) for accurate signature.\n",
      " |  \n",
      " |  ----------------------------------------------------------------------\n",
      " |  Data descriptors inherited from Boost.Python.instance:\n",
      " |  \n",
      " |  __dict__\n",
      " |  \n",
      " |  __weakref__\n",
      "\n"
     ]
    }
   ],
   "source": [
    "help(feats[0])"
   ]
  },
  {
   "cell_type": "code",
   "execution_count": 33,
   "metadata": {
    "scrolled": true
   },
   "outputs": [
    {
     "name": "stdout",
     "output_type": "stream",
     "text": [
      "SingleAtomDonor (13,) Donor\n",
      "SingleAtomAcceptor (13,) Acceptor\n",
      "SingleAtomAcceptor (16,) Acceptor\n",
      "SingleAtomAcceptor (17,) Acceptor\n",
      "ThreeWayAttach (0,) Hydrophobe\n",
      "ThreeWayAttach (1,) Hydrophobe\n",
      "ThreeWayAttach (2,) Hydrophobe\n",
      "ThreeWayAttach (3,) Hydrophobe\n",
      "ThreeWayAttach (4,) Hydrophobe\n",
      "ThreeWayAttach (5,) Hydrophobe\n",
      "ThreeWayAttach (6,) Hydrophobe\n",
      "ThreeWayAttach (7,) Hydrophobe\n",
      "ThreeWayAttach (8,) Hydrophobe\n",
      "ThreeWayAttach (10,) Hydrophobe\n",
      "ThreeWayAttach (12,) Hydrophobe\n",
      "ThreeWayAttach (14,) Hydrophobe\n",
      "RH6_6 (0, 1, 2, 3, 4, 5) LumpedHydrophobe\n"
     ]
    }
   ],
   "source": [
    "for i in range(len(feats)):\n",
    "    print(feats[i].GetType(), feats[i].GetAtomIds(), feats[i].GetFamily())"
   ]
  },
  {
   "cell_type": "code",
   "execution_count": 31,
   "metadata": {},
   "outputs": [
    {
     "ename": "AttributeError",
     "evalue": "'tuple' object has no attribute 'GetAtomIds'",
     "output_type": "error",
     "traceback": [
      "\u001b[0;31m---------------------------------------------------------------------------\u001b[0m",
      "\u001b[0;31mAttributeError\u001b[0m                            Traceback (most recent call last)",
      "\u001b[0;32m<ipython-input-31-d7a007252ac0>\u001b[0m in \u001b[0;36m<module>\u001b[0;34m\u001b[0m\n\u001b[0;32m----> 1\u001b[0;31m \u001b[0mfeats\u001b[0m\u001b[0;34m.\u001b[0m\u001b[0mGetAtomIds\u001b[0m\u001b[0;34m(\u001b[0m\u001b[0;34m)\u001b[0m\u001b[0;34m\u001b[0m\u001b[0;34m\u001b[0m\u001b[0m\n\u001b[0m",
      "\u001b[0;31mAttributeError\u001b[0m: 'tuple' object has no attribute 'GetAtomIds'"
     ]
    }
   ],
   "source": [
    "feats.GetAtomIds()"
   ]
  },
  {
   "cell_type": "code",
   "execution_count": null,
   "metadata": {},
   "outputs": [],
   "source": []
  }
 ],
 "metadata": {
  "kernelspec": {
   "display_name": "Python 3",
   "language": "python",
   "name": "python3"
  },
  "language_info": {
   "codemirror_mode": {
    "name": "ipython",
    "version": 3
   },
   "file_extension": ".py",
   "mimetype": "text/x-python",
   "name": "python",
   "nbconvert_exporter": "python",
   "pygments_lexer": "ipython3",
   "version": "3.7.4"
  }
 },
 "nbformat": 4,
 "nbformat_minor": 4
}
