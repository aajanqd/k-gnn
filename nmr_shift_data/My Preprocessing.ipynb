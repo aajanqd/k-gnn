{
 "cells": [
  {
   "cell_type": "markdown",
   "metadata": {},
   "source": [
    "# Playing with Eric Jonas Dataset"
   ]
  },
  {
   "cell_type": "code",
   "execution_count": 1,
   "metadata": {},
   "outputs": [],
   "source": [
    "import pickle\n",
    "import netdataio\n",
    "import graph_conv_many_nuc_util\n",
    "import torch\n",
    "from rdkit import Chem\n",
    "from rdkit.Chem import Draw\n",
    "import numpy as np\n",
    "import pandas as pd\n",
    "import matplotlib.pyplot as plt\n",
    "from rdkit.Chem import PandasTools"
   ]
  },
  {
   "cell_type": "code",
   "execution_count": 263,
   "metadata": {},
   "outputs": [],
   "source": [
    "filename = 'graph_conv_many_nuc_pipeline.datasets/graph_conv_many_nuc_pipeline.data.13C.nmrshiftdb_hconfspcl_nmrshiftdb.aromatic.64.0.mol_dict.pickle'\n",
    "data = pickle.load(open(filename, 'rb'))"
   ]
  },
  {
   "cell_type": "code",
   "execution_count": 4,
   "metadata": {},
   "outputs": [],
   "source": [
    "hparams = graph_conv_many_nuc_util.DEFAULT_DATA_HPARAMS"
   ]
  },
  {
   "cell_type": "code",
   "execution_count": 5,
   "metadata": {},
   "outputs": [
    {
     "data": {
      "text/plain": [
       "{'feat_vect_args': {'feat_atomicno_onehot': [1, 6, 7, 8, 9, 15, 16, 17],\n",
       "  'feat_pos': False,\n",
       "  'feat_atomicno': True,\n",
       "  'feat_valence': True,\n",
       "  'aromatic': True,\n",
       "  'hybridization': True,\n",
       "  'partial_charge': False,\n",
       "  'formal_charge': True,\n",
       "  'r_covalent': False,\n",
       "  'total_valence_onehot': True,\n",
       "  'r_vanderwals': False,\n",
       "  'default_valence': True,\n",
       "  'rings': True},\n",
       " 'feat_mat_args': {'feat_distances': False, 'feat_r_pow': None},\n",
       " 'adj_args': {'edge_weighted': False,\n",
       "  'norm_adj': True,\n",
       "  'add_identity': True,\n",
       "  'split_weights': [1, 1.5, 2, 3]}}"
      ]
     },
     "execution_count": 5,
     "metadata": {},
     "output_type": "execute_result"
    }
   ],
   "source": [
    "graph_conv_many_nuc_util.DEFAULT_DATA_HPARAMS"
   ]
  },
  {
   "cell_type": "code",
   "execution_count": 6,
   "metadata": {},
   "outputs": [
    {
     "data": {
      "text/html": [
       "<div>\n",
       "<style scoped>\n",
       "    .dataframe tbody tr th:only-of-type {\n",
       "        vertical-align: middle;\n",
       "    }\n",
       "\n",
       "    .dataframe tbody tr th {\n",
       "        vertical-align: top;\n",
       "    }\n",
       "\n",
       "    .dataframe thead th {\n",
       "        text-align: right;\n",
       "    }\n",
       "</style>\n",
       "<table border=\"1\" class=\"dataframe\">\n",
       "  <thead>\n",
       "    <tr style=\"text-align: right;\">\n",
       "      <th></th>\n",
       "      <th>molecule_id</th>\n",
       "      <th>rdmol</th>\n",
       "      <th>spectra_ids</th>\n",
       "      <th>value</th>\n",
       "    </tr>\n",
       "  </thead>\n",
       "  <tbody>\n",
       "    <tr>\n",
       "      <th>0</th>\n",
       "      <td>4001</td>\n",
       "      <td>&lt;rdkit.Chem.rdchem.Mol object at 0x1a2e6b81f0&gt;</td>\n",
       "      <td>[1]</td>\n",
       "      <td>[{15: 193.4, 11: 203.0, 2: 33.5, 14: 33.5, 1: ...</td>\n",
       "    </tr>\n",
       "    <tr>\n",
       "      <th>2</th>\n",
       "      <td>4003</td>\n",
       "      <td>&lt;rdkit.Chem.rdchem.Mol object at 0x1a2e6b8270&gt;</td>\n",
       "      <td>[3]</td>\n",
       "      <td>[{10: 26.1, 9: 23.3, 6: 23.5, 1: 132.1, 8: 23....</td>\n",
       "    </tr>\n",
       "    <tr>\n",
       "      <th>3</th>\n",
       "      <td>4004</td>\n",
       "      <td>&lt;rdkit.Chem.rdchem.Mol object at 0x1a2e6b84b0&gt;</td>\n",
       "      <td>[4]</td>\n",
       "      <td>[{4: 38.7, 8: 38.7, 6: 73.5, 15: 25.2, 11: 18....</td>\n",
       "    </tr>\n",
       "    <tr>\n",
       "      <th>4</th>\n",
       "      <td>4006</td>\n",
       "      <td>&lt;rdkit.Chem.rdchem.Mol object at 0x1a2e6b8530&gt;</td>\n",
       "      <td>[6]</td>\n",
       "      <td>[{8: 120.9, 5: 146.0, 2: 109.4, 4: 159.8, 15: ...</td>\n",
       "    </tr>\n",
       "    <tr>\n",
       "      <th>6</th>\n",
       "      <td>4009</td>\n",
       "      <td>&lt;rdkit.Chem.rdchem.Mol object at 0x1a2e6b8770&gt;</td>\n",
       "      <td>[9]</td>\n",
       "      <td>[{26: 62.8, 22: 78.44, 0: 95.68, 1: 96.13, 7: ...</td>\n",
       "    </tr>\n",
       "    <tr>\n",
       "      <th>...</th>\n",
       "      <td>...</td>\n",
       "      <td>...</td>\n",
       "      <td>...</td>\n",
       "      <td>...</td>\n",
       "    </tr>\n",
       "    <tr>\n",
       "      <th>26908</th>\n",
       "      <td>44689</td>\n",
       "      <td>&lt;rdkit.Chem.rdchem.Mol object at 0x1a2e9e7af0&gt;</td>\n",
       "      <td>[49498]</td>\n",
       "      <td>[{2: 70.9, 16: 73.8, 13: 27.8, 14: 120.5, 10: ...</td>\n",
       "    </tr>\n",
       "    <tr>\n",
       "      <th>26909</th>\n",
       "      <td>44692</td>\n",
       "      <td>&lt;rdkit.Chem.rdchem.Mol object at 0x1a2e9e7b70&gt;</td>\n",
       "      <td>[49504]</td>\n",
       "      <td>[{0: 98.2, 10: 134.0, 6: 145.3, 9: 120.6, 11: ...</td>\n",
       "    </tr>\n",
       "    <tr>\n",
       "      <th>26910</th>\n",
       "      <td>44693</td>\n",
       "      <td>&lt;rdkit.Chem.rdchem.Mol object at 0x1a2e9e7bf0&gt;</td>\n",
       "      <td>[49505]</td>\n",
       "      <td>[{13: 24.5, 8: 51.8, 17: 148.7, 11: 69.5, 19: ...</td>\n",
       "    </tr>\n",
       "    <tr>\n",
       "      <th>26911</th>\n",
       "      <td>44695</td>\n",
       "      <td>&lt;rdkit.Chem.rdchem.Mol object at 0x1a2e9e7c70&gt;</td>\n",
       "      <td>[49508]</td>\n",
       "      <td>[{17: 23.1, 6: 75.2, 16: 176.4, 1: 47.6, 14: 7...</td>\n",
       "    </tr>\n",
       "    <tr>\n",
       "      <th>26912</th>\n",
       "      <td>44696</td>\n",
       "      <td>&lt;rdkit.Chem.rdchem.Mol object at 0x1a2e9e7cf0&gt;</td>\n",
       "      <td>[49509]</td>\n",
       "      <td>[{9: 29.4, 8: 73.3, 10: 28.9, 0: 48.4, 3: 36.1...</td>\n",
       "    </tr>\n",
       "  </tbody>\n",
       "</table>\n",
       "<p>21523 rows × 4 columns</p>\n",
       "</div>"
      ],
      "text/plain": [
       "       molecule_id                                           rdmol  \\\n",
       "0             4001  <rdkit.Chem.rdchem.Mol object at 0x1a2e6b81f0>   \n",
       "2             4003  <rdkit.Chem.rdchem.Mol object at 0x1a2e6b8270>   \n",
       "3             4004  <rdkit.Chem.rdchem.Mol object at 0x1a2e6b84b0>   \n",
       "4             4006  <rdkit.Chem.rdchem.Mol object at 0x1a2e6b8530>   \n",
       "6             4009  <rdkit.Chem.rdchem.Mol object at 0x1a2e6b8770>   \n",
       "...            ...                                             ...   \n",
       "26908        44689  <rdkit.Chem.rdchem.Mol object at 0x1a2e9e7af0>   \n",
       "26909        44692  <rdkit.Chem.rdchem.Mol object at 0x1a2e9e7b70>   \n",
       "26910        44693  <rdkit.Chem.rdchem.Mol object at 0x1a2e9e7bf0>   \n",
       "26911        44695  <rdkit.Chem.rdchem.Mol object at 0x1a2e9e7c70>   \n",
       "26912        44696  <rdkit.Chem.rdchem.Mol object at 0x1a2e9e7cf0>   \n",
       "\n",
       "      spectra_ids                                              value  \n",
       "0             [1]  [{15: 193.4, 11: 203.0, 2: 33.5, 14: 33.5, 1: ...  \n",
       "2             [3]  [{10: 26.1, 9: 23.3, 6: 23.5, 1: 132.1, 8: 23....  \n",
       "3             [4]  [{4: 38.7, 8: 38.7, 6: 73.5, 15: 25.2, 11: 18....  \n",
       "4             [6]  [{8: 120.9, 5: 146.0, 2: 109.4, 4: 159.8, 15: ...  \n",
       "6             [9]  [{26: 62.8, 22: 78.44, 0: 95.68, 1: 96.13, 7: ...  \n",
       "...           ...                                                ...  \n",
       "26908     [49498]  [{2: 70.9, 16: 73.8, 13: 27.8, 14: 120.5, 10: ...  \n",
       "26909     [49504]  [{0: 98.2, 10: 134.0, 6: 145.3, 9: 120.6, 11: ...  \n",
       "26910     [49505]  [{13: 24.5, 8: 51.8, 17: 148.7, 11: 69.5, 19: ...  \n",
       "26911     [49508]  [{17: 23.1, 6: 75.2, 16: 176.4, 1: 47.6, 14: 7...  \n",
       "26912     [49509]  [{9: 29.4, 8: 73.3, 10: 28.9, 0: 48.4, 3: 36.1...  \n",
       "\n",
       "[21523 rows x 4 columns]"
      ]
     },
     "execution_count": 6,
     "metadata": {},
     "output_type": "execute_result"
    }
   ],
   "source": [
    "d['train_df']"
   ]
  },
  {
   "cell_type": "code",
   "execution_count": 265,
   "metadata": {},
   "outputs": [
    {
     "data": {
      "image/png": "[encoded data removed]",
      "text/plain": [
       "<rdkit.Chem.rdchem.Mol at 0x1a459713f0>"
      ]
     },
     "execution_count": 265,
     "metadata": {},
     "output_type": "execute_result"
    }
   ],
   "source": [
    "data['train_df']['rdmol'][0]"
   ]
  },
  {
   "cell_type": "code",
   "execution_count": 21,
   "metadata": {},
   "outputs": [],
   "source": [
    "mols_dict = {}\n",
    "for i in d['train_df']['rdmol']:\n",
    "    if i not in mols_dict:\n",
    "        mols_dict[i] = 1\n",
    "    else:\n",
    "        mols_dict[i] += 1"
   ]
  },
  {
   "cell_type": "code",
   "execution_count": 43,
   "metadata": {},
   "outputs": [],
   "source": [
    "mols_dict_ordered = {k: v for k, v in sorted(mols_dict.items(), key=lambda item: item[1], reverse = False)}"
   ]
  },
  {
   "cell_type": "code",
   "execution_count": 44,
   "metadata": {},
   "outputs": [],
   "source": [
    "mols_count = {}\n",
    "for i in mols_dict_ordered:\n",
    "    if mols_dict_ordered[i] not in mols_count:\n",
    "        mols_count[mols_dict_ordered[i]]=1\n",
    "    else: \n",
    "        mols_count[mols_dict_ordered[i]]+=1"
   ]
  },
  {
   "cell_type": "code",
   "execution_count": 45,
   "metadata": {},
   "outputs": [
    {
     "data": {
      "text/plain": [
       "{1: 19071, 2: 974, 3: 140, 4: 17, 5: 2, 6: 1}"
      ]
     },
     "execution_count": 45,
     "metadata": {},
     "output_type": "execute_result"
    }
   ],
   "source": [
    "mols_count"
   ]
  },
  {
   "cell_type": "code",
   "execution_count": 32,
   "metadata": {},
   "outputs": [
    {
     "data": {
      "text/plain": [
       "dict_keys([6, 5, 4, 3, 2, 1])"
      ]
     },
     "execution_count": 32,
     "metadata": {},
     "output_type": "execute_result"
    }
   ],
   "source": [
    "mols_count.keys()"
   ]
  },
  {
   "cell_type": "code",
   "execution_count": 34,
   "metadata": {},
   "outputs": [
    {
     "data": {
      "text/plain": [
       "dict_values([1, 2, 17, 140, 974, 19071])"
      ]
     },
     "execution_count": 34,
     "metadata": {},
     "output_type": "execute_result"
    }
   ],
   "source": [
    "mols_count.values()"
   ]
  },
  {
   "cell_type": "markdown",
   "metadata": {},
   "source": [
    "### Distribution of dupilcates per molecule"
   ]
  },
  {
   "cell_type": "code",
   "execution_count": 46,
   "metadata": {},
   "outputs": [
    {
     "data": {
      "image/png": "[encoded data removed]",
      "text/plain": [
       "<Figure size 432x288 with 1 Axes>"
      ]
     },
     "metadata": {
      "needs_background": "light"
     },
     "output_type": "display_data"
    }
   ],
   "source": [
    "import matplotlib.pyplot as plt\n",
    "x, y = list(mols_count.keys()), list(mols_count.values())\n",
    "plt.plot(x,y)\n",
    "plt.xlabel('Number of Duplicates per Molecule')\n",
    "plt.ylabel('Number of Molecules')\n",
    "plt.show()"
   ]
  },
  {
   "cell_type": "code",
   "execution_count": 7,
   "metadata": {},
   "outputs": [],
   "source": [
    "bonds = []\n",
    "for i in d['train_df']['rdmol']:\n",
    "    bonds.append(i.GetNumBonds())"
   ]
  },
  {
   "cell_type": "code",
   "execution_count": 9,
   "metadata": {},
   "outputs": [
    {
     "data": {
      "text/plain": [
       "140"
      ]
     },
     "execution_count": 9,
     "metadata": {},
     "output_type": "execute_result"
    }
   ],
   "source": [
    "max(bonds)*2"
   ]
  },
  {
   "cell_type": "code",
   "execution_count": 208,
   "metadata": {},
   "outputs": [
    {
     "data": {
      "text/plain": [
       "[{15: 193.4,\n",
       "  11: 203.0,\n",
       "  2: 33.5,\n",
       "  14: 33.5,\n",
       "  1: 41.8,\n",
       "  6: 26.5,\n",
       "  10: 17.6,\n",
       "  8: 140.99,\n",
       "  0: 18.3,\n",
       "  4: 42.0,\n",
       "  7: 158.3,\n",
       "  12: 22.6,\n",
       "  5: 31.7,\n",
       "  3: 42.2,\n",
       "  9: 78.34}]"
      ]
     },
     "execution_count": 208,
     "metadata": {},
     "output_type": "execute_result"
    }
   ],
   "source": [
    "d['train_df']['value'][0]"
   ]
  },
  {
   "cell_type": "code",
   "execution_count": 9,
   "metadata": {
    "scrolled": true
   },
   "outputs": [
    {
     "data": {
      "text/plain": [
       "64"
      ]
     },
     "execution_count": 9,
     "metadata": {},
     "output_type": "execute_result"
    }
   ],
   "source": [
    "d['MAX_N']"
   ]
  },
  {
   "cell_type": "code",
   "execution_count": 10,
   "metadata": {},
   "outputs": [
    {
     "data": {
      "text/plain": [
       "[('13C', 'dataset.named/spectra.nmrshiftdb_13C.feather')]"
      ]
     },
     "execution_count": 10,
     "metadata": {},
     "output_type": "execute_result"
    }
   ],
   "source": [
    "d['spectra_config']"
   ]
  },
  {
   "cell_type": "code",
   "execution_count": 11,
   "metadata": {},
   "outputs": [
    {
     "data": {
      "text/plain": [
       "['13C']"
      ]
     },
     "execution_count": 11,
     "metadata": {},
     "output_type": "execute_result"
    }
   ],
   "source": [
    "d['tgt_nucs']"
   ]
  },
  {
   "cell_type": "code",
   "execution_count": 12,
   "metadata": {},
   "outputs": [],
   "source": [
    "train_df = d['train_df']\n",
    "tgt_nucs = d['tgt_nucs']\n",
    "test_df = d['test_df'] #.sample(10000, random_state=10)"
   ]
  },
  {
   "cell_type": "code",
   "execution_count": 13,
   "metadata": {},
   "outputs": [],
   "source": [
    "MAX_N = d['MAX_N']\n",
    "\n",
    "datasets = {}\n",
    "\n",
    "for phase, df in [('train', train_df), \n",
    "                  ('test', test_df)]:\n",
    "\n",
    "\n",
    "    ds = netdataio.MoleculeDatasetMulti(df.rdmol.tolist(), \n",
    "                                        df.value.tolist(),  \n",
    "                                        MAX_N, len(tgt_nucs), \n",
    "                                        hparams['feat_vect_args'], \n",
    "                                        hparams['feat_mat_args'], \n",
    "                                        hparams['adj_args'])        \n",
    "    datasets[phase] = ds"
   ]
  },
  {
   "cell_type": "markdown",
   "metadata": {},
   "source": [
    "### Looking at adjacency matrices"
   ]
  },
  {
   "cell_type": "code",
   "execution_count": 219,
   "metadata": {
    "scrolled": true
   },
   "outputs": [
    {
     "data": {
      "text/plain": [
       "5"
      ]
     },
     "execution_count": 219,
     "metadata": {},
     "output_type": "execute_result"
    }
   ],
   "source": [
    "len(datasets['train'][0])"
   ]
  },
  {
   "cell_type": "code",
   "execution_count": 222,
   "metadata": {},
   "outputs": [],
   "source": [
    "adj = datasets['train'][0][0]"
   ]
  },
  {
   "cell_type": "code",
   "execution_count": 225,
   "metadata": {},
   "outputs": [
    {
     "data": {
      "text/plain": [
       "tensor([[0.2000, 0.2000, 0.0000,  ..., 0.0000, 0.0000, 0.0000],\n",
       "        [0.2000, 0.2000, 0.2000,  ..., 0.0000, 0.0000, 0.0000],\n",
       "        [0.0000, 0.2000, 0.2000,  ..., 0.0000, 0.0000, 0.0000],\n",
       "        ...,\n",
       "        [0.0000, 0.0000, 0.0000,  ..., 0.0000, 0.0000, 0.0000],\n",
       "        [0.0000, 0.0000, 0.0000,  ..., 0.0000, 0.0000, 0.0000],\n",
       "        [0.0000, 0.0000, 0.0000,  ..., 0.0000, 0.0000, 0.0000]])"
      ]
     },
     "execution_count": 225,
     "metadata": {},
     "output_type": "execute_result"
    }
   ],
   "source": [
    "adj[0]"
   ]
  },
  {
   "cell_type": "code",
   "execution_count": 226,
   "metadata": {},
   "outputs": [
    {
     "data": {
      "text/plain": [
       "tensor([[1., 0., 0.,  ..., 0., 0., 0.],\n",
       "        [0., 1., 0.,  ..., 0., 0., 0.],\n",
       "        [0., 0., 1.,  ..., 0., 0., 0.],\n",
       "        ...,\n",
       "        [0., 0., 0.,  ..., 0., 0., 0.],\n",
       "        [0., 0., 0.,  ..., 0., 0., 0.],\n",
       "        [0., 0., 0.,  ..., 0., 0., 0.]])"
      ]
     },
     "execution_count": 226,
     "metadata": {},
     "output_type": "execute_result"
    }
   ],
   "source": [
    "adj[1]"
   ]
  },
  {
   "cell_type": "code",
   "execution_count": 227,
   "metadata": {},
   "outputs": [
    {
     "data": {
      "text/plain": [
       "tensor([[1., 0., 0.,  ..., 0., 0., 0.],\n",
       "        [0., 1., 0.,  ..., 0., 0., 0.],\n",
       "        [0., 0., 1.,  ..., 0., 0., 0.],\n",
       "        ...,\n",
       "        [0., 0., 0.,  ..., 0., 0., 0.],\n",
       "        [0., 0., 0.,  ..., 0., 0., 0.],\n",
       "        [0., 0., 0.,  ..., 0., 0., 0.]])"
      ]
     },
     "execution_count": 227,
     "metadata": {},
     "output_type": "execute_result"
    }
   ],
   "source": [
    "adj[2]"
   ]
  },
  {
   "cell_type": "code",
   "execution_count": 229,
   "metadata": {
    "scrolled": true
   },
   "outputs": [
    {
     "name": "stdout",
     "output_type": "stream",
     "text": [
      "tensor([[1., 0., 0.,  ..., 0., 0., 0.],\n",
      "        [0., 1., 0.,  ..., 0., 0., 0.],\n",
      "        [0., 0., 1.,  ..., 0., 0., 0.],\n",
      "        ...,\n",
      "        [0., 0., 0.,  ..., 0., 0., 0.],\n",
      "        [0., 0., 0.,  ..., 0., 0., 0.],\n",
      "        [0., 0., 0.,  ..., 0., 0., 0.]])\n"
     ]
    }
   ],
   "source": [
    "print(adj[3])"
   ]
  },
  {
   "cell_type": "code",
   "execution_count": 231,
   "metadata": {},
   "outputs": [
    {
     "name": "stdout",
     "output_type": "stream",
     "text": [
      "tensor([1., 0., 0., 0., 0., 0., 0., 0., 0., 0., 0., 0., 0., 0., 0., 0., 0., 0.,\n",
      "        0., 0., 0., 0., 0., 0., 0., 0., 0., 0., 0., 0., 0., 0., 0., 0., 0., 0.,\n",
      "        0., 0., 0., 0., 0., 0., 0., 0., 0., 0., 0., 0., 0., 0., 0., 0., 0., 0.,\n",
      "        0., 0., 0., 0., 0., 0., 0., 0., 0., 0.])\n"
     ]
    }
   ],
   "source": [
    "torch.set_printoptions(profile=\"full\")\n",
    "print(adj[3][0])\n",
    "torch.set_printoptions(profile=\"default\")"
   ]
  },
  {
   "cell_type": "code",
   "execution_count": 237,
   "metadata": {},
   "outputs": [
    {
     "name": "stdout",
     "output_type": "stream",
     "text": [
      "tensor([0.2000, 0.2000, 0.0000, 0.0000, 0.0000, 0.2000, 0.0000, 0.0000, 0.0000,\n",
      "        0.0000, 0.0000, 0.0000, 0.0000, 0.0000, 0.0000, 0.0000, 0.0000, 0.0000,\n",
      "        0.3162, 0.3162, 0.0000, 0.0000, 0.0000, 0.0000, 0.0000, 0.0000, 0.0000,\n",
      "        0.0000, 0.0000, 0.0000, 0.0000, 0.0000, 0.0000, 0.0000, 0.0000, 0.0000,\n",
      "        0.0000, 0.0000, 0.0000, 0.0000, 0.0000, 0.0000, 0.0000, 0.0000, 0.0000,\n",
      "        0.0000, 0.0000, 0.0000, 0.0000, 0.0000, 0.0000, 0.0000, 0.0000, 0.0000,\n",
      "        0.0000, 0.0000, 0.0000, 0.0000, 0.0000, 0.0000, 0.0000, 0.0000, 0.0000,\n",
      "        0.0000]) 0\n",
      "tensor([0.2000, 0.2000, 0.0000, 0.0000, 0.0000, 0.2000, 0.0000, 0.0000, 0.0000,\n",
      "        0.0000, 0.0000, 0.0000, 0.0000, 0.0000, 0.0000, 0.0000, 0.0000, 0.0000,\n",
      "        0.3162, 0.3162, 0.0000, 0.0000, 0.0000, 0.0000, 0.0000, 0.0000, 0.0000,\n",
      "        0.0000, 0.0000, 0.0000, 0.0000, 0.0000, 0.0000, 0.0000, 0.0000, 0.0000,\n",
      "        0.0000, 0.0000, 0.0000, 0.0000, 0.0000, 0.0000, 0.0000, 0.0000, 0.0000,\n",
      "        0.0000, 0.0000, 0.0000, 0.0000, 0.0000, 0.0000, 0.0000, 0.0000, 0.0000,\n",
      "        0.0000, 0.0000, 0.0000, 0.0000, 0.0000, 0.0000, 0.0000, 0.0000, 0.0000,\n",
      "        0.0000]) 0\n",
      "tensor([0.2000, 0.2000, 0.0000, 0.0000, 0.0000, 0.2000, 0.0000, 0.0000, 0.0000,\n",
      "        0.0000, 0.0000, 0.0000, 0.0000, 0.0000, 0.0000, 0.0000, 0.0000, 0.0000,\n",
      "        0.3162, 0.3162, 0.0000, 0.0000, 0.0000, 0.0000, 0.0000, 0.0000, 0.0000,\n",
      "        0.0000, 0.0000, 0.0000, 0.0000, 0.0000, 0.0000, 0.0000, 0.0000, 0.0000,\n",
      "        0.0000, 0.0000, 0.0000, 0.0000, 0.0000, 0.0000, 0.0000, 0.0000, 0.0000,\n",
      "        0.0000, 0.0000, 0.0000, 0.0000, 0.0000, 0.0000, 0.0000, 0.0000, 0.0000,\n",
      "        0.0000, 0.0000, 0.0000, 0.0000, 0.0000, 0.0000, 0.0000, 0.0000, 0.0000,\n",
      "        0.0000]) 0\n",
      "tensor([0.2000, 0.2000, 0.0000, 0.0000, 0.0000, 0.2000, 0.0000, 0.0000, 0.0000,\n",
      "        0.0000, 0.0000, 0.0000, 0.0000, 0.0000, 0.0000, 0.0000, 0.0000, 0.0000,\n",
      "        0.3162, 0.3162, 0.0000, 0.0000, 0.0000, 0.0000, 0.0000, 0.0000, 0.0000,\n",
      "        0.0000, 0.0000, 0.0000, 0.0000, 0.0000, 0.0000, 0.0000, 0.0000, 0.0000,\n",
      "        0.0000, 0.0000, 0.0000, 0.0000, 0.0000, 0.0000, 0.0000, 0.0000, 0.0000,\n",
      "        0.0000, 0.0000, 0.0000, 0.0000, 0.0000, 0.0000, 0.0000, 0.0000, 0.0000,\n",
      "        0.0000, 0.0000, 0.0000, 0.0000, 0.0000, 0.0000, 0.0000, 0.0000, 0.0000,\n",
      "        0.0000]) 0\n",
      "tensor([0.2000, 0.2000, 0.2000, 0.0000, 0.0000, 0.0000, 0.0000, 0.0000, 0.0000,\n",
      "        0.0000, 0.0000, 0.0000, 0.0000, 0.0000, 0.0000, 0.0000, 0.0000, 0.0000,\n",
      "        0.0000, 0.0000, 0.3162, 0.3162, 0.0000, 0.0000, 0.0000, 0.0000, 0.0000,\n",
      "        0.0000, 0.0000, 0.0000, 0.0000, 0.0000, 0.0000, 0.0000, 0.0000, 0.0000,\n",
      "        0.0000, 0.0000, 0.0000, 0.0000, 0.0000, 0.0000, 0.0000, 0.0000, 0.0000,\n",
      "        0.0000, 0.0000, 0.0000, 0.0000, 0.0000, 0.0000, 0.0000, 0.0000, 0.0000,\n",
      "        0.0000, 0.0000, 0.0000, 0.0000, 0.0000, 0.0000, 0.0000, 0.0000, 0.0000,\n",
      "        0.0000]) 1\n",
      "tensor([0.2000, 0.2000, 0.2000, 0.0000, 0.0000, 0.0000, 0.0000, 0.0000, 0.0000,\n",
      "        0.0000, 0.0000, 0.0000, 0.0000, 0.0000, 0.0000, 0.0000, 0.0000, 0.0000,\n",
      "        0.0000, 0.0000, 0.3162, 0.3162, 0.0000, 0.0000, 0.0000, 0.0000, 0.0000,\n",
      "        0.0000, 0.0000, 0.0000, 0.0000, 0.0000, 0.0000, 0.0000, 0.0000, 0.0000,\n",
      "        0.0000, 0.0000, 0.0000, 0.0000, 0.0000, 0.0000, 0.0000, 0.0000, 0.0000,\n",
      "        0.0000, 0.0000, 0.0000, 0.0000, 0.0000, 0.0000, 0.0000, 0.0000, 0.0000,\n",
      "        0.0000, 0.0000, 0.0000, 0.0000, 0.0000, 0.0000, 0.0000, 0.0000, 0.0000,\n",
      "        0.0000]) 1\n",
      "tensor([0.2000, 0.2000, 0.2000, 0.0000, 0.0000, 0.0000, 0.0000, 0.0000, 0.0000,\n",
      "        0.0000, 0.0000, 0.0000, 0.0000, 0.0000, 0.0000, 0.0000, 0.0000, 0.0000,\n",
      "        0.0000, 0.0000, 0.3162, 0.3162, 0.0000, 0.0000, 0.0000, 0.0000, 0.0000,\n",
      "        0.0000, 0.0000, 0.0000, 0.0000, 0.0000, 0.0000, 0.0000, 0.0000, 0.0000,\n",
      "        0.0000, 0.0000, 0.0000, 0.0000, 0.0000, 0.0000, 0.0000, 0.0000, 0.0000,\n",
      "        0.0000, 0.0000, 0.0000, 0.0000, 0.0000, 0.0000, 0.0000, 0.0000, 0.0000,\n",
      "        0.0000, 0.0000, 0.0000, 0.0000, 0.0000, 0.0000, 0.0000, 0.0000, 0.0000,\n",
      "        0.0000]) 1\n",
      "tensor([0.2000, 0.2000, 0.2000, 0.0000, 0.0000, 0.0000, 0.0000, 0.0000, 0.0000,\n",
      "        0.0000, 0.0000, 0.0000, 0.0000, 0.0000, 0.0000, 0.0000, 0.0000, 0.0000,\n",
      "        0.0000, 0.0000, 0.3162, 0.3162, 0.0000, 0.0000, 0.0000, 0.0000, 0.0000,\n",
      "        0.0000, 0.0000, 0.0000, 0.0000, 0.0000, 0.0000, 0.0000, 0.0000, 0.0000,\n",
      "        0.0000, 0.0000, 0.0000, 0.0000, 0.0000, 0.0000, 0.0000, 0.0000, 0.0000,\n",
      "        0.0000, 0.0000, 0.0000, 0.0000, 0.0000, 0.0000, 0.0000, 0.0000, 0.0000,\n",
      "        0.0000, 0.0000, 0.0000, 0.0000, 0.0000, 0.0000, 0.0000, 0.0000, 0.0000,\n",
      "        0.0000]) 1\n",
      "tensor([0.0000, 0.2000, 0.2000, 0.2000, 0.0000, 0.0000, 0.0000, 0.0000, 0.0000,\n",
      "        0.0000, 0.0000, 0.0000, 0.2000, 0.0000, 0.2000, 0.0000, 0.0000, 0.0000,\n",
      "        0.0000, 0.0000, 0.0000, 0.0000, 0.0000, 0.0000, 0.0000, 0.0000, 0.0000,\n",
      "        0.0000, 0.0000, 0.0000, 0.0000, 0.0000, 0.0000, 0.0000, 0.0000, 0.0000,\n",
      "        0.0000, 0.0000, 0.0000, 0.0000, 0.0000, 0.0000, 0.0000, 0.0000, 0.0000,\n",
      "        0.0000, 0.0000, 0.0000, 0.0000, 0.0000, 0.0000, 0.0000, 0.0000, 0.0000,\n",
      "        0.0000, 0.0000, 0.0000, 0.0000, 0.0000, 0.0000, 0.0000, 0.0000, 0.0000,\n",
      "        0.0000]) 2\n",
      "tensor([0.0000, 0.2000, 0.2000, 0.2000, 0.0000, 0.0000, 0.0000, 0.0000, 0.0000,\n",
      "        0.0000, 0.0000, 0.0000, 0.2000, 0.0000, 0.2000, 0.0000, 0.0000, 0.0000,\n",
      "        0.0000, 0.0000, 0.0000, 0.0000, 0.0000, 0.0000, 0.0000, 0.0000, 0.0000,\n",
      "        0.0000, 0.0000, 0.0000, 0.0000, 0.0000, 0.0000, 0.0000, 0.0000, 0.0000,\n",
      "        0.0000, 0.0000, 0.0000, 0.0000, 0.0000, 0.0000, 0.0000, 0.0000, 0.0000,\n",
      "        0.0000, 0.0000, 0.0000, 0.0000, 0.0000, 0.0000, 0.0000, 0.0000, 0.0000,\n",
      "        0.0000, 0.0000, 0.0000, 0.0000, 0.0000, 0.0000, 0.0000, 0.0000, 0.0000,\n",
      "        0.0000]) 2\n",
      "tensor([0.0000, 0.2000, 0.2000, 0.2000, 0.0000, 0.0000, 0.0000, 0.0000, 0.0000,\n",
      "        0.0000, 0.0000, 0.0000, 0.2000, 0.0000, 0.2000, 0.0000, 0.0000, 0.0000,\n",
      "        0.0000, 0.0000, 0.0000, 0.0000, 0.0000, 0.0000, 0.0000, 0.0000, 0.0000,\n",
      "        0.0000, 0.0000, 0.0000, 0.0000, 0.0000, 0.0000, 0.0000, 0.0000, 0.0000,\n",
      "        0.0000, 0.0000, 0.0000, 0.0000, 0.0000, 0.0000, 0.0000, 0.0000, 0.0000,\n",
      "        0.0000, 0.0000, 0.0000, 0.0000, 0.0000, 0.0000, 0.0000, 0.0000, 0.0000,\n",
      "        0.0000, 0.0000, 0.0000, 0.0000, 0.0000, 0.0000, 0.0000, 0.0000, 0.0000,\n",
      "        0.0000]) 2\n",
      "tensor([0.0000, 0.2000, 0.2000, 0.2000, 0.0000, 0.0000, 0.0000, 0.0000, 0.0000,\n",
      "        0.0000, 0.0000, 0.0000, 0.2000, 0.0000, 0.2000, 0.0000, 0.0000, 0.0000,\n",
      "        0.0000, 0.0000, 0.0000, 0.0000, 0.0000, 0.0000, 0.0000, 0.0000, 0.0000,\n",
      "        0.0000, 0.0000, 0.0000, 0.0000, 0.0000, 0.0000, 0.0000, 0.0000, 0.0000,\n",
      "        0.0000, 0.0000, 0.0000, 0.0000, 0.0000, 0.0000, 0.0000, 0.0000, 0.0000,\n",
      "        0.0000, 0.0000, 0.0000, 0.0000, 0.0000, 0.0000, 0.0000, 0.0000, 0.0000,\n",
      "        0.0000, 0.0000, 0.0000, 0.0000, 0.0000, 0.0000, 0.0000, 0.0000, 0.0000,\n",
      "        0.0000]) 2\n",
      "tensor([0.0000, 0.0000, 0.2000, 0.2000, 0.2000, 0.0000, 0.2000, 0.0000, 0.0000,\n",
      "        0.0000, 0.0000, 0.0000, 0.0000, 0.0000, 0.0000, 0.0000, 0.0000, 0.0000,\n",
      "        0.0000, 0.0000, 0.0000, 0.0000, 0.3162, 0.0000, 0.0000, 0.0000, 0.0000,\n",
      "        0.0000, 0.0000, 0.0000, 0.0000, 0.0000, 0.0000, 0.0000, 0.0000, 0.0000,\n",
      "        0.0000, 0.0000, 0.0000, 0.0000, 0.0000, 0.0000, 0.0000, 0.0000, 0.0000,\n",
      "        0.0000, 0.0000, 0.0000, 0.0000, 0.0000, 0.0000, 0.0000, 0.0000, 0.0000,\n",
      "        0.0000, 0.0000, 0.0000, 0.0000, 0.0000, 0.0000, 0.0000, 0.0000, 0.0000,\n",
      "        0.0000]) 3\n",
      "tensor([0.0000, 0.0000, 0.2000, 0.2000, 0.2000, 0.0000, 0.2000, 0.0000, 0.0000,\n",
      "        0.0000, 0.0000, 0.0000, 0.0000, 0.0000, 0.0000, 0.0000, 0.0000, 0.0000,\n",
      "        0.0000, 0.0000, 0.0000, 0.0000, 0.3162, 0.0000, 0.0000, 0.0000, 0.0000,\n",
      "        0.0000, 0.0000, 0.0000, 0.0000, 0.0000, 0.0000, 0.0000, 0.0000, 0.0000,\n",
      "        0.0000, 0.0000, 0.0000, 0.0000, 0.0000, 0.0000, 0.0000, 0.0000, 0.0000,\n",
      "        0.0000, 0.0000, 0.0000, 0.0000, 0.0000, 0.0000, 0.0000, 0.0000, 0.0000,\n",
      "        0.0000, 0.0000, 0.0000, 0.0000, 0.0000, 0.0000, 0.0000, 0.0000, 0.0000,\n",
      "        0.0000]) 3\n",
      "tensor([0.0000, 0.0000, 0.2000, 0.2000, 0.2000, 0.0000, 0.2000, 0.0000, 0.0000,\n",
      "        0.0000, 0.0000, 0.0000, 0.0000, 0.0000, 0.0000, 0.0000, 0.0000, 0.0000,\n",
      "        0.0000, 0.0000, 0.0000, 0.0000, 0.3162, 0.0000, 0.0000, 0.0000, 0.0000,\n",
      "        0.0000, 0.0000, 0.0000, 0.0000, 0.0000, 0.0000, 0.0000, 0.0000, 0.0000,\n",
      "        0.0000, 0.0000, 0.0000, 0.0000, 0.0000, 0.0000, 0.0000, 0.0000, 0.0000,\n",
      "        0.0000, 0.0000, 0.0000, 0.0000, 0.0000, 0.0000, 0.0000, 0.0000, 0.0000,\n",
      "        0.0000, 0.0000, 0.0000, 0.0000, 0.0000, 0.0000, 0.0000, 0.0000, 0.0000,\n",
      "        0.0000]) 3\n",
      "tensor([0.0000, 0.0000, 0.2000, 0.2000, 0.2000, 0.0000, 0.2000, 0.0000, 0.0000,\n",
      "        0.0000, 0.0000, 0.0000, 0.0000, 0.0000, 0.0000, 0.0000, 0.0000, 0.0000,\n",
      "        0.0000, 0.0000, 0.0000, 0.0000, 0.3162, 0.0000, 0.0000, 0.0000, 0.0000,\n",
      "        0.0000, 0.0000, 0.0000, 0.0000, 0.0000, 0.0000, 0.0000, 0.0000, 0.0000,\n",
      "        0.0000, 0.0000, 0.0000, 0.0000, 0.0000, 0.0000, 0.0000, 0.0000, 0.0000,\n",
      "        0.0000, 0.0000, 0.0000, 0.0000, 0.0000, 0.0000, 0.0000, 0.0000, 0.0000,\n",
      "        0.0000, 0.0000, 0.0000, 0.0000, 0.0000, 0.0000, 0.0000, 0.0000, 0.0000,\n",
      "        0.0000]) 3\n",
      "tensor([0.0000, 0.0000, 0.0000, 0.2000, 0.2000, 0.2000, 0.0000, 0.0000, 0.0000,\n",
      "        0.2000, 0.2000, 0.0000, 0.0000, 0.0000, 0.0000, 0.0000, 0.0000, 0.0000,\n",
      "        0.0000, 0.0000, 0.0000, 0.0000, 0.0000, 0.0000, 0.0000, 0.0000, 0.0000,\n",
      "        0.0000, 0.0000, 0.0000, 0.0000, 0.0000, 0.0000, 0.0000, 0.0000, 0.0000,\n",
      "        0.0000, 0.0000, 0.0000, 0.0000, 0.0000, 0.0000, 0.0000, 0.0000, 0.0000,\n",
      "        0.0000, 0.0000, 0.0000, 0.0000, 0.0000, 0.0000, 0.0000, 0.0000, 0.0000,\n",
      "        0.0000, 0.0000, 0.0000, 0.0000, 0.0000, 0.0000, 0.0000, 0.0000, 0.0000,\n",
      "        0.0000]) 4\n",
      "tensor([0.0000, 0.0000, 0.0000, 0.2000, 0.2000, 0.2000, 0.0000, 0.0000, 0.0000,\n",
      "        0.2000, 0.2000, 0.0000, 0.0000, 0.0000, 0.0000, 0.0000, 0.0000, 0.0000,\n",
      "        0.0000, 0.0000, 0.0000, 0.0000, 0.0000, 0.0000, 0.0000, 0.0000, 0.0000,\n",
      "        0.0000, 0.0000, 0.0000, 0.0000, 0.0000, 0.0000, 0.0000, 0.0000, 0.0000,\n",
      "        0.0000, 0.0000, 0.0000, 0.0000, 0.0000, 0.0000, 0.0000, 0.0000, 0.0000,\n",
      "        0.0000, 0.0000, 0.0000, 0.0000, 0.0000, 0.0000, 0.0000, 0.0000, 0.0000,\n",
      "        0.0000, 0.0000, 0.0000, 0.0000, 0.0000, 0.0000, 0.0000, 0.0000, 0.0000,\n",
      "        0.0000]) 4\n",
      "tensor([0.0000, 0.0000, 0.0000, 0.2000, 0.2000, 0.2000, 0.0000, 0.0000, 0.0000,\n",
      "        0.2000, 0.2000, 0.0000, 0.0000, 0.0000, 0.0000, 0.0000, 0.0000, 0.0000,\n",
      "        0.0000, 0.0000, 0.0000, 0.0000, 0.0000, 0.0000, 0.0000, 0.0000, 0.0000,\n",
      "        0.0000, 0.0000, 0.0000, 0.0000, 0.0000, 0.0000, 0.0000, 0.0000, 0.0000,\n",
      "        0.0000, 0.0000, 0.0000, 0.0000, 0.0000, 0.0000, 0.0000, 0.0000, 0.0000,\n",
      "        0.0000, 0.0000, 0.0000, 0.0000, 0.0000, 0.0000, 0.0000, 0.0000, 0.0000,\n",
      "        0.0000, 0.0000, 0.0000, 0.0000, 0.0000, 0.0000, 0.0000, 0.0000, 0.0000,\n",
      "        0.0000]) 4\n",
      "tensor([0.0000, 0.0000, 0.0000, 0.2000, 0.2000, 0.2000, 0.0000, 0.0000, 0.0000,\n",
      "        0.2000, 0.2000, 0.0000, 0.0000, 0.0000, 0.0000, 0.0000, 0.0000, 0.0000,\n",
      "        0.0000, 0.0000, 0.0000, 0.0000, 0.0000, 0.0000, 0.0000, 0.0000, 0.0000,\n",
      "        0.0000, 0.0000, 0.0000, 0.0000, 0.0000, 0.0000, 0.0000, 0.0000, 0.0000,\n",
      "        0.0000, 0.0000, 0.0000, 0.0000, 0.0000, 0.0000, 0.0000, 0.0000, 0.0000,\n",
      "        0.0000, 0.0000, 0.0000, 0.0000, 0.0000, 0.0000, 0.0000, 0.0000, 0.0000,\n",
      "        0.0000, 0.0000, 0.0000, 0.0000, 0.0000, 0.0000, 0.0000, 0.0000, 0.0000,\n",
      "        0.0000]) 4\n",
      "tensor([0.2000, 0.0000, 0.0000, 0.0000, 0.2000, 0.2000, 0.0000, 0.0000, 0.0000,\n",
      "        0.0000, 0.0000, 0.0000, 0.0000, 0.0000, 0.0000, 0.0000, 0.0000, 0.0000,\n",
      "        0.0000, 0.0000, 0.0000, 0.0000, 0.0000, 0.3162, 0.3162, 0.0000, 0.0000,\n",
      "        0.0000, 0.0000, 0.0000, 0.0000, 0.0000, 0.0000, 0.0000, 0.0000, 0.0000,\n",
      "        0.0000, 0.0000, 0.0000, 0.0000, 0.0000, 0.0000, 0.0000, 0.0000, 0.0000,\n",
      "        0.0000, 0.0000, 0.0000, 0.0000, 0.0000, 0.0000, 0.0000, 0.0000, 0.0000,\n",
      "        0.0000, 0.0000, 0.0000, 0.0000, 0.0000, 0.0000, 0.0000, 0.0000, 0.0000,\n",
      "        0.0000]) 5\n",
      "tensor([0.2000, 0.0000, 0.0000, 0.0000, 0.2000, 0.2000, 0.0000, 0.0000, 0.0000,\n",
      "        0.0000, 0.0000, 0.0000, 0.0000, 0.0000, 0.0000, 0.0000, 0.0000, 0.0000,\n",
      "        0.0000, 0.0000, 0.0000, 0.0000, 0.0000, 0.3162, 0.3162, 0.0000, 0.0000,\n",
      "        0.0000, 0.0000, 0.0000, 0.0000, 0.0000, 0.0000, 0.0000, 0.0000, 0.0000,\n",
      "        0.0000, 0.0000, 0.0000, 0.0000, 0.0000, 0.0000, 0.0000, 0.0000, 0.0000,\n",
      "        0.0000, 0.0000, 0.0000, 0.0000, 0.0000, 0.0000, 0.0000, 0.0000, 0.0000,\n",
      "        0.0000, 0.0000, 0.0000, 0.0000, 0.0000, 0.0000, 0.0000, 0.0000, 0.0000,\n",
      "        0.0000]) 5\n",
      "tensor([0.2000, 0.0000, 0.0000, 0.0000, 0.2000, 0.2000, 0.0000, 0.0000, 0.0000,\n",
      "        0.0000, 0.0000, 0.0000, 0.0000, 0.0000, 0.0000, 0.0000, 0.0000, 0.0000,\n",
      "        0.0000, 0.0000, 0.0000, 0.0000, 0.0000, 0.3162, 0.3162, 0.0000, 0.0000,\n",
      "        0.0000, 0.0000, 0.0000, 0.0000, 0.0000, 0.0000, 0.0000, 0.0000, 0.0000,\n",
      "        0.0000, 0.0000, 0.0000, 0.0000, 0.0000, 0.0000, 0.0000, 0.0000, 0.0000,\n",
      "        0.0000, 0.0000, 0.0000, 0.0000, 0.0000, 0.0000, 0.0000, 0.0000, 0.0000,\n",
      "        0.0000, 0.0000, 0.0000, 0.0000, 0.0000, 0.0000, 0.0000, 0.0000, 0.0000,\n",
      "        0.0000]) 5\n",
      "tensor([0.2000, 0.0000, 0.0000, 0.0000, 0.2000, 0.2000, 0.0000, 0.0000, 0.0000,\n",
      "        0.0000, 0.0000, 0.0000, 0.0000, 0.0000, 0.0000, 0.0000, 0.0000, 0.0000,\n",
      "        0.0000, 0.0000, 0.0000, 0.0000, 0.0000, 0.3162, 0.3162, 0.0000, 0.0000,\n",
      "        0.0000, 0.0000, 0.0000, 0.0000, 0.0000, 0.0000, 0.0000, 0.0000, 0.0000,\n",
      "        0.0000, 0.0000, 0.0000, 0.0000, 0.0000, 0.0000, 0.0000, 0.0000, 0.0000,\n",
      "        0.0000, 0.0000, 0.0000, 0.0000, 0.0000, 0.0000, 0.0000, 0.0000, 0.0000,\n",
      "        0.0000, 0.0000, 0.0000, 0.0000, 0.0000, 0.0000, 0.0000, 0.0000, 0.0000,\n",
      "        0.0000]) 5\n",
      "tensor([0.0000, 0.0000, 0.0000, 0.2000, 0.0000, 0.0000, 0.2000, 0.2582, 0.0000,\n",
      "        0.0000, 0.0000, 0.0000, 0.0000, 0.0000, 0.0000, 0.0000, 0.0000, 0.0000,\n",
      "        0.0000, 0.0000, 0.0000, 0.0000, 0.0000, 0.0000, 0.0000, 0.3162, 0.3162,\n",
      "        0.0000, 0.0000, 0.0000, 0.0000, 0.0000, 0.0000, 0.0000, 0.0000, 0.0000,\n",
      "        0.0000, 0.0000, 0.0000, 0.0000, 0.0000, 0.0000, 0.0000, 0.0000, 0.0000,\n",
      "        0.0000, 0.0000, 0.0000, 0.0000, 0.0000, 0.0000, 0.0000, 0.0000, 0.0000,\n",
      "        0.0000, 0.0000, 0.0000, 0.0000, 0.0000, 0.0000, 0.0000, 0.0000, 0.0000,\n",
      "        0.0000]) 6\n",
      "tensor([0.0000, 0.0000, 0.0000, 0.2000, 0.0000, 0.0000, 0.2000, 0.2582, 0.0000,\n",
      "        0.0000, 0.0000, 0.0000, 0.0000, 0.0000, 0.0000, 0.0000, 0.0000, 0.0000,\n",
      "        0.0000, 0.0000, 0.0000, 0.0000, 0.0000, 0.0000, 0.0000, 0.3162, 0.3162,\n",
      "        0.0000, 0.0000, 0.0000, 0.0000, 0.0000, 0.0000, 0.0000, 0.0000, 0.0000,\n",
      "        0.0000, 0.0000, 0.0000, 0.0000, 0.0000, 0.0000, 0.0000, 0.0000, 0.0000,\n",
      "        0.0000, 0.0000, 0.0000, 0.0000, 0.0000, 0.0000, 0.0000, 0.0000, 0.0000,\n",
      "        0.0000, 0.0000, 0.0000, 0.0000, 0.0000, 0.0000, 0.0000, 0.0000, 0.0000,\n",
      "        0.0000]) 6\n",
      "tensor([0.0000, 0.0000, 0.0000, 0.2000, 0.0000, 0.0000, 0.2000, 0.2582, 0.0000,\n",
      "        0.0000, 0.0000, 0.0000, 0.0000, 0.0000, 0.0000, 0.0000, 0.0000, 0.0000,\n",
      "        0.0000, 0.0000, 0.0000, 0.0000, 0.0000, 0.0000, 0.0000, 0.3162, 0.3162,\n",
      "        0.0000, 0.0000, 0.0000, 0.0000, 0.0000, 0.0000, 0.0000, 0.0000, 0.0000,\n",
      "        0.0000, 0.0000, 0.0000, 0.0000, 0.0000, 0.0000, 0.0000, 0.0000, 0.0000,\n",
      "        0.0000, 0.0000, 0.0000, 0.0000, 0.0000, 0.0000, 0.0000, 0.0000, 0.0000,\n",
      "        0.0000, 0.0000, 0.0000, 0.0000, 0.0000, 0.0000, 0.0000, 0.0000, 0.0000,\n",
      "        0.0000]) 6\n",
      "tensor([0.0000, 0.0000, 0.0000, 0.2000, 0.0000, 0.0000, 0.2000, 0.2582, 0.0000,\n",
      "        0.0000, 0.0000, 0.0000, 0.0000, 0.0000, 0.0000, 0.0000, 0.0000, 0.0000,\n",
      "        0.0000, 0.0000, 0.0000, 0.0000, 0.0000, 0.0000, 0.0000, 0.3162, 0.3162,\n",
      "        0.0000, 0.0000, 0.0000, 0.0000, 0.0000, 0.0000, 0.0000, 0.0000, 0.0000,\n",
      "        0.0000, 0.0000, 0.0000, 0.0000, 0.0000, 0.0000, 0.0000, 0.0000, 0.0000,\n",
      "        0.0000, 0.0000, 0.0000, 0.0000, 0.0000, 0.0000, 0.0000, 0.0000, 0.0000,\n",
      "        0.0000, 0.0000, 0.0000, 0.0000, 0.0000, 0.0000, 0.0000, 0.0000, 0.0000,\n",
      "        0.0000]) 6\n",
      "tensor([0.0000, 0.0000, 0.0000, 0.0000, 0.0000, 0.0000, 0.2582, 0.3333, 0.0000,\n",
      "        0.0000, 0.0000, 0.0000, 0.0000, 0.0000, 0.0000, 0.0000, 0.0000, 0.0000,\n",
      "        0.0000, 0.0000, 0.0000, 0.0000, 0.0000, 0.0000, 0.0000, 0.0000, 0.0000,\n",
      "        0.4082, 0.0000, 0.0000, 0.0000, 0.0000, 0.0000, 0.0000, 0.0000, 0.0000,\n",
      "        0.0000, 0.0000, 0.0000, 0.0000, 0.0000, 0.0000, 0.0000, 0.0000, 0.0000,\n",
      "        0.0000, 0.0000, 0.0000, 0.0000, 0.0000, 0.0000, 0.0000, 0.0000, 0.0000,\n",
      "        0.0000, 0.0000, 0.0000, 0.0000, 0.0000, 0.0000, 0.0000, 0.0000, 0.0000,\n",
      "        0.0000]) 7\n",
      "tensor([0.0000, 0.0000, 0.0000, 0.0000, 0.0000, 0.0000, 0.2582, 0.3333, 0.0000,\n",
      "        0.0000, 0.0000, 0.0000, 0.0000, 0.0000, 0.0000, 0.0000, 0.0000, 0.0000,\n",
      "        0.0000, 0.0000, 0.0000, 0.0000, 0.0000, 0.0000, 0.0000, 0.0000, 0.0000,\n",
      "        0.4082, 0.0000, 0.0000, 0.0000, 0.0000, 0.0000, 0.0000, 0.0000, 0.0000,\n",
      "        0.0000, 0.0000, 0.0000, 0.0000, 0.0000, 0.0000, 0.0000, 0.0000, 0.0000,\n",
      "        0.0000, 0.0000, 0.0000, 0.0000, 0.0000, 0.0000, 0.0000, 0.0000, 0.0000,\n",
      "        0.0000, 0.0000, 0.0000, 0.0000, 0.0000, 0.0000, 0.0000, 0.0000, 0.0000,\n",
      "        0.0000]) 7\n",
      "tensor([0.0000, 0.0000, 0.0000, 0.0000, 0.0000, 0.0000, 0.0000, 0.0000, 0.3333,\n",
      "        0.2582, 0.0000, 0.0000, 0.0000, 0.0000, 0.0000, 0.3333, 0.0000, 0.0000,\n",
      "        0.0000, 0.0000, 0.0000, 0.0000, 0.0000, 0.0000, 0.0000, 0.0000, 0.0000,\n",
      "        0.0000, 0.0000, 0.0000, 0.0000, 0.0000, 0.0000, 0.0000, 0.0000, 0.0000,\n",
      "        0.0000, 0.0000, 0.0000, 0.0000, 0.0000, 0.0000, 0.0000, 0.0000, 0.0000,\n",
      "        0.0000, 0.0000, 0.0000, 0.0000, 0.0000, 0.0000, 0.0000, 0.0000, 0.0000,\n",
      "        0.0000, 0.0000, 0.0000, 0.0000, 0.0000, 0.0000, 0.0000, 0.0000, 0.0000,\n",
      "        0.0000]) 8\n",
      "tensor([0.0000, 0.0000, 0.0000, 0.0000, 0.0000, 0.0000, 0.0000, 0.0000, 0.3333,\n",
      "        0.2582, 0.0000, 0.0000, 0.0000, 0.0000, 0.0000, 0.3333, 0.0000, 0.0000,\n",
      "        0.0000, 0.0000, 0.0000, 0.0000, 0.0000, 0.0000, 0.0000, 0.0000, 0.0000,\n",
      "        0.0000, 0.0000, 0.0000, 0.0000, 0.0000, 0.0000, 0.0000, 0.0000, 0.0000,\n",
      "        0.0000, 0.0000, 0.0000, 0.0000, 0.0000, 0.0000, 0.0000, 0.0000, 0.0000,\n",
      "        0.0000, 0.0000, 0.0000, 0.0000, 0.0000, 0.0000, 0.0000, 0.0000, 0.0000,\n",
      "        0.0000, 0.0000, 0.0000, 0.0000, 0.0000, 0.0000, 0.0000, 0.0000, 0.0000,\n",
      "        0.0000]) 8\n",
      "tensor([0.0000, 0.0000, 0.0000, 0.0000, 0.2000, 0.0000, 0.0000, 0.0000, 0.2582,\n",
      "        0.2000, 0.0000, 0.2582, 0.0000, 0.2582, 0.0000, 0.0000, 0.0000, 0.0000,\n",
      "        0.0000, 0.0000, 0.0000, 0.0000, 0.0000, 0.0000, 0.0000, 0.0000, 0.0000,\n",
      "        0.0000, 0.0000, 0.0000, 0.0000, 0.0000, 0.0000, 0.0000, 0.0000, 0.0000,\n",
      "        0.0000, 0.0000, 0.0000, 0.0000, 0.0000, 0.0000, 0.0000, 0.0000, 0.0000,\n",
      "        0.0000, 0.0000, 0.0000, 0.0000, 0.0000, 0.0000, 0.0000, 0.0000, 0.0000,\n",
      "        0.0000, 0.0000, 0.0000, 0.0000, 0.0000, 0.0000, 0.0000, 0.0000, 0.0000,\n",
      "        0.0000]) 9\n",
      "tensor([0.0000, 0.0000, 0.0000, 0.0000, 0.2000, 0.0000, 0.0000, 0.0000, 0.2582,\n",
      "        0.2000, 0.0000, 0.2582, 0.0000, 0.2582, 0.0000, 0.0000, 0.0000, 0.0000,\n",
      "        0.0000, 0.0000, 0.0000, 0.0000, 0.0000, 0.0000, 0.0000, 0.0000, 0.0000,\n",
      "        0.0000, 0.0000, 0.0000, 0.0000, 0.0000, 0.0000, 0.0000, 0.0000, 0.0000,\n",
      "        0.0000, 0.0000, 0.0000, 0.0000, 0.0000, 0.0000, 0.0000, 0.0000, 0.0000,\n",
      "        0.0000, 0.0000, 0.0000, 0.0000, 0.0000, 0.0000, 0.0000, 0.0000, 0.0000,\n",
      "        0.0000, 0.0000, 0.0000, 0.0000, 0.0000, 0.0000, 0.0000, 0.0000, 0.0000,\n",
      "        0.0000]) 9\n",
      "tensor([0.0000, 0.0000, 0.0000, 0.0000, 0.2000, 0.0000, 0.0000, 0.0000, 0.2582,\n",
      "        0.2000, 0.0000, 0.2582, 0.0000, 0.2582, 0.0000, 0.0000, 0.0000, 0.0000,\n",
      "        0.0000, 0.0000, 0.0000, 0.0000, 0.0000, 0.0000, 0.0000, 0.0000, 0.0000,\n",
      "        0.0000, 0.0000, 0.0000, 0.0000, 0.0000, 0.0000, 0.0000, 0.0000, 0.0000,\n",
      "        0.0000, 0.0000, 0.0000, 0.0000, 0.0000, 0.0000, 0.0000, 0.0000, 0.0000,\n",
      "        0.0000, 0.0000, 0.0000, 0.0000, 0.0000, 0.0000, 0.0000, 0.0000, 0.0000,\n",
      "        0.0000, 0.0000, 0.0000, 0.0000, 0.0000, 0.0000, 0.0000, 0.0000, 0.0000,\n",
      "        0.0000]) 9\n",
      "tensor([0.0000, 0.0000, 0.0000, 0.0000, 0.2000, 0.0000, 0.0000, 0.0000, 0.2582,\n",
      "        0.2000, 0.0000, 0.2582, 0.0000, 0.2582, 0.0000, 0.0000, 0.0000, 0.0000,\n",
      "        0.0000, 0.0000, 0.0000, 0.0000, 0.0000, 0.0000, 0.0000, 0.0000, 0.0000,\n",
      "        0.0000, 0.0000, 0.0000, 0.0000, 0.0000, 0.0000, 0.0000, 0.0000, 0.0000,\n",
      "        0.0000, 0.0000, 0.0000, 0.0000, 0.0000, 0.0000, 0.0000, 0.0000, 0.0000,\n",
      "        0.0000, 0.0000, 0.0000, 0.0000, 0.0000, 0.0000, 0.0000, 0.0000, 0.0000,\n",
      "        0.0000, 0.0000, 0.0000, 0.0000, 0.0000, 0.0000, 0.0000, 0.0000, 0.0000,\n",
      "        0.0000]) 9\n",
      "tensor([0.0000, 0.0000, 0.0000, 0.0000, 0.2000, 0.0000, 0.0000, 0.0000, 0.0000,\n",
      "        0.0000, 0.2000, 0.0000, 0.0000, 0.0000, 0.0000, 0.0000, 0.0000, 0.0000,\n",
      "        0.0000, 0.0000, 0.0000, 0.0000, 0.0000, 0.0000, 0.0000, 0.0000, 0.0000,\n",
      "        0.0000, 0.3162, 0.3162, 0.3162, 0.0000, 0.0000, 0.0000, 0.0000, 0.0000,\n",
      "        0.0000, 0.0000, 0.0000, 0.0000, 0.0000, 0.0000, 0.0000, 0.0000, 0.0000,\n",
      "        0.0000, 0.0000, 0.0000, 0.0000, 0.0000, 0.0000, 0.0000, 0.0000, 0.0000,\n",
      "        0.0000, 0.0000, 0.0000, 0.0000, 0.0000, 0.0000, 0.0000, 0.0000, 0.0000,\n",
      "        0.0000]) 10\n",
      "tensor([0.0000, 0.0000, 0.0000, 0.0000, 0.2000, 0.0000, 0.0000, 0.0000, 0.0000,\n",
      "        0.0000, 0.2000, 0.0000, 0.0000, 0.0000, 0.0000, 0.0000, 0.0000, 0.0000,\n",
      "        0.0000, 0.0000, 0.0000, 0.0000, 0.0000, 0.0000, 0.0000, 0.0000, 0.0000,\n",
      "        0.0000, 0.3162, 0.3162, 0.3162, 0.0000, 0.0000, 0.0000, 0.0000, 0.0000,\n",
      "        0.0000, 0.0000, 0.0000, 0.0000, 0.0000, 0.0000, 0.0000, 0.0000, 0.0000,\n",
      "        0.0000, 0.0000, 0.0000, 0.0000, 0.0000, 0.0000, 0.0000, 0.0000, 0.0000,\n",
      "        0.0000, 0.0000, 0.0000, 0.0000, 0.0000, 0.0000, 0.0000, 0.0000, 0.0000,\n",
      "        0.0000]) 10\n",
      "tensor([0.0000, 0.0000, 0.0000, 0.0000, 0.2000, 0.0000, 0.0000, 0.0000, 0.0000,\n",
      "        0.0000, 0.2000, 0.0000, 0.0000, 0.0000, 0.0000, 0.0000, 0.0000, 0.0000,\n",
      "        0.0000, 0.0000, 0.0000, 0.0000, 0.0000, 0.0000, 0.0000, 0.0000, 0.0000,\n",
      "        0.0000, 0.3162, 0.3162, 0.3162, 0.0000, 0.0000, 0.0000, 0.0000, 0.0000,\n",
      "        0.0000, 0.0000, 0.0000, 0.0000, 0.0000, 0.0000, 0.0000, 0.0000, 0.0000,\n",
      "        0.0000, 0.0000, 0.0000, 0.0000, 0.0000, 0.0000, 0.0000, 0.0000, 0.0000,\n",
      "        0.0000, 0.0000, 0.0000, 0.0000, 0.0000, 0.0000, 0.0000, 0.0000, 0.0000,\n",
      "        0.0000]) 10\n",
      "tensor([0.0000, 0.0000, 0.0000, 0.0000, 0.2000, 0.0000, 0.0000, 0.0000, 0.0000,\n",
      "        0.0000, 0.2000, 0.0000, 0.0000, 0.0000, 0.0000, 0.0000, 0.0000, 0.0000,\n",
      "        0.0000, 0.0000, 0.0000, 0.0000, 0.0000, 0.0000, 0.0000, 0.0000, 0.0000,\n",
      "        0.0000, 0.3162, 0.3162, 0.3162, 0.0000, 0.0000, 0.0000, 0.0000, 0.0000,\n",
      "        0.0000, 0.0000, 0.0000, 0.0000, 0.0000, 0.0000, 0.0000, 0.0000, 0.0000,\n",
      "        0.0000, 0.0000, 0.0000, 0.0000, 0.0000, 0.0000, 0.0000, 0.0000, 0.0000,\n",
      "        0.0000, 0.0000, 0.0000, 0.0000, 0.0000, 0.0000, 0.0000, 0.0000, 0.0000,\n",
      "        0.0000]) 10\n",
      "tensor([0.0000, 0.0000, 0.0000, 0.0000, 0.0000, 0.0000, 0.0000, 0.0000, 0.0000,\n",
      "        0.2582, 0.0000, 0.3333, 0.0000, 0.0000, 0.0000, 0.0000, 0.0000, 0.0000,\n",
      "        0.0000, 0.0000, 0.0000, 0.0000, 0.0000, 0.0000, 0.0000, 0.0000, 0.0000,\n",
      "        0.0000, 0.0000, 0.0000, 0.0000, 0.4082, 0.0000, 0.0000, 0.0000, 0.0000,\n",
      "        0.0000, 0.0000, 0.0000, 0.0000, 0.0000, 0.0000, 0.0000, 0.0000, 0.0000,\n",
      "        0.0000, 0.0000, 0.0000, 0.0000, 0.0000, 0.0000, 0.0000, 0.0000, 0.0000,\n",
      "        0.0000, 0.0000, 0.0000, 0.0000, 0.0000, 0.0000, 0.0000, 0.0000, 0.0000,\n",
      "        0.0000]) 11\n",
      "tensor([0.0000, 0.0000, 0.0000, 0.0000, 0.0000, 0.0000, 0.0000, 0.0000, 0.0000,\n",
      "        0.2582, 0.0000, 0.3333, 0.0000, 0.0000, 0.0000, 0.0000, 0.0000, 0.0000,\n",
      "        0.0000, 0.0000, 0.0000, 0.0000, 0.0000, 0.0000, 0.0000, 0.0000, 0.0000,\n",
      "        0.0000, 0.0000, 0.0000, 0.0000, 0.4082, 0.0000, 0.0000, 0.0000, 0.0000,\n",
      "        0.0000, 0.0000, 0.0000, 0.0000, 0.0000, 0.0000, 0.0000, 0.0000, 0.0000,\n",
      "        0.0000, 0.0000, 0.0000, 0.0000, 0.0000, 0.0000, 0.0000, 0.0000, 0.0000,\n",
      "        0.0000, 0.0000, 0.0000, 0.0000, 0.0000, 0.0000, 0.0000, 0.0000, 0.0000,\n",
      "        0.0000]) 11\n",
      "tensor([0.0000, 0.0000, 0.2000, 0.0000, 0.0000, 0.0000, 0.0000, 0.0000, 0.0000,\n",
      "        0.0000, 0.0000, 0.0000, 0.2000, 0.0000, 0.0000, 0.0000, 0.0000, 0.0000,\n",
      "        0.0000, 0.0000, 0.0000, 0.0000, 0.0000, 0.0000, 0.0000, 0.0000, 0.0000,\n",
      "        0.0000, 0.0000, 0.0000, 0.0000, 0.0000, 0.3162, 0.3162, 0.3162, 0.0000,\n",
      "        0.0000, 0.0000, 0.0000, 0.0000, 0.0000, 0.0000, 0.0000, 0.0000, 0.0000,\n",
      "        0.0000, 0.0000, 0.0000, 0.0000, 0.0000, 0.0000, 0.0000, 0.0000, 0.0000,\n",
      "        0.0000, 0.0000, 0.0000, 0.0000, 0.0000, 0.0000, 0.0000, 0.0000, 0.0000,\n",
      "        0.0000]) 12\n",
      "tensor([0.0000, 0.0000, 0.2000, 0.0000, 0.0000, 0.0000, 0.0000, 0.0000, 0.0000,\n",
      "        0.0000, 0.0000, 0.0000, 0.2000, 0.0000, 0.0000, 0.0000, 0.0000, 0.0000,\n",
      "        0.0000, 0.0000, 0.0000, 0.0000, 0.0000, 0.0000, 0.0000, 0.0000, 0.0000,\n",
      "        0.0000, 0.0000, 0.0000, 0.0000, 0.0000, 0.3162, 0.3162, 0.3162, 0.0000,\n",
      "        0.0000, 0.0000, 0.0000, 0.0000, 0.0000, 0.0000, 0.0000, 0.0000, 0.0000,\n",
      "        0.0000, 0.0000, 0.0000, 0.0000, 0.0000, 0.0000, 0.0000, 0.0000, 0.0000,\n",
      "        0.0000, 0.0000, 0.0000, 0.0000, 0.0000, 0.0000, 0.0000, 0.0000, 0.0000,\n",
      "        0.0000]) 12\n",
      "tensor([0.0000, 0.0000, 0.2000, 0.0000, 0.0000, 0.0000, 0.0000, 0.0000, 0.0000,\n",
      "        0.0000, 0.0000, 0.0000, 0.2000, 0.0000, 0.0000, 0.0000, 0.0000, 0.0000,\n",
      "        0.0000, 0.0000, 0.0000, 0.0000, 0.0000, 0.0000, 0.0000, 0.0000, 0.0000,\n",
      "        0.0000, 0.0000, 0.0000, 0.0000, 0.0000, 0.3162, 0.3162, 0.3162, 0.0000,\n",
      "        0.0000, 0.0000, 0.0000, 0.0000, 0.0000, 0.0000, 0.0000, 0.0000, 0.0000,\n",
      "        0.0000, 0.0000, 0.0000, 0.0000, 0.0000, 0.0000, 0.0000, 0.0000, 0.0000,\n",
      "        0.0000, 0.0000, 0.0000, 0.0000, 0.0000, 0.0000, 0.0000, 0.0000, 0.0000,\n",
      "        0.0000]) 12\n",
      "tensor([0.0000, 0.0000, 0.2000, 0.0000, 0.0000, 0.0000, 0.0000, 0.0000, 0.0000,\n",
      "        0.0000, 0.0000, 0.0000, 0.2000, 0.0000, 0.0000, 0.0000, 0.0000, 0.0000,\n",
      "        0.0000, 0.0000, 0.0000, 0.0000, 0.0000, 0.0000, 0.0000, 0.0000, 0.0000,\n",
      "        0.0000, 0.0000, 0.0000, 0.0000, 0.0000, 0.3162, 0.3162, 0.3162, 0.0000,\n",
      "        0.0000, 0.0000, 0.0000, 0.0000, 0.0000, 0.0000, 0.0000, 0.0000, 0.0000,\n",
      "        0.0000, 0.0000, 0.0000, 0.0000, 0.0000, 0.0000, 0.0000, 0.0000, 0.0000,\n",
      "        0.0000, 0.0000, 0.0000, 0.0000, 0.0000, 0.0000, 0.0000, 0.0000, 0.0000,\n",
      "        0.0000]) 12\n",
      "tensor([0.0000, 0.0000, 0.0000, 0.0000, 0.0000, 0.0000, 0.0000, 0.0000, 0.0000,\n",
      "        0.2582, 0.0000, 0.0000, 0.0000, 0.3333, 0.0000, 0.0000, 0.0000, 0.0000,\n",
      "        0.0000, 0.0000, 0.0000, 0.0000, 0.0000, 0.0000, 0.0000, 0.0000, 0.0000,\n",
      "        0.0000, 0.0000, 0.0000, 0.0000, 0.0000, 0.0000, 0.0000, 0.0000, 0.4082,\n",
      "        0.0000, 0.0000, 0.0000, 0.0000, 0.0000, 0.0000, 0.0000, 0.0000, 0.0000,\n",
      "        0.0000, 0.0000, 0.0000, 0.0000, 0.0000, 0.0000, 0.0000, 0.0000, 0.0000,\n",
      "        0.0000, 0.0000, 0.0000, 0.0000, 0.0000, 0.0000, 0.0000, 0.0000, 0.0000,\n",
      "        0.0000]) 13\n",
      "tensor([0.0000, 0.0000, 0.0000, 0.0000, 0.0000, 0.0000, 0.0000, 0.0000, 0.0000,\n",
      "        0.2582, 0.0000, 0.0000, 0.0000, 0.3333, 0.0000, 0.0000, 0.0000, 0.0000,\n",
      "        0.0000, 0.0000, 0.0000, 0.0000, 0.0000, 0.0000, 0.0000, 0.0000, 0.0000,\n",
      "        0.0000, 0.0000, 0.0000, 0.0000, 0.0000, 0.0000, 0.0000, 0.0000, 0.4082,\n",
      "        0.0000, 0.0000, 0.0000, 0.0000, 0.0000, 0.0000, 0.0000, 0.0000, 0.0000,\n",
      "        0.0000, 0.0000, 0.0000, 0.0000, 0.0000, 0.0000, 0.0000, 0.0000, 0.0000,\n",
      "        0.0000, 0.0000, 0.0000, 0.0000, 0.0000, 0.0000, 0.0000, 0.0000, 0.0000,\n",
      "        0.0000]) 13\n",
      "tensor([0.0000, 0.0000, 0.2000, 0.0000, 0.0000, 0.0000, 0.0000, 0.0000, 0.0000,\n",
      "        0.0000, 0.0000, 0.0000, 0.0000, 0.0000, 0.2000, 0.0000, 0.0000, 0.0000,\n",
      "        0.0000, 0.0000, 0.0000, 0.0000, 0.0000, 0.0000, 0.0000, 0.0000, 0.0000,\n",
      "        0.0000, 0.0000, 0.0000, 0.0000, 0.0000, 0.0000, 0.0000, 0.0000, 0.0000,\n",
      "        0.3162, 0.3162, 0.3162, 0.0000, 0.0000, 0.0000, 0.0000, 0.0000, 0.0000,\n",
      "        0.0000, 0.0000, 0.0000, 0.0000, 0.0000, 0.0000, 0.0000, 0.0000, 0.0000,\n",
      "        0.0000, 0.0000, 0.0000, 0.0000, 0.0000, 0.0000, 0.0000, 0.0000, 0.0000,\n",
      "        0.0000]) 14\n",
      "tensor([0.0000, 0.0000, 0.2000, 0.0000, 0.0000, 0.0000, 0.0000, 0.0000, 0.0000,\n",
      "        0.0000, 0.0000, 0.0000, 0.0000, 0.0000, 0.2000, 0.0000, 0.0000, 0.0000,\n",
      "        0.0000, 0.0000, 0.0000, 0.0000, 0.0000, 0.0000, 0.0000, 0.0000, 0.0000,\n",
      "        0.0000, 0.0000, 0.0000, 0.0000, 0.0000, 0.0000, 0.0000, 0.0000, 0.0000,\n",
      "        0.3162, 0.3162, 0.3162, 0.0000, 0.0000, 0.0000, 0.0000, 0.0000, 0.0000,\n",
      "        0.0000, 0.0000, 0.0000, 0.0000, 0.0000, 0.0000, 0.0000, 0.0000, 0.0000,\n",
      "        0.0000, 0.0000, 0.0000, 0.0000, 0.0000, 0.0000, 0.0000, 0.0000, 0.0000,\n",
      "        0.0000]) 14\n",
      "tensor([0.0000, 0.0000, 0.2000, 0.0000, 0.0000, 0.0000, 0.0000, 0.0000, 0.0000,\n",
      "        0.0000, 0.0000, 0.0000, 0.0000, 0.0000, 0.2000, 0.0000, 0.0000, 0.0000,\n",
      "        0.0000, 0.0000, 0.0000, 0.0000, 0.0000, 0.0000, 0.0000, 0.0000, 0.0000,\n",
      "        0.0000, 0.0000, 0.0000, 0.0000, 0.0000, 0.0000, 0.0000, 0.0000, 0.0000,\n",
      "        0.3162, 0.3162, 0.3162, 0.0000, 0.0000, 0.0000, 0.0000, 0.0000, 0.0000,\n",
      "        0.0000, 0.0000, 0.0000, 0.0000, 0.0000, 0.0000, 0.0000, 0.0000, 0.0000,\n",
      "        0.0000, 0.0000, 0.0000, 0.0000, 0.0000, 0.0000, 0.0000, 0.0000, 0.0000,\n",
      "        0.0000]) 14\n",
      "tensor([0.0000, 0.0000, 0.2000, 0.0000, 0.0000, 0.0000, 0.0000, 0.0000, 0.0000,\n",
      "        0.0000, 0.0000, 0.0000, 0.0000, 0.0000, 0.2000, 0.0000, 0.0000, 0.0000,\n",
      "        0.0000, 0.0000, 0.0000, 0.0000, 0.0000, 0.0000, 0.0000, 0.0000, 0.0000,\n",
      "        0.0000, 0.0000, 0.0000, 0.0000, 0.0000, 0.0000, 0.0000, 0.0000, 0.0000,\n",
      "        0.3162, 0.3162, 0.3162, 0.0000, 0.0000, 0.0000, 0.0000, 0.0000, 0.0000,\n",
      "        0.0000, 0.0000, 0.0000, 0.0000, 0.0000, 0.0000, 0.0000, 0.0000, 0.0000,\n",
      "        0.0000, 0.0000, 0.0000, 0.0000, 0.0000, 0.0000, 0.0000, 0.0000, 0.0000,\n",
      "        0.0000]) 14\n",
      "tensor([0.0000, 0.0000, 0.0000, 0.0000, 0.0000, 0.0000, 0.0000, 0.0000, 0.3333,\n",
      "        0.0000, 0.0000, 0.0000, 0.0000, 0.0000, 0.0000, 0.3333, 0.0000, 0.0000,\n",
      "        0.0000, 0.0000, 0.0000, 0.0000, 0.0000, 0.0000, 0.0000, 0.0000, 0.0000,\n",
      "        0.0000, 0.0000, 0.0000, 0.0000, 0.0000, 0.0000, 0.0000, 0.0000, 0.0000,\n",
      "        0.0000, 0.0000, 0.0000, 0.4082, 0.0000, 0.0000, 0.0000, 0.0000, 0.0000,\n",
      "        0.0000, 0.0000, 0.0000, 0.0000, 0.0000, 0.0000, 0.0000, 0.0000, 0.0000,\n",
      "        0.0000, 0.0000, 0.0000, 0.0000, 0.0000, 0.0000, 0.0000, 0.0000, 0.0000,\n",
      "        0.0000]) 15\n",
      "tensor([0.0000, 0.0000, 0.0000, 0.0000, 0.0000, 0.0000, 0.0000, 0.0000, 0.3333,\n",
      "        0.0000, 0.0000, 0.0000, 0.0000, 0.0000, 0.0000, 0.3333, 0.0000, 0.0000,\n",
      "        0.0000, 0.0000, 0.0000, 0.0000, 0.0000, 0.0000, 0.0000, 0.0000, 0.0000,\n",
      "        0.0000, 0.0000, 0.0000, 0.0000, 0.0000, 0.0000, 0.0000, 0.0000, 0.0000,\n",
      "        0.0000, 0.0000, 0.0000, 0.4082, 0.0000, 0.0000, 0.0000, 0.0000, 0.0000,\n",
      "        0.0000, 0.0000, 0.0000, 0.0000, 0.0000, 0.0000, 0.0000, 0.0000, 0.0000,\n",
      "        0.0000, 0.0000, 0.0000, 0.0000, 0.0000, 0.0000, 0.0000, 0.0000, 0.0000,\n",
      "        0.0000]) 15\n",
      "tensor([0.3162, 0.0000, 0.0000, 0.0000, 0.0000, 0.0000, 0.0000, 0.0000, 0.0000,\n",
      "        0.0000, 0.0000, 0.0000, 0.0000, 0.0000, 0.0000, 0.0000, 0.0000, 0.0000,\n",
      "        0.5000, 0.0000, 0.0000, 0.0000, 0.0000, 0.0000, 0.0000, 0.0000, 0.0000,\n",
      "        0.0000, 0.0000, 0.0000, 0.0000, 0.0000, 0.0000, 0.0000, 0.0000, 0.0000,\n",
      "        0.0000, 0.0000, 0.0000, 0.0000, 0.0000, 0.0000, 0.0000, 0.0000, 0.0000,\n",
      "        0.0000, 0.0000, 0.0000, 0.0000, 0.0000, 0.0000, 0.0000, 0.0000, 0.0000,\n",
      "        0.0000, 0.0000, 0.0000, 0.0000, 0.0000, 0.0000, 0.0000, 0.0000, 0.0000,\n",
      "        0.0000]) 18\n",
      "tensor([0.3162, 0.0000, 0.0000, 0.0000, 0.0000, 0.0000, 0.0000, 0.0000, 0.0000,\n",
      "        0.0000, 0.0000, 0.0000, 0.0000, 0.0000, 0.0000, 0.0000, 0.0000, 0.0000,\n",
      "        0.0000, 0.5000, 0.0000, 0.0000, 0.0000, 0.0000, 0.0000, 0.0000, 0.0000,\n",
      "        0.0000, 0.0000, 0.0000, 0.0000, 0.0000, 0.0000, 0.0000, 0.0000, 0.0000,\n",
      "        0.0000, 0.0000, 0.0000, 0.0000, 0.0000, 0.0000, 0.0000, 0.0000, 0.0000,\n",
      "        0.0000, 0.0000, 0.0000, 0.0000, 0.0000, 0.0000, 0.0000, 0.0000, 0.0000,\n",
      "        0.0000, 0.0000, 0.0000, 0.0000, 0.0000, 0.0000, 0.0000, 0.0000, 0.0000,\n",
      "        0.0000]) 19\n",
      "tensor([0.0000, 0.3162, 0.0000, 0.0000, 0.0000, 0.0000, 0.0000, 0.0000, 0.0000,\n",
      "        0.0000, 0.0000, 0.0000, 0.0000, 0.0000, 0.0000, 0.0000, 0.0000, 0.0000,\n",
      "        0.0000, 0.0000, 0.5000, 0.0000, 0.0000, 0.0000, 0.0000, 0.0000, 0.0000,\n",
      "        0.0000, 0.0000, 0.0000, 0.0000, 0.0000, 0.0000, 0.0000, 0.0000, 0.0000,\n",
      "        0.0000, 0.0000, 0.0000, 0.0000, 0.0000, 0.0000, 0.0000, 0.0000, 0.0000,\n",
      "        0.0000, 0.0000, 0.0000, 0.0000, 0.0000, 0.0000, 0.0000, 0.0000, 0.0000,\n",
      "        0.0000, 0.0000, 0.0000, 0.0000, 0.0000, 0.0000, 0.0000, 0.0000, 0.0000,\n",
      "        0.0000]) 20\n",
      "tensor([0.0000, 0.3162, 0.0000, 0.0000, 0.0000, 0.0000, 0.0000, 0.0000, 0.0000,\n",
      "        0.0000, 0.0000, 0.0000, 0.0000, 0.0000, 0.0000, 0.0000, 0.0000, 0.0000,\n",
      "        0.0000, 0.0000, 0.0000, 0.5000, 0.0000, 0.0000, 0.0000, 0.0000, 0.0000,\n",
      "        0.0000, 0.0000, 0.0000, 0.0000, 0.0000, 0.0000, 0.0000, 0.0000, 0.0000,\n",
      "        0.0000, 0.0000, 0.0000, 0.0000, 0.0000, 0.0000, 0.0000, 0.0000, 0.0000,\n",
      "        0.0000, 0.0000, 0.0000, 0.0000, 0.0000, 0.0000, 0.0000, 0.0000, 0.0000,\n",
      "        0.0000, 0.0000, 0.0000, 0.0000, 0.0000, 0.0000, 0.0000, 0.0000, 0.0000,\n",
      "        0.0000]) 21\n",
      "tensor([0.0000, 0.0000, 0.0000, 0.3162, 0.0000, 0.0000, 0.0000, 0.0000, 0.0000,\n",
      "        0.0000, 0.0000, 0.0000, 0.0000, 0.0000, 0.0000, 0.0000, 0.0000, 0.0000,\n",
      "        0.0000, 0.0000, 0.0000, 0.0000, 0.5000, 0.0000, 0.0000, 0.0000, 0.0000,\n",
      "        0.0000, 0.0000, 0.0000, 0.0000, 0.0000, 0.0000, 0.0000, 0.0000, 0.0000,\n",
      "        0.0000, 0.0000, 0.0000, 0.0000, 0.0000, 0.0000, 0.0000, 0.0000, 0.0000,\n",
      "        0.0000, 0.0000, 0.0000, 0.0000, 0.0000, 0.0000, 0.0000, 0.0000, 0.0000,\n",
      "        0.0000, 0.0000, 0.0000, 0.0000, 0.0000, 0.0000, 0.0000, 0.0000, 0.0000,\n",
      "        0.0000]) 22\n",
      "tensor([0.0000, 0.0000, 0.0000, 0.0000, 0.0000, 0.3162, 0.0000, 0.0000, 0.0000,\n",
      "        0.0000, 0.0000, 0.0000, 0.0000, 0.0000, 0.0000, 0.0000, 0.0000, 0.0000,\n",
      "        0.0000, 0.0000, 0.0000, 0.0000, 0.0000, 0.5000, 0.0000, 0.0000, 0.0000,\n",
      "        0.0000, 0.0000, 0.0000, 0.0000, 0.0000, 0.0000, 0.0000, 0.0000, 0.0000,\n",
      "        0.0000, 0.0000, 0.0000, 0.0000, 0.0000, 0.0000, 0.0000, 0.0000, 0.0000,\n",
      "        0.0000, 0.0000, 0.0000, 0.0000, 0.0000, 0.0000, 0.0000, 0.0000, 0.0000,\n",
      "        0.0000, 0.0000, 0.0000, 0.0000, 0.0000, 0.0000, 0.0000, 0.0000, 0.0000,\n",
      "        0.0000]) 23\n",
      "tensor([0.0000, 0.0000, 0.0000, 0.0000, 0.0000, 0.3162, 0.0000, 0.0000, 0.0000,\n",
      "        0.0000, 0.0000, 0.0000, 0.0000, 0.0000, 0.0000, 0.0000, 0.0000, 0.0000,\n",
      "        0.0000, 0.0000, 0.0000, 0.0000, 0.0000, 0.0000, 0.5000, 0.0000, 0.0000,\n",
      "        0.0000, 0.0000, 0.0000, 0.0000, 0.0000, 0.0000, 0.0000, 0.0000, 0.0000,\n",
      "        0.0000, 0.0000, 0.0000, 0.0000, 0.0000, 0.0000, 0.0000, 0.0000, 0.0000,\n",
      "        0.0000, 0.0000, 0.0000, 0.0000, 0.0000, 0.0000, 0.0000, 0.0000, 0.0000,\n",
      "        0.0000, 0.0000, 0.0000, 0.0000, 0.0000, 0.0000, 0.0000, 0.0000, 0.0000,\n",
      "        0.0000]) 24\n",
      "tensor([0.0000, 0.0000, 0.0000, 0.0000, 0.0000, 0.0000, 0.3162, 0.0000, 0.0000,\n",
      "        0.0000, 0.0000, 0.0000, 0.0000, 0.0000, 0.0000, 0.0000, 0.0000, 0.0000,\n",
      "        0.0000, 0.0000, 0.0000, 0.0000, 0.0000, 0.0000, 0.0000, 0.5000, 0.0000,\n",
      "        0.0000, 0.0000, 0.0000, 0.0000, 0.0000, 0.0000, 0.0000, 0.0000, 0.0000,\n",
      "        0.0000, 0.0000, 0.0000, 0.0000, 0.0000, 0.0000, 0.0000, 0.0000, 0.0000,\n",
      "        0.0000, 0.0000, 0.0000, 0.0000, 0.0000, 0.0000, 0.0000, 0.0000, 0.0000,\n",
      "        0.0000, 0.0000, 0.0000, 0.0000, 0.0000, 0.0000, 0.0000, 0.0000, 0.0000,\n",
      "        0.0000]) 25\n",
      "tensor([0.0000, 0.0000, 0.0000, 0.0000, 0.0000, 0.0000, 0.3162, 0.0000, 0.0000,\n",
      "        0.0000, 0.0000, 0.0000, 0.0000, 0.0000, 0.0000, 0.0000, 0.0000, 0.0000,\n",
      "        0.0000, 0.0000, 0.0000, 0.0000, 0.0000, 0.0000, 0.0000, 0.0000, 0.5000,\n",
      "        0.0000, 0.0000, 0.0000, 0.0000, 0.0000, 0.0000, 0.0000, 0.0000, 0.0000,\n",
      "        0.0000, 0.0000, 0.0000, 0.0000, 0.0000, 0.0000, 0.0000, 0.0000, 0.0000,\n",
      "        0.0000, 0.0000, 0.0000, 0.0000, 0.0000, 0.0000, 0.0000, 0.0000, 0.0000,\n",
      "        0.0000, 0.0000, 0.0000, 0.0000, 0.0000, 0.0000, 0.0000, 0.0000, 0.0000,\n",
      "        0.0000]) 26\n",
      "tensor([0.0000, 0.0000, 0.0000, 0.0000, 0.0000, 0.0000, 0.0000, 0.4082, 0.0000,\n",
      "        0.0000, 0.0000, 0.0000, 0.0000, 0.0000, 0.0000, 0.0000, 0.0000, 0.0000,\n",
      "        0.0000, 0.0000, 0.0000, 0.0000, 0.0000, 0.0000, 0.0000, 0.0000, 0.0000,\n",
      "        0.5000, 0.0000, 0.0000, 0.0000, 0.0000, 0.0000, 0.0000, 0.0000, 0.0000,\n",
      "        0.0000, 0.0000, 0.0000, 0.0000, 0.0000, 0.0000, 0.0000, 0.0000, 0.0000,\n",
      "        0.0000, 0.0000, 0.0000, 0.0000, 0.0000, 0.0000, 0.0000, 0.0000, 0.0000,\n",
      "        0.0000, 0.0000, 0.0000, 0.0000, 0.0000, 0.0000, 0.0000, 0.0000, 0.0000,\n",
      "        0.0000]) 27\n",
      "tensor([0.0000, 0.0000, 0.0000, 0.0000, 0.0000, 0.0000, 0.0000, 0.0000, 0.0000,\n",
      "        0.0000, 0.3162, 0.0000, 0.0000, 0.0000, 0.0000, 0.0000, 0.0000, 0.0000,\n",
      "        0.0000, 0.0000, 0.0000, 0.0000, 0.0000, 0.0000, 0.0000, 0.0000, 0.0000,\n",
      "        0.0000, 0.5000, 0.0000, 0.0000, 0.0000, 0.0000, 0.0000, 0.0000, 0.0000,\n",
      "        0.0000, 0.0000, 0.0000, 0.0000, 0.0000, 0.0000, 0.0000, 0.0000, 0.0000,\n",
      "        0.0000, 0.0000, 0.0000, 0.0000, 0.0000, 0.0000, 0.0000, 0.0000, 0.0000,\n",
      "        0.0000, 0.0000, 0.0000, 0.0000, 0.0000, 0.0000, 0.0000, 0.0000, 0.0000,\n",
      "        0.0000]) 28\n",
      "tensor([0.0000, 0.0000, 0.0000, 0.0000, 0.0000, 0.0000, 0.0000, 0.0000, 0.0000,\n",
      "        0.0000, 0.3162, 0.0000, 0.0000, 0.0000, 0.0000, 0.0000, 0.0000, 0.0000,\n",
      "        0.0000, 0.0000, 0.0000, 0.0000, 0.0000, 0.0000, 0.0000, 0.0000, 0.0000,\n",
      "        0.0000, 0.0000, 0.5000, 0.0000, 0.0000, 0.0000, 0.0000, 0.0000, 0.0000,\n",
      "        0.0000, 0.0000, 0.0000, 0.0000, 0.0000, 0.0000, 0.0000, 0.0000, 0.0000,\n",
      "        0.0000, 0.0000, 0.0000, 0.0000, 0.0000, 0.0000, 0.0000, 0.0000, 0.0000,\n",
      "        0.0000, 0.0000, 0.0000, 0.0000, 0.0000, 0.0000, 0.0000, 0.0000, 0.0000,\n",
      "        0.0000]) 29\n",
      "tensor([0.0000, 0.0000, 0.0000, 0.0000, 0.0000, 0.0000, 0.0000, 0.0000, 0.0000,\n",
      "        0.0000, 0.3162, 0.0000, 0.0000, 0.0000, 0.0000, 0.0000, 0.0000, 0.0000,\n",
      "        0.0000, 0.0000, 0.0000, 0.0000, 0.0000, 0.0000, 0.0000, 0.0000, 0.0000,\n",
      "        0.0000, 0.0000, 0.0000, 0.5000, 0.0000, 0.0000, 0.0000, 0.0000, 0.0000,\n",
      "        0.0000, 0.0000, 0.0000, 0.0000, 0.0000, 0.0000, 0.0000, 0.0000, 0.0000,\n",
      "        0.0000, 0.0000, 0.0000, 0.0000, 0.0000, 0.0000, 0.0000, 0.0000, 0.0000,\n",
      "        0.0000, 0.0000, 0.0000, 0.0000, 0.0000, 0.0000, 0.0000, 0.0000, 0.0000,\n",
      "        0.0000]) 30\n",
      "tensor([0.0000, 0.0000, 0.0000, 0.0000, 0.0000, 0.0000, 0.0000, 0.0000, 0.0000,\n",
      "        0.0000, 0.0000, 0.4082, 0.0000, 0.0000, 0.0000, 0.0000, 0.0000, 0.0000,\n",
      "        0.0000, 0.0000, 0.0000, 0.0000, 0.0000, 0.0000, 0.0000, 0.0000, 0.0000,\n",
      "        0.0000, 0.0000, 0.0000, 0.0000, 0.5000, 0.0000, 0.0000, 0.0000, 0.0000,\n",
      "        0.0000, 0.0000, 0.0000, 0.0000, 0.0000, 0.0000, 0.0000, 0.0000, 0.0000,\n",
      "        0.0000, 0.0000, 0.0000, 0.0000, 0.0000, 0.0000, 0.0000, 0.0000, 0.0000,\n",
      "        0.0000, 0.0000, 0.0000, 0.0000, 0.0000, 0.0000, 0.0000, 0.0000, 0.0000,\n",
      "        0.0000]) 31\n",
      "tensor([0.0000, 0.0000, 0.0000, 0.0000, 0.0000, 0.0000, 0.0000, 0.0000, 0.0000,\n",
      "        0.0000, 0.0000, 0.0000, 0.3162, 0.0000, 0.0000, 0.0000, 0.0000, 0.0000,\n",
      "        0.0000, 0.0000, 0.0000, 0.0000, 0.0000, 0.0000, 0.0000, 0.0000, 0.0000,\n",
      "        0.0000, 0.0000, 0.0000, 0.0000, 0.0000, 0.5000, 0.0000, 0.0000, 0.0000,\n",
      "        0.0000, 0.0000, 0.0000, 0.0000, 0.0000, 0.0000, 0.0000, 0.0000, 0.0000,\n",
      "        0.0000, 0.0000, 0.0000, 0.0000, 0.0000, 0.0000, 0.0000, 0.0000, 0.0000,\n",
      "        0.0000, 0.0000, 0.0000, 0.0000, 0.0000, 0.0000, 0.0000, 0.0000, 0.0000,\n",
      "        0.0000]) 32\n",
      "tensor([0.0000, 0.0000, 0.0000, 0.0000, 0.0000, 0.0000, 0.0000, 0.0000, 0.0000,\n",
      "        0.0000, 0.0000, 0.0000, 0.3162, 0.0000, 0.0000, 0.0000, 0.0000, 0.0000,\n",
      "        0.0000, 0.0000, 0.0000, 0.0000, 0.0000, 0.0000, 0.0000, 0.0000, 0.0000,\n",
      "        0.0000, 0.0000, 0.0000, 0.0000, 0.0000, 0.0000, 0.5000, 0.0000, 0.0000,\n",
      "        0.0000, 0.0000, 0.0000, 0.0000, 0.0000, 0.0000, 0.0000, 0.0000, 0.0000,\n",
      "        0.0000, 0.0000, 0.0000, 0.0000, 0.0000, 0.0000, 0.0000, 0.0000, 0.0000,\n",
      "        0.0000, 0.0000, 0.0000, 0.0000, 0.0000, 0.0000, 0.0000, 0.0000, 0.0000,\n",
      "        0.0000]) 33\n",
      "tensor([0.0000, 0.0000, 0.0000, 0.0000, 0.0000, 0.0000, 0.0000, 0.0000, 0.0000,\n",
      "        0.0000, 0.0000, 0.0000, 0.3162, 0.0000, 0.0000, 0.0000, 0.0000, 0.0000,\n",
      "        0.0000, 0.0000, 0.0000, 0.0000, 0.0000, 0.0000, 0.0000, 0.0000, 0.0000,\n",
      "        0.0000, 0.0000, 0.0000, 0.0000, 0.0000, 0.0000, 0.0000, 0.5000, 0.0000,\n",
      "        0.0000, 0.0000, 0.0000, 0.0000, 0.0000, 0.0000, 0.0000, 0.0000, 0.0000,\n",
      "        0.0000, 0.0000, 0.0000, 0.0000, 0.0000, 0.0000, 0.0000, 0.0000, 0.0000,\n",
      "        0.0000, 0.0000, 0.0000, 0.0000, 0.0000, 0.0000, 0.0000, 0.0000, 0.0000,\n",
      "        0.0000]) 34\n",
      "tensor([0.0000, 0.0000, 0.0000, 0.0000, 0.0000, 0.0000, 0.0000, 0.0000, 0.0000,\n",
      "        0.0000, 0.0000, 0.0000, 0.0000, 0.4082, 0.0000, 0.0000, 0.0000, 0.0000,\n",
      "        0.0000, 0.0000, 0.0000, 0.0000, 0.0000, 0.0000, 0.0000, 0.0000, 0.0000,\n",
      "        0.0000, 0.0000, 0.0000, 0.0000, 0.0000, 0.0000, 0.0000, 0.0000, 0.5000,\n",
      "        0.0000, 0.0000, 0.0000, 0.0000, 0.0000, 0.0000, 0.0000, 0.0000, 0.0000,\n",
      "        0.0000, 0.0000, 0.0000, 0.0000, 0.0000, 0.0000, 0.0000, 0.0000, 0.0000,\n",
      "        0.0000, 0.0000, 0.0000, 0.0000, 0.0000, 0.0000, 0.0000, 0.0000, 0.0000,\n",
      "        0.0000]) 35\n",
      "tensor([0.0000, 0.0000, 0.0000, 0.0000, 0.0000, 0.0000, 0.0000, 0.0000, 0.0000,\n",
      "        0.0000, 0.0000, 0.0000, 0.0000, 0.0000, 0.3162, 0.0000, 0.0000, 0.0000,\n",
      "        0.0000, 0.0000, 0.0000, 0.0000, 0.0000, 0.0000, 0.0000, 0.0000, 0.0000,\n",
      "        0.0000, 0.0000, 0.0000, 0.0000, 0.0000, 0.0000, 0.0000, 0.0000, 0.0000,\n",
      "        0.5000, 0.0000, 0.0000, 0.0000, 0.0000, 0.0000, 0.0000, 0.0000, 0.0000,\n",
      "        0.0000, 0.0000, 0.0000, 0.0000, 0.0000, 0.0000, 0.0000, 0.0000, 0.0000,\n",
      "        0.0000, 0.0000, 0.0000, 0.0000, 0.0000, 0.0000, 0.0000, 0.0000, 0.0000,\n",
      "        0.0000]) 36\n",
      "tensor([0.0000, 0.0000, 0.0000, 0.0000, 0.0000, 0.0000, 0.0000, 0.0000, 0.0000,\n",
      "        0.0000, 0.0000, 0.0000, 0.0000, 0.0000, 0.3162, 0.0000, 0.0000, 0.0000,\n",
      "        0.0000, 0.0000, 0.0000, 0.0000, 0.0000, 0.0000, 0.0000, 0.0000, 0.0000,\n",
      "        0.0000, 0.0000, 0.0000, 0.0000, 0.0000, 0.0000, 0.0000, 0.0000, 0.0000,\n",
      "        0.0000, 0.5000, 0.0000, 0.0000, 0.0000, 0.0000, 0.0000, 0.0000, 0.0000,\n",
      "        0.0000, 0.0000, 0.0000, 0.0000, 0.0000, 0.0000, 0.0000, 0.0000, 0.0000,\n",
      "        0.0000, 0.0000, 0.0000, 0.0000, 0.0000, 0.0000, 0.0000, 0.0000, 0.0000,\n",
      "        0.0000]) 37\n",
      "tensor([0.0000, 0.0000, 0.0000, 0.0000, 0.0000, 0.0000, 0.0000, 0.0000, 0.0000,\n",
      "        0.0000, 0.0000, 0.0000, 0.0000, 0.0000, 0.3162, 0.0000, 0.0000, 0.0000,\n",
      "        0.0000, 0.0000, 0.0000, 0.0000, 0.0000, 0.0000, 0.0000, 0.0000, 0.0000,\n",
      "        0.0000, 0.0000, 0.0000, 0.0000, 0.0000, 0.0000, 0.0000, 0.0000, 0.0000,\n",
      "        0.0000, 0.0000, 0.5000, 0.0000, 0.0000, 0.0000, 0.0000, 0.0000, 0.0000,\n",
      "        0.0000, 0.0000, 0.0000, 0.0000, 0.0000, 0.0000, 0.0000, 0.0000, 0.0000,\n",
      "        0.0000, 0.0000, 0.0000, 0.0000, 0.0000, 0.0000, 0.0000, 0.0000, 0.0000,\n",
      "        0.0000]) 38\n",
      "tensor([0.0000, 0.0000, 0.0000, 0.0000, 0.0000, 0.0000, 0.0000, 0.0000, 0.0000,\n",
      "        0.0000, 0.0000, 0.0000, 0.0000, 0.0000, 0.0000, 0.4082, 0.0000, 0.0000,\n",
      "        0.0000, 0.0000, 0.0000, 0.0000, 0.0000, 0.0000, 0.0000, 0.0000, 0.0000,\n",
      "        0.0000, 0.0000, 0.0000, 0.0000, 0.0000, 0.0000, 0.0000, 0.0000, 0.0000,\n",
      "        0.0000, 0.0000, 0.0000, 0.5000, 0.0000, 0.0000, 0.0000, 0.0000, 0.0000,\n",
      "        0.0000, 0.0000, 0.0000, 0.0000, 0.0000, 0.0000, 0.0000, 0.0000, 0.0000,\n",
      "        0.0000, 0.0000, 0.0000, 0.0000, 0.0000, 0.0000, 0.0000, 0.0000, 0.0000,\n",
      "        0.0000]) 39\n"
     ]
    }
   ],
   "source": [
    "for i in range(len(adj[0])):\n",
    "    for j in range(len(adj[0][i])):\n",
    "        if j != i and adj[0][i][j] != 0:\n",
    "            print(adj[0][i], i)"
   ]
  },
  {
   "cell_type": "code",
   "execution_count": 19,
   "metadata": {},
   "outputs": [],
   "source": [
    "for phase, df in [('train', train_df), \n",
    "                  ('test', test_df)]:\n",
    "\n",
    "\n",
    "    ds = netdataio.MoleculeDatasetMulti(df.rdmol.tolist(), \n",
    "                                        df.value.tolist(),  \n",
    "                                        MAX_N, len(tgt_nucs), \n",
    "                                        hparams['feat_vect_args'], \n",
    "                                        hparams['feat_mat_args'], \n",
    "                                        hparams['adj_args'])        \n",
    "    datasets[phase] = ds"
   ]
  },
  {
   "cell_type": "code",
   "execution_count": 20,
   "metadata": {},
   "outputs": [
    {
     "data": {
      "text/plain": [
       "<netdataio.MoleculeDatasetMulti at 0x1a30b3ad50>"
      ]
     },
     "execution_count": 20,
     "metadata": {},
     "output_type": "execute_result"
    }
   ],
   "source": [
    "datasets['train']"
   ]
  },
  {
   "cell_type": "code",
   "execution_count": 25,
   "metadata": {},
   "outputs": [
    {
     "data": {
      "text/plain": [
       "5390"
      ]
     },
     "execution_count": 25,
     "metadata": {},
     "output_type": "execute_result"
    }
   ],
   "source": [
    "len(datasets['test'])"
   ]
  },
  {
   "cell_type": "code",
   "execution_count": 21,
   "metadata": {},
   "outputs": [],
   "source": [
    "dl_train = torch.utils.data.DataLoader(datasets['train'], batch_size=16, \n",
    "                                           shuffle=True,pin_memory=True)"
   ]
  },
  {
   "cell_type": "code",
   "execution_count": 70,
   "metadata": {},
   "outputs": [
    {
     "data": {
      "text/plain": [
       "<torch.utils.data.dataloader.DataLoader at 0x1a2bdebf10>"
      ]
     },
     "execution_count": 70,
     "metadata": {},
     "output_type": "execute_result"
    }
   ],
   "source": [
    "dl_train"
   ]
  },
  {
   "cell_type": "code",
   "execution_count": 73,
   "metadata": {},
   "outputs": [],
   "source": [
    "dataiter = iter(dl_train)\n",
    "data = dataiter.next()"
   ]
  },
  {
   "cell_type": "code",
   "execution_count": 74,
   "metadata": {},
   "outputs": [
    {
     "data": {
      "text/plain": [
       "5"
      ]
     },
     "execution_count": 74,
     "metadata": {},
     "output_type": "execute_result"
    }
   ],
   "source": [
    "len(data)"
   ]
  },
  {
   "cell_type": "code",
   "execution_count": 75,
   "metadata": {},
   "outputs": [
    {
     "data": {
      "text/plain": [
       "tensor([[[[1.0000, 0.0000, 0.0000,  ..., 0.0000, 0.0000, 0.0000],\n",
       "          [0.0000, 1.0000, 0.0000,  ..., 0.0000, 0.0000, 0.0000],\n",
       "          [0.0000, 0.0000, 1.0000,  ..., 0.0000, 0.0000, 0.0000],\n",
       "          ...,\n",
       "          [0.0000, 0.0000, 0.0000,  ..., 0.0000, 0.0000, 0.0000],\n",
       "          [0.0000, 0.0000, 0.0000,  ..., 0.0000, 0.0000, 0.0000],\n",
       "          [0.0000, 0.0000, 0.0000,  ..., 0.0000, 0.0000, 0.0000]],\n",
       "\n",
       "         [[0.2500, 0.2500, 0.0000,  ..., 0.0000, 0.0000, 0.0000],\n",
       "          [0.2500, 0.2500, 0.2500,  ..., 0.0000, 0.0000, 0.0000],\n",
       "          [0.0000, 0.2500, 0.2500,  ..., 0.0000, 0.0000, 0.0000],\n",
       "          ...,\n",
       "          [0.0000, 0.0000, 0.0000,  ..., 0.0000, 0.0000, 0.0000],\n",
       "          [0.0000, 0.0000, 0.0000,  ..., 0.0000, 0.0000, 0.0000],\n",
       "          [0.0000, 0.0000, 0.0000,  ..., 0.0000, 0.0000, 0.0000]],\n",
       "\n",
       "         [[1.0000, 0.0000, 0.0000,  ..., 0.0000, 0.0000, 0.0000],\n",
       "          [0.0000, 1.0000, 0.0000,  ..., 0.0000, 0.0000, 0.0000],\n",
       "          [0.0000, 0.0000, 1.0000,  ..., 0.0000, 0.0000, 0.0000],\n",
       "          ...,\n",
       "          [0.0000, 0.0000, 0.0000,  ..., 0.0000, 0.0000, 0.0000],\n",
       "          [0.0000, 0.0000, 0.0000,  ..., 0.0000, 0.0000, 0.0000],\n",
       "          [0.0000, 0.0000, 0.0000,  ..., 0.0000, 0.0000, 0.0000]],\n",
       "\n",
       "         [[1.0000, 0.0000, 0.0000,  ..., 0.0000, 0.0000, 0.0000],\n",
       "          [0.0000, 1.0000, 0.0000,  ..., 0.0000, 0.0000, 0.0000],\n",
       "          [0.0000, 0.0000, 1.0000,  ..., 0.0000, 0.0000, 0.0000],\n",
       "          ...,\n",
       "          [0.0000, 0.0000, 0.0000,  ..., 0.0000, 0.0000, 0.0000],\n",
       "          [0.0000, 0.0000, 0.0000,  ..., 0.0000, 0.0000, 0.0000],\n",
       "          [0.0000, 0.0000, 0.0000,  ..., 0.0000, 0.0000, 0.0000]]],\n",
       "\n",
       "\n",
       "        [[[0.3333, 0.2582, 0.0000,  ..., 0.0000, 0.0000, 0.0000],\n",
       "          [0.2582, 0.2000, 0.2000,  ..., 0.0000, 0.0000, 0.0000],\n",
       "          [0.0000, 0.2000, 0.2000,  ..., 0.0000, 0.0000, 0.0000],\n",
       "          ...,\n",
       "          [0.0000, 0.0000, 0.0000,  ..., 0.0000, 0.0000, 0.0000],\n",
       "          [0.0000, 0.0000, 0.0000,  ..., 0.0000, 0.0000, 0.0000],\n",
       "          [0.0000, 0.0000, 0.0000,  ..., 0.0000, 0.0000, 0.0000]],\n",
       "\n",
       "         [[1.0000, 0.0000, 0.0000,  ..., 0.0000, 0.0000, 0.0000],\n",
       "          [0.0000, 1.0000, 0.0000,  ..., 0.0000, 0.0000, 0.0000],\n",
       "          [0.0000, 0.0000, 1.0000,  ..., 0.0000, 0.0000, 0.0000],\n",
       "          ...,\n",
       "          [0.0000, 0.0000, 0.0000,  ..., 0.0000, 0.0000, 0.0000],\n",
       "          [0.0000, 0.0000, 0.0000,  ..., 0.0000, 0.0000, 0.0000],\n",
       "          [0.0000, 0.0000, 0.0000,  ..., 0.0000, 0.0000, 0.0000]],\n",
       "\n",
       "         [[0.5000, 0.0000, 0.0000,  ..., 0.0000, 0.0000, 0.0000],\n",
       "          [0.0000, 1.0000, 0.0000,  ..., 0.0000, 0.0000, 0.0000],\n",
       "          [0.0000, 0.0000, 1.0000,  ..., 0.0000, 0.0000, 0.0000],\n",
       "          ...,\n",
       "          [0.0000, 0.0000, 0.0000,  ..., 0.0000, 0.0000, 0.0000],\n",
       "          [0.0000, 0.0000, 0.0000,  ..., 0.0000, 0.0000, 0.0000],\n",
       "          [0.0000, 0.0000, 0.0000,  ..., 0.0000, 0.0000, 0.0000]],\n",
       "\n",
       "         [[1.0000, 0.0000, 0.0000,  ..., 0.0000, 0.0000, 0.0000],\n",
       "          [0.0000, 1.0000, 0.0000,  ..., 0.0000, 0.0000, 0.0000],\n",
       "          [0.0000, 0.0000, 1.0000,  ..., 0.0000, 0.0000, 0.0000],\n",
       "          ...,\n",
       "          [0.0000, 0.0000, 0.0000,  ..., 0.0000, 0.0000, 0.0000],\n",
       "          [0.0000, 0.0000, 0.0000,  ..., 0.0000, 0.0000, 0.0000],\n",
       "          [0.0000, 0.0000, 0.0000,  ..., 0.0000, 0.0000, 0.0000]]],\n",
       "\n",
       "\n",
       "        [[[0.2000, 0.2000, 0.0000,  ..., 0.0000, 0.0000, 0.0000],\n",
       "          [0.2000, 0.2000, 0.2582,  ..., 0.0000, 0.0000, 0.0000],\n",
       "          [0.0000, 0.2582, 0.3333,  ..., 0.0000, 0.0000, 0.0000],\n",
       "          ...,\n",
       "          [0.0000, 0.0000, 0.0000,  ..., 0.0000, 0.0000, 0.0000],\n",
       "          [0.0000, 0.0000, 0.0000,  ..., 0.0000, 0.0000, 0.0000],\n",
       "          [0.0000, 0.0000, 0.0000,  ..., 0.0000, 0.0000, 0.0000]],\n",
       "\n",
       "         [[1.0000, 0.0000, 0.0000,  ..., 0.0000, 0.0000, 0.0000],\n",
       "          [0.0000, 1.0000, 0.0000,  ..., 0.0000, 0.0000, 0.0000],\n",
       "          [0.0000, 0.0000, 1.0000,  ..., 0.0000, 0.0000, 0.0000],\n",
       "          ...,\n",
       "          [0.0000, 0.0000, 0.0000,  ..., 0.0000, 0.0000, 0.0000],\n",
       "          [0.0000, 0.0000, 0.0000,  ..., 0.0000, 0.0000, 0.0000],\n",
       "          [0.0000, 0.0000, 0.0000,  ..., 0.0000, 0.0000, 0.0000]],\n",
       "\n",
       "         [[1.0000, 0.0000, 0.0000,  ..., 0.0000, 0.0000, 0.0000],\n",
       "          [0.0000, 1.0000, 0.0000,  ..., 0.0000, 0.0000, 0.0000],\n",
       "          [0.0000, 0.0000, 0.5000,  ..., 0.0000, 0.0000, 0.0000],\n",
       "          ...,\n",
       "          [0.0000, 0.0000, 0.0000,  ..., 0.0000, 0.0000, 0.0000],\n",
       "          [0.0000, 0.0000, 0.0000,  ..., 0.0000, 0.0000, 0.0000],\n",
       "          [0.0000, 0.0000, 0.0000,  ..., 0.0000, 0.0000, 0.0000]],\n",
       "\n",
       "         [[1.0000, 0.0000, 0.0000,  ..., 0.0000, 0.0000, 0.0000],\n",
       "          [0.0000, 1.0000, 0.0000,  ..., 0.0000, 0.0000, 0.0000],\n",
       "          [0.0000, 0.0000, 1.0000,  ..., 0.0000, 0.0000, 0.0000],\n",
       "          ...,\n",
       "          [0.0000, 0.0000, 0.0000,  ..., 0.0000, 0.0000, 0.0000],\n",
       "          [0.0000, 0.0000, 0.0000,  ..., 0.0000, 0.0000, 0.0000],\n",
       "          [0.0000, 0.0000, 0.0000,  ..., 0.0000, 0.0000, 0.0000]]],\n",
       "\n",
       "\n",
       "        ...,\n",
       "\n",
       "\n",
       "        [[[0.5000, 0.0000, 0.0000,  ..., 0.0000, 0.0000, 0.0000],\n",
       "          [0.0000, 0.5000, 0.0000,  ..., 0.0000, 0.0000, 0.0000],\n",
       "          [0.0000, 0.0000, 0.5000,  ..., 0.0000, 0.0000, 0.0000],\n",
       "          ...,\n",
       "          [0.0000, 0.0000, 0.0000,  ..., 0.0000, 0.0000, 0.0000],\n",
       "          [0.0000, 0.0000, 0.0000,  ..., 0.0000, 0.0000, 0.0000],\n",
       "          [0.0000, 0.0000, 0.0000,  ..., 0.0000, 0.0000, 0.0000]],\n",
       "\n",
       "         [[0.3333, 0.3333, 0.0000,  ..., 0.0000, 0.0000, 0.0000],\n",
       "          [0.3333, 0.3333, 0.3333,  ..., 0.0000, 0.0000, 0.0000],\n",
       "          [0.0000, 0.3333, 0.3333,  ..., 0.0000, 0.0000, 0.0000],\n",
       "          ...,\n",
       "          [0.0000, 0.0000, 0.0000,  ..., 0.0000, 0.0000, 0.0000],\n",
       "          [0.0000, 0.0000, 0.0000,  ..., 0.0000, 0.0000, 0.0000],\n",
       "          [0.0000, 0.0000, 0.0000,  ..., 0.0000, 0.0000, 0.0000]],\n",
       "\n",
       "         [[1.0000, 0.0000, 0.0000,  ..., 0.0000, 0.0000, 0.0000],\n",
       "          [0.0000, 1.0000, 0.0000,  ..., 0.0000, 0.0000, 0.0000],\n",
       "          [0.0000, 0.0000, 1.0000,  ..., 0.0000, 0.0000, 0.0000],\n",
       "          ...,\n",
       "          [0.0000, 0.0000, 0.0000,  ..., 0.0000, 0.0000, 0.0000],\n",
       "          [0.0000, 0.0000, 0.0000,  ..., 0.0000, 0.0000, 0.0000],\n",
       "          [0.0000, 0.0000, 0.0000,  ..., 0.0000, 0.0000, 0.0000]],\n",
       "\n",
       "         [[1.0000, 0.0000, 0.0000,  ..., 0.0000, 0.0000, 0.0000],\n",
       "          [0.0000, 1.0000, 0.0000,  ..., 0.0000, 0.0000, 0.0000],\n",
       "          [0.0000, 0.0000, 1.0000,  ..., 0.0000, 0.0000, 0.0000],\n",
       "          ...,\n",
       "          [0.0000, 0.0000, 0.0000,  ..., 0.0000, 0.0000, 0.0000],\n",
       "          [0.0000, 0.0000, 0.0000,  ..., 0.0000, 0.0000, 0.0000],\n",
       "          [0.0000, 0.0000, 0.0000,  ..., 0.0000, 0.0000, 0.0000]]],\n",
       "\n",
       "\n",
       "        [[[0.2000, 0.2000, 0.2000,  ..., 0.0000, 0.0000, 0.0000],\n",
       "          [0.2000, 0.2000, 0.0000,  ..., 0.0000, 0.0000, 0.0000],\n",
       "          [0.2000, 0.0000, 0.2000,  ..., 0.0000, 0.0000, 0.0000],\n",
       "          ...,\n",
       "          [0.0000, 0.0000, 0.0000,  ..., 0.0000, 0.0000, 0.0000],\n",
       "          [0.0000, 0.0000, 0.0000,  ..., 0.0000, 0.0000, 0.0000],\n",
       "          [0.0000, 0.0000, 0.0000,  ..., 0.0000, 0.0000, 0.0000]],\n",
       "\n",
       "         [[1.0000, 0.0000, 0.0000,  ..., 0.0000, 0.0000, 0.0000],\n",
       "          [0.0000, 1.0000, 0.0000,  ..., 0.0000, 0.0000, 0.0000],\n",
       "          [0.0000, 0.0000, 1.0000,  ..., 0.0000, 0.0000, 0.0000],\n",
       "          ...,\n",
       "          [0.0000, 0.0000, 0.0000,  ..., 0.0000, 0.0000, 0.0000],\n",
       "          [0.0000, 0.0000, 0.0000,  ..., 0.0000, 0.0000, 0.0000],\n",
       "          [0.0000, 0.0000, 0.0000,  ..., 0.0000, 0.0000, 0.0000]],\n",
       "\n",
       "         [[1.0000, 0.0000, 0.0000,  ..., 0.0000, 0.0000, 0.0000],\n",
       "          [0.0000, 1.0000, 0.0000,  ..., 0.0000, 0.0000, 0.0000],\n",
       "          [0.0000, 0.0000, 1.0000,  ..., 0.0000, 0.0000, 0.0000],\n",
       "          ...,\n",
       "          [0.0000, 0.0000, 0.0000,  ..., 0.0000, 0.0000, 0.0000],\n",
       "          [0.0000, 0.0000, 0.0000,  ..., 0.0000, 0.0000, 0.0000],\n",
       "          [0.0000, 0.0000, 0.0000,  ..., 0.0000, 0.0000, 0.0000]],\n",
       "\n",
       "         [[1.0000, 0.0000, 0.0000,  ..., 0.0000, 0.0000, 0.0000],\n",
       "          [0.0000, 1.0000, 0.0000,  ..., 0.0000, 0.0000, 0.0000],\n",
       "          [0.0000, 0.0000, 1.0000,  ..., 0.0000, 0.0000, 0.0000],\n",
       "          ...,\n",
       "          [0.0000, 0.0000, 0.0000,  ..., 0.0000, 0.0000, 0.0000],\n",
       "          [0.0000, 0.0000, 0.0000,  ..., 0.0000, 0.0000, 0.0000],\n",
       "          [0.0000, 0.0000, 0.0000,  ..., 0.0000, 0.0000, 0.0000]]],\n",
       "\n",
       "\n",
       "        [[[0.2000, 0.2000, 0.0000,  ..., 0.0000, 0.0000, 0.0000],\n",
       "          [0.2000, 0.2000, 0.2000,  ..., 0.0000, 0.0000, 0.0000],\n",
       "          [0.0000, 0.2000, 0.2000,  ..., 0.0000, 0.0000, 0.0000],\n",
       "          ...,\n",
       "          [0.0000, 0.0000, 0.0000,  ..., 0.0000, 0.0000, 0.0000],\n",
       "          [0.0000, 0.0000, 0.0000,  ..., 0.0000, 0.0000, 0.0000],\n",
       "          [0.0000, 0.0000, 0.0000,  ..., 0.0000, 0.0000, 0.0000]],\n",
       "\n",
       "         [[1.0000, 0.0000, 0.0000,  ..., 0.0000, 0.0000, 0.0000],\n",
       "          [0.0000, 1.0000, 0.0000,  ..., 0.0000, 0.0000, 0.0000],\n",
       "          [0.0000, 0.0000, 1.0000,  ..., 0.0000, 0.0000, 0.0000],\n",
       "          ...,\n",
       "          [0.0000, 0.0000, 0.0000,  ..., 0.0000, 0.0000, 0.0000],\n",
       "          [0.0000, 0.0000, 0.0000,  ..., 0.0000, 0.0000, 0.0000],\n",
       "          [0.0000, 0.0000, 0.0000,  ..., 0.0000, 0.0000, 0.0000]],\n",
       "\n",
       "         [[1.0000, 0.0000, 0.0000,  ..., 0.0000, 0.0000, 0.0000],\n",
       "          [0.0000, 1.0000, 0.0000,  ..., 0.0000, 0.0000, 0.0000],\n",
       "          [0.0000, 0.0000, 1.0000,  ..., 0.0000, 0.0000, 0.0000],\n",
       "          ...,\n",
       "          [0.0000, 0.0000, 0.0000,  ..., 0.0000, 0.0000, 0.0000],\n",
       "          [0.0000, 0.0000, 0.0000,  ..., 0.0000, 0.0000, 0.0000],\n",
       "          [0.0000, 0.0000, 0.0000,  ..., 0.0000, 0.0000, 0.0000]],\n",
       "\n",
       "         [[1.0000, 0.0000, 0.0000,  ..., 0.0000, 0.0000, 0.0000],\n",
       "          [0.0000, 1.0000, 0.0000,  ..., 0.0000, 0.0000, 0.0000],\n",
       "          [0.0000, 0.0000, 1.0000,  ..., 0.0000, 0.0000, 0.0000],\n",
       "          ...,\n",
       "          [0.0000, 0.0000, 0.0000,  ..., 0.0000, 0.0000, 0.0000],\n",
       "          [0.0000, 0.0000, 0.0000,  ..., 0.0000, 0.0000, 0.0000],\n",
       "          [0.0000, 0.0000, 0.0000,  ..., 0.0000, 0.0000, 0.0000]]]])"
      ]
     },
     "execution_count": 75,
     "metadata": {},
     "output_type": "execute_result"
    }
   ],
   "source": [
    "data[0]"
   ]
  },
  {
   "cell_type": "code",
   "execution_count": 76,
   "metadata": {},
   "outputs": [
    {
     "data": {
      "text/plain": [
       "tensor([[[6., 0., 1.,  ..., 1., 1., 0.],\n",
       "         [6., 0., 1.,  ..., 1., 1., 0.],\n",
       "         [6., 0., 1.,  ..., 1., 1., 0.],\n",
       "         ...,\n",
       "         [0., 0., 0.,  ..., 0., 0., 0.],\n",
       "         [0., 0., 0.,  ..., 0., 0., 0.],\n",
       "         [0., 0., 0.,  ..., 0., 0., 0.]],\n",
       "\n",
       "        [[6., 0., 1.,  ..., 1., 0., 0.],\n",
       "         [6., 0., 1.,  ..., 1., 0., 0.],\n",
       "         [6., 0., 1.,  ..., 1., 0., 0.],\n",
       "         ...,\n",
       "         [0., 0., 0.,  ..., 0., 0., 0.],\n",
       "         [0., 0., 0.,  ..., 0., 0., 0.],\n",
       "         [0., 0., 0.,  ..., 0., 0., 0.]],\n",
       "\n",
       "        [[6., 0., 1.,  ..., 1., 0., 0.],\n",
       "         [6., 0., 1.,  ..., 1., 0., 0.],\n",
       "         [6., 0., 1.,  ..., 1., 0., 0.],\n",
       "         ...,\n",
       "         [0., 0., 0.,  ..., 0., 0., 0.],\n",
       "         [0., 0., 0.,  ..., 0., 0., 0.],\n",
       "         [0., 0., 0.,  ..., 0., 0., 0.]],\n",
       "\n",
       "        ...,\n",
       "\n",
       "        [[6., 0., 1.,  ..., 0., 1., 0.],\n",
       "         [6., 0., 1.,  ..., 0., 1., 0.],\n",
       "         [6., 0., 1.,  ..., 0., 1., 0.],\n",
       "         ...,\n",
       "         [0., 0., 0.,  ..., 0., 0., 0.],\n",
       "         [0., 0., 0.,  ..., 0., 0., 0.],\n",
       "         [0., 0., 0.,  ..., 0., 0., 0.]],\n",
       "\n",
       "        [[6., 0., 1.,  ..., 0., 1., 1.],\n",
       "         [6., 0., 1.,  ..., 1., 1., 0.],\n",
       "         [6., 0., 1.,  ..., 0., 1., 1.],\n",
       "         ...,\n",
       "         [0., 0., 0.,  ..., 0., 0., 0.],\n",
       "         [0., 0., 0.,  ..., 0., 0., 0.],\n",
       "         [0., 0., 0.,  ..., 0., 0., 0.]],\n",
       "\n",
       "        [[6., 0., 1.,  ..., 0., 1., 0.],\n",
       "         [6., 0., 1.,  ..., 0., 1., 0.],\n",
       "         [6., 0., 1.,  ..., 0., 1., 0.],\n",
       "         ...,\n",
       "         [0., 0., 0.,  ..., 0., 0., 0.],\n",
       "         [0., 0., 0.,  ..., 0., 0., 0.],\n",
       "         [0., 0., 0.,  ..., 0., 0., 0.]]])"
      ]
     },
     "execution_count": 76,
     "metadata": {},
     "output_type": "execute_result"
    }
   ],
   "source": [
    "data[1]"
   ]
  },
  {
   "cell_type": "markdown",
   "metadata": {},
   "source": [
    "# Playing around with original dataset"
   ]
  },
  {
   "cell_type": "code",
   "execution_count": 261,
   "metadata": {},
   "outputs": [],
   "source": [
    "suppl2 = Chem.SDMolSupplier('nmrshiftdb2withsignals.sd', removeHs=False)"
   ]
  },
  {
   "cell_type": "code",
   "execution_count": 271,
   "metadata": {},
   "outputs": [
    {
     "data": {
      "image/png": "[encoded data removed]",
      "text/plain": [
       "<rdkit.Chem.rdchem.Mol at 0x1a4b9539e0>"
      ]
     },
     "execution_count": 271,
     "metadata": {},
     "output_type": "execute_result"
    }
   ],
   "source": [
    "suppl2[0]"
   ]
  },
  {
   "cell_type": "code",
   "execution_count": 458,
   "metadata": {},
   "outputs": [
    {
     "data": {
      "image/png": "[encoded data removed]",
      "text/plain": [
       "<rdkit.Chem.rdchem.Mol at 0x1a73fac7b0>"
      ]
     },
     "execution_count": 458,
     "metadata": {},
     "output_type": "execute_result"
    }
   ],
   "source": [
    "suppl2[2]"
   ]
  },
  {
   "cell_type": "code",
   "execution_count": 2,
   "metadata": {},
   "outputs": [
    {
     "name": "stderr",
     "output_type": "stream",
     "text": [
      "RDKit WARNING: [14:10:45] Warning: conflicting stereochemistry at atom 6 ignored.\n",
      "RDKit WARNING: [14:10:45] Warning: conflicting stereochemistry at atom 6 ignored.\n",
      "RDKit WARNING: [14:10:46] Warning: conflicting stereochemistry at atom 27 ignored.\n",
      "RDKit WARNING: [14:10:46] Warning: conflicting stereochemistry at atom 27 ignored.\n",
      "RDKit WARNING: [14:10:46] Warning: conflicting stereochemistry at atom 31 ignored.\n",
      "RDKit WARNING: [14:10:46] Warning: conflicting stereochemistry at atom 30 ignored.\n",
      "RDKit WARNING: [14:10:46] Warning: conflicting stereochemistry at atom 30 ignored.\n",
      "RDKit WARNING: [14:10:46] Warning: conflicting stereochemistry at atom 31 ignored.\n",
      "RDKit WARNING: [14:10:47] Warning: conflicting stereochemistry at atom 13 ignored.\n",
      "RDKit WARNING: [14:10:47] Warning: conflicting stereochemistry at atom 13 ignored.\n",
      "RDKit WARNING: [14:10:47] Warning: conflicting stereochemistry at atom 28 ignored.\n",
      "RDKit WARNING: [14:10:47] Warning: conflicting stereochemistry at atom 28 ignored.\n",
      "RDKit WARNING: [14:10:56] Warning: conflicting stereochemistry at atom 20 ignored.\n",
      "RDKit WARNING: [14:10:56] Warning: conflicting stereochemistry at atom 20 ignored.\n",
      "RDKit WARNING: [14:10:56] Warning: conflicting stereochemistry at atom 19 ignored.\n",
      "RDKit WARNING: [14:10:56] Warning: conflicting stereochemistry at atom 19 ignored.\n",
      "RDKit WARNING: [14:11:03] Warning: conflicting stereochemistry at atom 0 ignored.\n",
      "RDKit WARNING: [14:11:03] Warning: conflicting stereochemistry at atom 0 ignored.\n",
      "RDKit WARNING: [14:11:03] Warning: conflicting stereochemistry at atom 16 ignored.\n",
      "RDKit WARNING: [14:11:03] Warning: conflicting stereochemistry at atom 5 ignored.\n",
      "RDKit WARNING: [14:11:03] Warning: conflicting stereochemistry at atom 5 ignored.\n",
      "RDKit WARNING: [14:11:03] Warning: conflicting stereochemistry at atom 5 ignored.\n",
      "RDKit WARNING: [14:11:03] Warning: conflicting stereochemistry at atom 5 ignored.\n",
      "RDKit WARNING: [14:11:03] Warning: conflicting stereochemistry at atom 5 ignored.\n",
      "RDKit WARNING: [14:11:03] Warning: conflicting stereochemistry at atom 5 ignored.\n",
      "RDKit WARNING: [14:11:03] Warning: conflicting stereochemistry at atom 16 ignored.\n",
      "RDKit WARNING: [14:11:03] Warning: conflicting stereochemistry at atom 12 ignored.\n",
      "RDKit WARNING: [14:11:03] Warning: conflicting stereochemistry at atom 30 ignored.\n",
      "RDKit WARNING: [14:11:03] Warning: conflicting stereochemistry at atom 12 ignored.\n",
      "RDKit WARNING: [14:11:03] Warning: conflicting stereochemistry at atom 21 ignored.\n",
      "RDKit WARNING: [14:11:03] Warning: conflicting stereochemistry at atom 21 ignored.\n",
      "RDKit WARNING: [14:11:04] Warning: conflicting stereochemistry at atom 8 ignored.\n",
      "RDKit WARNING: [14:11:04] Warning: conflicting stereochemistry at atom 8 ignored.\n",
      "RDKit WARNING: [14:11:04] Warning: conflicting stereochemistry at atom 0 ignored.\n",
      "RDKit WARNING: [14:11:04] Warning: conflicting stereochemistry at atom 6 ignored.\n",
      "RDKit WARNING: [14:11:04] Warning: conflicting stereochemistry at atom 6 ignored.\n",
      "RDKit ERROR: [14:11:05] Explicit valence for atom # 4 N, 4, is greater than permitted\n",
      "RDKit ERROR: [14:11:05] ERROR: Could not sanitize molecule ending on line 990120\n",
      "RDKit ERROR: [14:11:05] ERROR: Explicit valence for atom # 4 N, 4, is greater than permitted\n",
      "RDKit ERROR: [14:11:05] Explicit valence for atom # 1 N, 4, is greater than permitted\n",
      "RDKit ERROR: [14:11:05] ERROR: Could not sanitize molecule ending on line 990166\n",
      "RDKit ERROR: [14:11:05] ERROR: Explicit valence for atom # 1 N, 4, is greater than permitted\n",
      "RDKit ERROR: [14:11:06] Explicit valence for atom # 0 B, 7, is greater than permitted\n",
      "RDKit ERROR: [14:11:06] ERROR: Could not sanitize molecule ending on line 1022580\n",
      "RDKit ERROR: [14:11:06] ERROR: Explicit valence for atom # 0 B, 7, is greater than permitted\n",
      "RDKit ERROR: [14:11:06] Explicit valence for atom # 0 B, 4, is greater than permitted\n",
      "RDKit ERROR: [14:11:06] ERROR: Could not sanitize molecule ending on line 1022628\n",
      "RDKit ERROR: [14:11:06] ERROR: Explicit valence for atom # 0 B, 4, is greater than permitted\n",
      "RDKit ERROR: [14:11:06] Explicit valence for atom # 1 N, 4, is greater than permitted\n",
      "RDKit ERROR: [14:11:06] ERROR: Could not sanitize molecule ending on line 1022791\n",
      "RDKit ERROR: [14:11:06] ERROR: Explicit valence for atom # 1 N, 4, is greater than permitted\n",
      "RDKit ERROR: [14:11:06] Explicit valence for atom # 2 H, 2, is greater than permitted\n",
      "RDKit ERROR: [14:11:06] ERROR: Could not sanitize molecule ending on line 1022844\n",
      "RDKit ERROR: [14:11:06] ERROR: Explicit valence for atom # 2 H, 2, is greater than permitted\n",
      "RDKit ERROR: [14:11:06] Explicit valence for atom # 3 H, 3, is greater than permitted\n",
      "RDKit ERROR: [14:11:06] ERROR: Could not sanitize molecule ending on line 1022930\n",
      "RDKit ERROR: [14:11:06] ERROR: Explicit valence for atom # 3 H, 3, is greater than permitted\n",
      "RDKit ERROR: [14:11:06] Explicit valence for atom # 0 N, 4, is greater than permitted\n",
      "RDKit ERROR: [14:11:06] ERROR: Could not sanitize molecule ending on line 1036289\n",
      "RDKit ERROR: [14:11:06] ERROR: Explicit valence for atom # 0 N, 4, is greater than permitted\n",
      "RDKit ERROR: [14:11:06] Explicit valence for atom # 5 N, 4, is greater than permitted\n",
      "RDKit ERROR: [14:11:06] ERROR: Could not sanitize molecule ending on line 1037280\n",
      "RDKit ERROR: [14:11:06] ERROR: Explicit valence for atom # 5 N, 4, is greater than permitted\n",
      "RDKit ERROR: [14:11:06] Explicit valence for atom # 5 N, 4, is greater than permitted\n",
      "RDKit ERROR: [14:11:06] ERROR: Could not sanitize molecule ending on line 1037340\n",
      "RDKit ERROR: [14:11:06] ERROR: Explicit valence for atom # 5 N, 4, is greater than permitted\n",
      "RDKit ERROR: [14:11:06] Explicit valence for atom # 5 N, 4, is greater than permitted\n",
      "RDKit ERROR: [14:11:06] ERROR: Could not sanitize molecule ending on line 1037402\n",
      "RDKit ERROR: [14:11:06] ERROR: Explicit valence for atom # 5 N, 4, is greater than permitted\n",
      "RDKit ERROR: [14:11:06] Explicit valence for atom # 5 N, 4, is greater than permitted\n",
      "RDKit ERROR: [14:11:06] ERROR: Could not sanitize molecule ending on line 1037466\n",
      "RDKit ERROR: [14:11:06] ERROR: Explicit valence for atom # 5 N, 4, is greater than permitted\n",
      "RDKit ERROR: [14:11:06] Explicit valence for atom # 5 N, 4, is greater than permitted\n",
      "RDKit ERROR: [14:11:06] ERROR: Could not sanitize molecule ending on line 1037533\n",
      "RDKit ERROR: [14:11:06] ERROR: Explicit valence for atom # 5 N, 4, is greater than permitted\n",
      "RDKit ERROR: [14:11:06] Explicit valence for atom # 5 N, 4, is greater than permitted\n",
      "RDKit ERROR: [14:11:06] ERROR: Could not sanitize molecule ending on line 1037597\n",
      "RDKit ERROR: [14:11:06] ERROR: Explicit valence for atom # 5 N, 4, is greater than permitted\n",
      "RDKit ERROR: [14:11:06] Explicit valence for atom # 5 N, 4, is greater than permitted\n",
      "RDKit ERROR: [14:11:06] ERROR: Could not sanitize molecule ending on line 1037665\n",
      "RDKit ERROR: [14:11:06] ERROR: Explicit valence for atom # 5 N, 4, is greater than permitted\n",
      "RDKit ERROR: [14:11:06] Explicit valence for atom # 5 N, 4, is greater than permitted\n",
      "RDKit ERROR: [14:11:06] ERROR: Could not sanitize molecule ending on line 1037745\n",
      "RDKit ERROR: [14:11:06] ERROR: Explicit valence for atom # 5 N, 4, is greater than permitted\n",
      "RDKit ERROR: [14:11:41] Explicit valence for atom # 15 B, 4, is greater than permitted\n",
      "RDKit ERROR: [14:11:41] ERROR: Could not sanitize molecule ending on line 2471352\n",
      "RDKit ERROR: [14:11:41] ERROR: Explicit valence for atom # 15 B, 4, is greater than permitted\n",
      "RDKit ERROR: [14:11:42] Explicit valence for atom # 21 B, 4, is greater than permitted\n",
      "RDKit ERROR: [14:11:42] ERROR: Could not sanitize molecule ending on line 2526791\n",
      "RDKit ERROR: [14:11:42] ERROR: Explicit valence for atom # 21 B, 4, is greater than permitted\n",
      "RDKit ERROR: [14:11:43] Explicit valence for atom # 0 I, 7, is greater than permitted\n",
      "RDKit ERROR: [14:11:43] ERROR: Could not sanitize molecule ending on line 2563455\n",
      "RDKit WARNING: [14:11:43] Warning: conflicting stereochemistry at atom 3 ignored.\n",
      "RDKit WARNING: [14:11:43] Warning: conflicting stereochemistry at atom 3 ignored.\n",
      "RDKit WARNING: [14:11:43] Warning: conflicting stereochemistry at atom 0 ignored.\n",
      "RDKit WARNING: [14:11:43] Warning: conflicting stereochemistry at atom 3 ignored.\n",
      "RDKit WARNING: [14:11:43] Warning: conflicting stereochemistry at atom 3 ignored.\n",
      "RDKit WARNING: [14:11:43] Warning: conflicting stereochemistry at atom 0 ignored.\n",
      "RDKit WARNING: [14:11:43] Warning: conflicting stereochemistry at atom 3 ignored.\n",
      "RDKit WARNING: [14:11:43] Warning: conflicting stereochemistry at atom 0 ignored.\n",
      "RDKit WARNING: [14:11:43] Warning: conflicting stereochemistry at atom 3 ignored.\n",
      "RDKit WARNING: [14:11:43] Warning: conflicting stereochemistry at atom 1 ignored.\n",
      "RDKit WARNING: [14:11:43] Warning: conflicting stereochemistry at atom 1 ignored.\n",
      "RDKit WARNING: [14:11:43] Warning: conflicting stereochemistry at atom 3 ignored.\n",
      "RDKit WARNING: [14:11:43] Warning: conflicting stereochemistry at atom 0 ignored.\n",
      "RDKit WARNING: [14:11:43] Warning: conflicting stereochemistry at atom 3 ignored.\n",
      "RDKit WARNING: [14:11:43] Warning: conflicting stereochemistry at atom 1 ignored.\n",
      "RDKit WARNING: [14:11:43] Warning: conflicting stereochemistry at atom 0 ignored.\n",
      "RDKit WARNING: [14:11:43] Warning: conflicting stereochemistry at atom 1 ignored.\n",
      "RDKit WARNING: [14:11:43] Warning: conflicting stereochemistry at atom 3 ignored.\n",
      "RDKit WARNING: [14:11:43] Warning: conflicting stereochemistry at atom 0 ignored.\n",
      "RDKit WARNING: [14:11:43] Warning: conflicting stereochemistry at atom 3 ignored.\n",
      "RDKit WARNING: [14:11:43] Warning: conflicting stereochemistry at atom 3 ignored.\n",
      "RDKit WARNING: [14:11:43] Warning: conflicting stereochemistry at atom 3 ignored.\n",
      "RDKit WARNING: [14:11:43] Warning: conflicting stereochemistry at atom 3 ignored.\n",
      "RDKit WARNING: [14:11:43] Warning: conflicting stereochemistry at atom 3 ignored.\n",
      "RDKit WARNING: [14:11:43] Warning: conflicting stereochemistry at atom 4 ignored.\n",
      "RDKit WARNING: [14:11:43] Warning: conflicting stereochemistry at atom 0 ignored.\n",
      "RDKit WARNING: [14:11:43] Warning: conflicting stereochemistry at atom 0 ignored.\n",
      "RDKit WARNING: [14:11:43] Warning: conflicting stereochemistry at atom 4 ignored.\n",
      "RDKit WARNING: [14:11:43] Warning: conflicting stereochemistry at atom 3 ignored.\n",
      "RDKit WARNING: [14:11:43] Warning: conflicting stereochemistry at atom 0 ignored.\n",
      "RDKit WARNING: [14:11:43] Warning: conflicting stereochemistry at atom 3 ignored.\n",
      "RDKit WARNING: [14:11:43] Warning: conflicting stereochemistry at atom 3 ignored.\n",
      "RDKit WARNING: [14:11:43] Warning: conflicting stereochemistry at atom 3 ignored.\n",
      "RDKit WARNING: [14:11:44] Warning: conflicting stereochemistry at atom 3 ignored.\n",
      "RDKit WARNING: [14:11:44] Warning: conflicting stereochemistry at atom 0 ignored.\n",
      "RDKit WARNING: [14:11:44] Warning: conflicting stereochemistry at atom 3 ignored.\n",
      "RDKit WARNING: [14:11:44] Warning: conflicting stereochemistry at atom 3 ignored.\n",
      "RDKit WARNING: [14:11:44] Warning: conflicting stereochemistry at atom 0 ignored.\n",
      "RDKit WARNING: [14:11:44] Warning: conflicting stereochemistry at atom 3 ignored.\n",
      "RDKit WARNING: [14:11:44] Warning: conflicting stereochemistry at atom 3 ignored.\n",
      "RDKit WARNING: [14:11:44] Warning: conflicting stereochemistry at atom 0 ignored.\n",
      "RDKit WARNING: [14:11:44] Warning: conflicting stereochemistry at atom 3 ignored.\n",
      "RDKit WARNING: [14:11:44] Warning: conflicting stereochemistry at atom 3 ignored.\n",
      "RDKit WARNING: [14:11:44] Warning: conflicting stereochemistry at atom 3 ignored.\n",
      "RDKit WARNING: [14:11:44] Warning: conflicting stereochemistry at atom 4 ignored.\n",
      "RDKit WARNING: [14:11:44] Warning: conflicting stereochemistry at atom 0 ignored.\n",
      "RDKit WARNING: [14:11:44] Warning: conflicting stereochemistry at atom 4 ignored.\n",
      "RDKit WARNING: [14:11:44] Warning: conflicting stereochemistry at atom 6 ignored.\n",
      "RDKit WARNING: [14:11:44] Warning: conflicting stereochemistry at atom 0 ignored.\n",
      "RDKit WARNING: [14:11:44] Warning: conflicting stereochemistry at atom 6 ignored.\n",
      "RDKit WARNING: [14:11:44] Warning: conflicting stereochemistry at atom 2 ignored.\n",
      "RDKit WARNING: [14:11:44] Warning: conflicting stereochemistry at atom 2 ignored.\n",
      "RDKit WARNING: [14:11:44] Warning: conflicting stereochemistry at atom 2 ignored.\n",
      "RDKit WARNING: [14:11:44] Warning: conflicting stereochemistry at atom 2 ignored.\n",
      "RDKit WARNING: [14:11:44] Warning: conflicting stereochemistry at atom 2 ignored.\n",
      "RDKit WARNING: [14:11:44] Warning: conflicting stereochemistry at atom 2 ignored.\n",
      "RDKit WARNING: [14:11:44] Warning: conflicting stereochemistry at atom 10 ignored.\n",
      "RDKit WARNING: [14:11:44] Warning: conflicting stereochemistry at atom 10 ignored.\n",
      "RDKit WARNING: [14:11:44] Warning: conflicting stereochemistry at atom 2 ignored.\n",
      "RDKit WARNING: [14:11:44] Warning: conflicting stereochemistry at atom 2 ignored.\n",
      "RDKit WARNING: [14:11:44] Warning: conflicting stereochemistry at atom 3 ignored.\n",
      "RDKit WARNING: [14:11:44] Warning: conflicting stereochemistry at atom 3 ignored.\n",
      "RDKit WARNING: [14:11:44] Warning: conflicting stereochemistry at atom 1 ignored.\n",
      "RDKit WARNING: [14:11:44] Warning: conflicting stereochemistry at atom 3 ignored.\n",
      "RDKit WARNING: [14:11:44] Warning: conflicting stereochemistry at atom 2 ignored.\n",
      "RDKit WARNING: [14:11:44] Warning: conflicting stereochemistry at atom 3 ignored.\n",
      "RDKit WARNING: [14:11:44] Warning: conflicting stereochemistry at atom 1 ignored.\n",
      "RDKit WARNING: [14:11:44] Warning: conflicting stereochemistry at atom 2 ignored.\n",
      "RDKit WARNING: [14:11:44] Warning: conflicting stereochemistry at atom 1 ignored.\n",
      "RDKit WARNING: [14:11:44] Warning: conflicting stereochemistry at atom 3 ignored.\n",
      "RDKit WARNING: [14:11:44] Warning: conflicting stereochemistry at atom 4 ignored.\n",
      "RDKit WARNING: [14:11:44] Warning: conflicting stereochemistry at atom 1 ignored.\n",
      "RDKit WARNING: [14:11:44] Warning: conflicting stereochemistry at atom 3 ignored.\n",
      "RDKit WARNING: [14:11:44] Warning: conflicting stereochemistry at atom 4 ignored.\n",
      "RDKit WARNING: [14:11:44] Warning: conflicting stereochemistry at atom 1 ignored.\n",
      "RDKit WARNING: [14:11:44] Warning: conflicting stereochemistry at atom 3 ignored.\n",
      "RDKit WARNING: [14:11:44] Warning: conflicting stereochemistry at atom 2 ignored.\n",
      "RDKit WARNING: [14:11:44] Warning: conflicting stereochemistry at atom 3 ignored.\n",
      "RDKit WARNING: [14:11:44] Warning: conflicting stereochemistry at atom 1 ignored.\n",
      "RDKit WARNING: [14:11:44] Warning: conflicting stereochemistry at atom 2 ignored.\n",
      "RDKit WARNING: [14:11:44] Warning: conflicting stereochemistry at atom 1 ignored.\n",
      "RDKit WARNING: [14:11:44] Warning: conflicting stereochemistry at atom 3 ignored.\n",
      "RDKit WARNING: [14:11:44] Warning: conflicting stereochemistry at atom 3 ignored.\n",
      "RDKit WARNING: [14:11:44] Warning: conflicting stereochemistry at atom 1 ignored.\n",
      "RDKit WARNING: [14:11:44] Warning: conflicting stereochemistry at atom 2 ignored.\n",
      "RDKit WARNING: [14:11:44] Warning: conflicting stereochemistry at atom 3 ignored.\n",
      "RDKit WARNING: [14:11:44] Warning: conflicting stereochemistry at atom 0 ignored.\n",
      "RDKit WARNING: [14:11:44] Warning: conflicting stereochemistry at atom 1 ignored.\n",
      "RDKit WARNING: [14:11:44] Warning: conflicting stereochemistry at atom 3 ignored.\n"
     ]
    },
    {
     "name": "stderr",
     "output_type": "stream",
     "text": [
      "RDKit WARNING: [14:11:44] Warning: conflicting stereochemistry at atom 2 ignored.\n",
      "RDKit WARNING: [14:11:44] Warning: conflicting stereochemistry at atom 1 ignored.\n",
      "RDKit WARNING: [14:11:44] Warning: conflicting stereochemistry at atom 1 ignored.\n",
      "RDKit WARNING: [14:11:44] Warning: conflicting stereochemistry at atom 3 ignored.\n",
      "RDKit WARNING: [14:11:44] Warning: conflicting stereochemistry at atom 2 ignored.\n",
      "RDKit WARNING: [14:11:44] Warning: conflicting stereochemistry at atom 0 ignored.\n",
      "RDKit WARNING: [14:11:44] Warning: conflicting stereochemistry at atom 3 ignored.\n",
      "RDKit WARNING: [14:11:44] Warning: conflicting stereochemistry at atom 1 ignored.\n",
      "RDKit WARNING: [14:11:44] Warning: conflicting stereochemistry at atom 2 ignored.\n",
      "RDKit WARNING: [14:11:44] Warning: conflicting stereochemistry at atom 2 ignored.\n",
      "RDKit WARNING: [14:11:44] Warning: conflicting stereochemistry at atom 3 ignored.\n",
      "RDKit WARNING: [14:11:44] Warning: conflicting stereochemistry at atom 0 ignored.\n",
      "RDKit WARNING: [14:11:44] Warning: conflicting stereochemistry at atom 0 ignored.\n",
      "RDKit WARNING: [14:11:44] Warning: conflicting stereochemistry at atom 3 ignored.\n",
      "RDKit WARNING: [14:11:44] Warning: conflicting stereochemistry at atom 2 ignored.\n",
      "RDKit WARNING: [14:11:44] Warning: conflicting stereochemistry at atom 1 ignored.\n",
      "RDKit WARNING: [14:11:44] Warning: conflicting stereochemistry at atom 4 ignored.\n",
      "RDKit WARNING: [14:11:44] Warning: conflicting stereochemistry at atom 0 ignored.\n",
      "RDKit WARNING: [14:11:44] Warning: conflicting stereochemistry at atom 1 ignored.\n",
      "RDKit WARNING: [14:11:44] Warning: conflicting stereochemistry at atom 0 ignored.\n",
      "RDKit WARNING: [14:11:44] Warning: conflicting stereochemistry at atom 4 ignored.\n",
      "RDKit WARNING: [14:11:44] Warning: conflicting stereochemistry at atom 3 ignored.\n",
      "RDKit WARNING: [14:11:44] Warning: conflicting stereochemistry at atom 3 ignored.\n",
      "RDKit WARNING: [14:11:44] Warning: conflicting stereochemistry at atom 3 ignored.\n",
      "RDKit WARNING: [14:11:44] Warning: conflicting stereochemistry at atom 3 ignored.\n",
      "RDKit WARNING: [14:11:44] Warning: conflicting stereochemistry at atom 3 ignored.\n",
      "RDKit WARNING: [14:11:44] Warning: conflicting stereochemistry at atom 3 ignored.\n",
      "RDKit WARNING: [14:11:44] Warning: conflicting stereochemistry at atom 0 ignored.\n",
      "RDKit WARNING: [14:11:44] Warning: conflicting stereochemistry at atom 6 ignored.\n",
      "RDKit WARNING: [14:11:44] Warning: conflicting stereochemistry at atom 6 ignored.\n",
      "RDKit WARNING: [14:11:44] Warning: conflicting stereochemistry at atom 6 ignored.\n",
      "RDKit WARNING: [14:11:44] Warning: conflicting stereochemistry at atom 6 ignored.\n",
      "RDKit WARNING: [14:11:44] Warning: conflicting stereochemistry at atom 6 ignored.\n",
      "RDKit WARNING: [14:11:44] Warning: conflicting stereochemistry at atom 6 ignored.\n",
      "RDKit WARNING: [14:11:44] Warning: conflicting stereochemistry at atom 6 ignored.\n",
      "RDKit WARNING: [14:11:44] Warning: conflicting stereochemistry at atom 6 ignored.\n",
      "RDKit WARNING: [14:11:44] Warning: conflicting stereochemistry at atom 0 ignored.\n",
      "RDKit WARNING: [14:11:44] Warning: conflicting stereochemistry at atom 6 ignored.\n",
      "RDKit WARNING: [14:11:44] Warning: conflicting stereochemistry at atom 6 ignored.\n",
      "RDKit WARNING: [14:11:44] Warning: conflicting stereochemistry at atom 0 ignored.\n",
      "RDKit WARNING: [14:11:44] Warning: conflicting stereochemistry at atom 0 ignored.\n",
      "RDKit WARNING: [14:11:44] Warning: conflicting stereochemistry at atom 3 ignored.\n",
      "RDKit WARNING: [14:11:44] Warning: conflicting stereochemistry at atom 3 ignored.\n",
      "RDKit WARNING: [14:11:44] Warning: conflicting stereochemistry at atom 0 ignored.\n",
      "RDKit WARNING: [14:11:44] Warning: conflicting stereochemistry at atom 0 ignored.\n",
      "RDKit WARNING: [14:11:44] Warning: conflicting stereochemistry at atom 6 ignored.\n",
      "RDKit WARNING: [14:11:44] Warning: conflicting stereochemistry at atom 6 ignored.\n",
      "RDKit WARNING: [14:11:44] Warning: conflicting stereochemistry at atom 0 ignored.\n",
      "RDKit WARNING: [14:11:44] Warning: conflicting stereochemistry at atom 6 ignored.\n",
      "RDKit WARNING: [14:11:44] Warning: conflicting stereochemistry at atom 6 ignored.\n",
      "RDKit WARNING: [14:11:44] Warning: conflicting stereochemistry at atom 0 ignored.\n",
      "RDKit WARNING: [14:11:44] Warning: conflicting stereochemistry at atom 0 ignored.\n",
      "RDKit WARNING: [14:11:44] Warning: conflicting stereochemistry at atom 6 ignored.\n",
      "RDKit WARNING: [14:11:44] Warning: conflicting stereochemistry at atom 6 ignored.\n",
      "RDKit WARNING: [14:11:44] Warning: conflicting stereochemistry at atom 0 ignored.\n",
      "RDKit WARNING: [14:11:44] Warning: conflicting stereochemistry at atom 0 ignored.\n",
      "RDKit WARNING: [14:11:44] Warning: conflicting stereochemistry at atom 6 ignored.\n",
      "RDKit WARNING: [14:11:44] Warning: conflicting stereochemistry at atom 6 ignored.\n",
      "RDKit WARNING: [14:11:44] Warning: conflicting stereochemistry at atom 0 ignored.\n",
      "RDKit WARNING: [14:11:44] Warning: conflicting stereochemistry at atom 6 ignored.\n",
      "RDKit WARNING: [14:11:44] Warning: conflicting stereochemistry at atom 0 ignored.\n",
      "RDKit WARNING: [14:11:44] Warning: conflicting stereochemistry at atom 6 ignored.\n",
      "RDKit WARNING: [14:11:44] Warning: conflicting stereochemistry at atom 6 ignored.\n",
      "RDKit WARNING: [14:11:44] Warning: conflicting stereochemistry at atom 0 ignored.\n",
      "RDKit WARNING: [14:11:44] Warning: conflicting stereochemistry at atom 6 ignored.\n",
      "RDKit WARNING: [14:11:44] Warning: conflicting stereochemistry at atom 0 ignored.\n",
      "RDKit WARNING: [14:11:44] Warning: conflicting stereochemistry at atom 6 ignored.\n",
      "RDKit WARNING: [14:11:44] Warning: conflicting stereochemistry at atom 6 ignored.\n",
      "RDKit WARNING: [14:11:44] Warning: conflicting stereochemistry at atom 0 ignored.\n",
      "RDKit WARNING: [14:11:44] Warning: conflicting stereochemistry at atom 3 ignored.\n",
      "RDKit WARNING: [14:11:44] Warning: conflicting stereochemistry at atom 3 ignored.\n",
      "RDKit WARNING: [14:11:44] Warning: conflicting stereochemistry at atom 0 ignored.\n",
      "RDKit WARNING: [14:11:44] Warning: conflicting stereochemistry at atom 6 ignored.\n",
      "RDKit WARNING: [14:11:44] Warning: conflicting stereochemistry at atom 6 ignored.\n",
      "RDKit WARNING: [14:11:44] Warning: conflicting stereochemistry at atom 0 ignored.\n",
      "RDKit WARNING: [14:11:44] Warning: conflicting stereochemistry at atom 6 ignored.\n",
      "RDKit WARNING: [14:11:44] Warning: conflicting stereochemistry at atom 6 ignored.\n",
      "RDKit WARNING: [14:11:44] Warning: conflicting stereochemistry at atom 0 ignored.\n",
      "RDKit WARNING: [14:11:44] Warning: conflicting stereochemistry at atom 0 ignored.\n",
      "RDKit WARNING: [14:11:44] Warning: conflicting stereochemistry at atom 6 ignored.\n",
      "RDKit WARNING: [14:11:44] Warning: conflicting stereochemistry at atom 6 ignored.\n",
      "RDKit WARNING: [14:11:44] Warning: conflicting stereochemistry at atom 0 ignored.\n",
      "RDKit WARNING: [14:11:44] Warning: conflicting stereochemistry at atom 6 ignored.\n",
      "RDKit WARNING: [14:11:44] Warning: conflicting stereochemistry at atom 6 ignored.\n",
      "RDKit WARNING: [14:11:44] Warning: conflicting stereochemistry at atom 0 ignored.\n",
      "RDKit WARNING: [14:11:44] Warning: conflicting stereochemistry at atom 6 ignored.\n",
      "RDKit WARNING: [14:11:44] Warning: conflicting stereochemistry at atom 6 ignored.\n",
      "RDKit WARNING: [14:11:44] Warning: conflicting stereochemistry at atom 6 ignored.\n",
      "RDKit WARNING: [14:11:44] Warning: conflicting stereochemistry at atom 6 ignored.\n",
      "RDKit WARNING: [14:11:44] Warning: conflicting stereochemistry at atom 6 ignored.\n",
      "RDKit WARNING: [14:11:44] Warning: conflicting stereochemistry at atom 6 ignored.\n",
      "RDKit WARNING: [14:11:44] Warning: conflicting stereochemistry at atom 0 ignored.\n",
      "RDKit WARNING: [14:11:44] Warning: conflicting stereochemistry at atom 3 ignored.\n",
      "RDKit WARNING: [14:11:44] Warning: conflicting stereochemistry at atom 3 ignored.\n",
      "RDKit WARNING: [14:11:44] Warning: conflicting stereochemistry at atom 0 ignored.\n",
      "RDKit WARNING: [14:11:44] Warning: conflicting stereochemistry at atom 6 ignored.\n",
      "RDKit WARNING: [14:11:44] Warning: conflicting stereochemistry at atom 6 ignored.\n",
      "RDKit WARNING: [14:11:44] Warning: conflicting stereochemistry at atom 6 ignored.\n",
      "RDKit WARNING: [14:11:44] Warning: conflicting stereochemistry at atom 6 ignored.\n",
      "RDKit WARNING: [14:11:44] Warning: conflicting stereochemistry at atom 6 ignored.\n",
      "RDKit WARNING: [14:11:44] Warning: conflicting stereochemistry at atom 6 ignored.\n",
      "RDKit WARNING: [14:11:44] Warning: conflicting stereochemistry at atom 0 ignored.\n",
      "RDKit WARNING: [14:11:44] Warning: conflicting stereochemistry at atom 6 ignored.\n",
      "RDKit WARNING: [14:11:44] Warning: conflicting stereochemistry at atom 6 ignored.\n",
      "RDKit WARNING: [14:11:44] Warning: conflicting stereochemistry at atom 6 ignored.\n",
      "RDKit WARNING: [14:11:44] Warning: conflicting stereochemistry at atom 6 ignored.\n",
      "RDKit WARNING: [14:11:44] Warning: conflicting stereochemistry at atom 8 ignored.\n",
      "RDKit WARNING: [14:11:44] Warning: conflicting stereochemistry at atom 6 ignored.\n",
      "RDKit WARNING: [14:11:44] Warning: conflicting stereochemistry at atom 6 ignored.\n",
      "RDKit WARNING: [14:11:44] Warning: conflicting stereochemistry at atom 8 ignored.\n",
      "RDKit WARNING: [14:11:44] Warning: conflicting stereochemistry at atom 11 ignored.\n",
      "RDKit WARNING: [14:11:44] Warning: conflicting stereochemistry at atom 6 ignored.\n",
      "RDKit WARNING: [14:11:44] Warning: conflicting stereochemistry at atom 6 ignored.\n",
      "RDKit WARNING: [14:11:44] Warning: conflicting stereochemistry at atom 11 ignored.\n",
      "RDKit WARNING: [14:11:44] Warning: conflicting stereochemistry at atom 8 ignored.\n",
      "RDKit WARNING: [14:11:44] Warning: conflicting stereochemistry at atom 8 ignored.\n",
      "RDKit WARNING: [14:11:44] Warning: conflicting stereochemistry at atom 8 ignored.\n",
      "RDKit WARNING: [14:11:44] Warning: conflicting stereochemistry at atom 6 ignored.\n",
      "RDKit WARNING: [14:11:44] Warning: conflicting stereochemistry at atom 6 ignored.\n",
      "RDKit WARNING: [14:11:44] Warning: conflicting stereochemistry at atom 8 ignored.\n",
      "RDKit WARNING: [14:11:44] Warning: conflicting stereochemistry at atom 3 ignored.\n",
      "RDKit WARNING: [14:11:44] Warning: conflicting stereochemistry at atom 0 ignored.\n",
      "RDKit WARNING: [14:11:44] Warning: conflicting stereochemistry at atom 3 ignored.\n",
      "RDKit WARNING: [14:11:44] Warning: conflicting stereochemistry at atom 0 ignored.\n",
      "RDKit WARNING: [14:11:44] Warning: conflicting stereochemistry at atom 3 ignored.\n",
      "RDKit WARNING: [14:11:44] Warning: conflicting stereochemistry at atom 3 ignored.\n",
      "RDKit WARNING: [14:11:44] Warning: conflicting stereochemistry at atom 0 ignored.\n",
      "RDKit WARNING: [14:11:44] Warning: conflicting stereochemistry at atom 0 ignored.\n",
      "RDKit WARNING: [14:11:44] Warning: conflicting stereochemistry at atom 3 ignored.\n",
      "RDKit WARNING: [14:11:44] Warning: conflicting stereochemistry at atom 3 ignored.\n",
      "RDKit WARNING: [14:11:44] Warning: conflicting stereochemistry at atom 0 ignored.\n",
      "RDKit WARNING: [14:11:44] Warning: conflicting stereochemistry at atom 5 ignored.\n",
      "RDKit WARNING: [14:11:44] Warning: conflicting stereochemistry at atom 5 ignored.\n",
      "RDKit WARNING: [14:11:44] Warning: conflicting stereochemistry at atom 2 ignored.\n",
      "RDKit WARNING: [14:11:44] Warning: conflicting stereochemistry at atom 3 ignored.\n",
      "RDKit WARNING: [14:11:44] Warning: conflicting stereochemistry at atom 3 ignored.\n",
      "RDKit WARNING: [14:11:44] Warning: conflicting stereochemistry at atom 0 ignored.\n",
      "RDKit WARNING: [14:11:44] Warning: conflicting stereochemistry at atom 3 ignored.\n",
      "RDKit WARNING: [14:11:44] Warning: conflicting stereochemistry at atom 3 ignored.\n",
      "RDKit WARNING: [14:11:44] Warning: conflicting stereochemistry at atom 0 ignored.\n"
     ]
    },
    {
     "name": "stderr",
     "output_type": "stream",
     "text": [
      "RDKit WARNING: [14:11:44] Warning: conflicting stereochemistry at atom 3 ignored.\n",
      "RDKit WARNING: [14:11:44] Warning: conflicting stereochemistry at atom 3 ignored.\n",
      "RDKit WARNING: [14:11:44] Warning: conflicting stereochemistry at atom 0 ignored.\n",
      "RDKit WARNING: [14:11:44] Warning: conflicting stereochemistry at atom 0 ignored.\n",
      "RDKit WARNING: [14:11:44] Warning: conflicting stereochemistry at atom 6 ignored.\n",
      "RDKit WARNING: [14:11:44] Warning: conflicting stereochemistry at atom 6 ignored.\n",
      "RDKit WARNING: [14:11:44] Warning: conflicting stereochemistry at atom 8 ignored.\n",
      "RDKit WARNING: [14:11:44] Warning: conflicting stereochemistry at atom 0 ignored.\n",
      "RDKit WARNING: [14:11:44] Warning: conflicting stereochemistry at atom 8 ignored.\n",
      "RDKit WARNING: [14:11:44] Warning: conflicting stereochemistry at atom 1 ignored.\n",
      "RDKit WARNING: [14:11:44] Warning: conflicting stereochemistry at atom 3 ignored.\n",
      "RDKit WARNING: [14:11:44] Warning: conflicting stereochemistry at atom 2 ignored.\n",
      "RDKit WARNING: [14:11:44] Warning: conflicting stereochemistry at atom 3 ignored.\n",
      "RDKit WARNING: [14:11:44] Warning: conflicting stereochemistry at atom 1 ignored.\n",
      "RDKit WARNING: [14:11:44] Warning: conflicting stereochemistry at atom 2 ignored.\n",
      "RDKit WARNING: [14:11:44] Warning: conflicting stereochemistry at atom 0 ignored.\n",
      "RDKit WARNING: [14:11:44] Warning: conflicting stereochemistry at atom 6 ignored.\n",
      "RDKit WARNING: [14:11:44] Warning: conflicting stereochemistry at atom 6 ignored.\n",
      "RDKit WARNING: [14:11:44] Warning: conflicting stereochemistry at atom 3 ignored.\n",
      "RDKit WARNING: [14:11:44] Warning: conflicting stereochemistry at atom 0 ignored.\n",
      "RDKit WARNING: [14:11:44] Warning: conflicting stereochemistry at atom 3 ignored.\n",
      "RDKit WARNING: [14:11:44] Warning: conflicting stereochemistry at atom 3 ignored.\n",
      "RDKit WARNING: [14:11:44] Warning: conflicting stereochemistry at atom 0 ignored.\n",
      "RDKit WARNING: [14:11:44] Warning: conflicting stereochemistry at atom 3 ignored.\n",
      "RDKit WARNING: [14:11:44] Warning: conflicting stereochemistry at atom 3 ignored.\n",
      "RDKit WARNING: [14:11:44] Warning: conflicting stereochemistry at atom 0 ignored.\n",
      "RDKit WARNING: [14:11:44] Warning: conflicting stereochemistry at atom 3 ignored.\n",
      "RDKit WARNING: [14:11:44] Warning: conflicting stereochemistry at atom 0 ignored.\n",
      "RDKit WARNING: [14:11:44] Warning: conflicting stereochemistry at atom 3 ignored.\n",
      "RDKit WARNING: [14:11:44] Warning: conflicting stereochemistry at atom 3 ignored.\n",
      "RDKit WARNING: [14:11:44] Warning: conflicting stereochemistry at atom 6 ignored.\n",
      "RDKit WARNING: [14:11:44] Warning: conflicting stereochemistry at atom 6 ignored.\n",
      "RDKit WARNING: [14:11:44] Warning: conflicting stereochemistry at atom 3 ignored.\n",
      "RDKit WARNING: [14:11:44] Warning: conflicting stereochemistry at atom 3 ignored.\n",
      "RDKit WARNING: [14:11:44] Warning: conflicting stereochemistry at atom 0 ignored.\n",
      "RDKit WARNING: [14:11:44] Warning: conflicting stereochemistry at atom 0 ignored.\n",
      "RDKit WARNING: [14:11:44] Warning: conflicting stereochemistry at atom 0 ignored.\n",
      "RDKit WARNING: [14:11:44] Warning: conflicting stereochemistry at atom 7 ignored.\n",
      "RDKit WARNING: [14:11:44] Warning: conflicting stereochemistry at atom 7 ignored.\n",
      "RDKit WARNING: [14:11:44] Warning: conflicting stereochemistry at atom 12 ignored.\n",
      "RDKit WARNING: [14:11:44] Warning: conflicting stereochemistry at atom 12 ignored.\n",
      "RDKit WARNING: [14:11:44] Warning: conflicting stereochemistry at atom 6 ignored.\n",
      "RDKit WARNING: [14:11:44] Warning: conflicting stereochemistry at atom 6 ignored.\n",
      "RDKit WARNING: [14:11:44] Warning: conflicting stereochemistry at atom 6 ignored.\n",
      "RDKit WARNING: [14:11:44] Warning: conflicting stereochemistry at atom 6 ignored.\n",
      "RDKit WARNING: [14:11:44] Warning: conflicting stereochemistry at atom 0 ignored.\n",
      "RDKit WARNING: [14:11:44] Warning: conflicting stereochemistry at atom 0 ignored.\n",
      "RDKit WARNING: [14:11:45] Warning: conflicting stereochemistry at atom 27 ignored.\n",
      "RDKit ERROR: [14:11:43] ERROR: Explicit valence for atom # 0 I, 7, is greater than permitted\n",
      "RDKit ERROR: [14:11:46] Explicit valence for atom # 0 B, 4, is greater than permitted\n",
      "RDKit ERROR: [14:11:46] ERROR: Could not sanitize molecule ending on line 2661315\n",
      "RDKit ERROR: [14:11:46] ERROR: Explicit valence for atom # 0 B, 4, is greater than permitted\n",
      "RDKit ERROR: [14:11:46] Explicit valence for atom # 1 H, 2, is greater than permitted\n",
      "RDKit ERROR: [14:11:46] ERROR: Could not sanitize molecule ending on line 2661476\n",
      "RDKit ERROR: [14:11:46] ERROR: Explicit valence for atom # 1 H, 2, is greater than permitted\n",
      "RDKit ERROR: [14:11:46] Explicit valence for atom # 1 H, 2, is greater than permitted\n",
      "RDKit ERROR: [14:11:46] ERROR: Could not sanitize molecule ending on line 2661518\n",
      "RDKit ERROR: [14:11:46] ERROR: Explicit valence for atom # 1 H, 2, is greater than permitted\n",
      "RDKit ERROR: [14:11:46] Explicit valence for atom # 0 B, 4, is greater than permitted\n",
      "RDKit ERROR: [14:11:46] ERROR: Could not sanitize molecule ending on line 2661551\n"
     ]
    }
   ],
   "source": [
    "from rdkit.Chem import PandasTools\n",
    "df = PandasTools.LoadSDF('nmrshiftdb2withsignals.sd',smilesName='SMILES',molColName='Molecule',\n",
    "                         includeFingerprints=True)"
   ]
  },
  {
   "cell_type": "code",
   "execution_count": 185,
   "metadata": {},
   "outputs": [],
   "source": [
    "df0 = df.copy()\n",
    "df0 = df0[['Temperature [K]','nmrshiftdb2 ID','Field Strength [MHz]','Spectrum 13C 0','Spectrum 13C 1','Spectrum 13C 2','Spectrum 13C 3','Solvent','ID','SMILES','Molecule']]"
   ]
  },
  {
   "cell_type": "code",
   "execution_count": 338,
   "metadata": {},
   "outputs": [],
   "source": [
    "l = []\n",
    "for index, row in df1.iterrows():\n",
    "    cnt = 0\n",
    "    for atom_index, atom in enumerate(row['Molecule'].GetAtoms()):\n",
    "        if atom.GetAtomicNum() not in [1,6,7,8,9,15,16,17]:\n",
    "            cnt += 1\n",
    "    if cnt == 0:\n",
    "        l.append(0)\n",
    "    else:\n",
    "        l.append(1)"
   ]
  },
  {
   "cell_type": "code",
   "execution_count": 340,
   "metadata": {},
   "outputs": [],
   "source": [
    "df0['Bad Atoms'] = l"
   ]
  },
  {
   "cell_type": "code",
   "execution_count": 341,
   "metadata": {},
   "outputs": [],
   "source": [
    "for index, row in df0.iterrows():\n",
    "    if (row['Molecule'].GetNumAtoms() > 64) or (row['Bad Atoms'] == 1):\n",
    "        df0.drop(index, inplace = True)"
   ]
  },
  {
   "cell_type": "code",
   "execution_count": 342,
   "metadata": {},
   "outputs": [],
   "source": [
    "df0.drop('Bad Atoms', axis = 1, inplace = True)"
   ]
  },
  {
   "cell_type": "code",
   "execution_count": 344,
   "metadata": {},
   "outputs": [
    {
     "data": {
      "text/plain": [
       "36966"
      ]
     },
     "execution_count": 344,
     "metadata": {},
     "output_type": "execute_result"
    }
   ],
   "source": [
    "len(df0)"
   ]
  },
  {
   "cell_type": "code",
   "execution_count": 400,
   "metadata": {},
   "outputs": [
    {
     "data": {
      "text/plain": [
       "28048"
      ]
     },
     "execution_count": 400,
     "metadata": {},
     "output_type": "execute_result"
    }
   ],
   "source": [
    "len(df0)"
   ]
  },
  {
   "cell_type": "code",
   "execution_count": 401,
   "metadata": {},
   "outputs": [],
   "source": [
    "d = {}\n",
    "for index, row in df0.iterrows():\n",
    "    if row['Molecule'].GetNumAtoms() in d:\n",
    "        d[row['Molecule'].GetNumAtoms()]+=1\n",
    "    else:\n",
    "        d[row['Molecule'].GetNumAtoms()]=1"
   ]
  },
  {
   "cell_type": "code",
   "execution_count": 402,
   "metadata": {},
   "outputs": [],
   "source": [
    "x, y = list(d.keys()), list(d.values())"
   ]
  },
  {
   "cell_type": "code",
   "execution_count": 403,
   "metadata": {},
   "outputs": [
    {
     "data": {
      "text/plain": [
       "<BarContainer object of 64 artists>"
      ]
     },
     "execution_count": 403,
     "metadata": {},
     "output_type": "execute_result"
    },
    {
     "data": {
      "image/png": "[encoded data removed]",
      "text/plain": [
       "<Figure size 432x288 with 1 Axes>"
      ]
     },
     "metadata": {
      "needs_background": "light"
     },
     "output_type": "display_data"
    }
   ],
   "source": [
    "plt.bar(x,y)"
   ]
  },
  {
   "cell_type": "code",
   "execution_count": 404,
   "metadata": {},
   "outputs": [
    {
     "data": {
      "text/plain": [
       "(28048, 28048, 28048, 28048, 28048, 28048)"
      ]
     },
     "execution_count": 404,
     "metadata": {},
     "output_type": "execute_result"
    }
   ],
   "source": [
    "smiles = df0.SMILES.tolist()\n",
    "temp = df0['Temperature [K]'].tolist()\n",
    "field_strength = df0['Field Strength [MHz]'].tolist()\n",
    "C_spectra = df0['Spectrum 13C 0'].tolist()\n",
    "solvent = df0.Solvent.tolist()\n",
    "nmr_id = df0['nmrshiftdb2 ID'].tolist()\n",
    "\n",
    "len(smiles), len(temp), len(field_strength), len(C_spectra), len(solvent), len(nmr_id)"
   ]
  },
  {
   "cell_type": "code",
   "execution_count": 405,
   "metadata": {},
   "outputs": [],
   "source": [
    "nmr_dict = {}\n",
    "for i in range(len(smiles)):\n",
    "    if smiles[i] not in nmr_dict:\n",
    "        nmr_dict[smiles[i]] = [[nmr_id[i]],[temp[i]],[solvent[i]],[field_strength[i]],[C_spectra[i]]]\n",
    "    else:\n",
    "        nmr_dict[smiles[i]][0].append(nmr_id[i])\n",
    "        nmr_dict[smiles[i]][1].append(temp[i])\n",
    "        nmr_dict[smiles[i]][2].append(solvent[i])\n",
    "        nmr_dict[smiles[i]][3].append(field_strength[i])\n",
    "        nmr_dict[smiles[i]][4].append(C_spectra[i])"
   ]
  },
  {
   "cell_type": "code",
   "execution_count": 406,
   "metadata": {},
   "outputs": [
    {
     "data": {
      "text/plain": [
       "27864"
      ]
     },
     "execution_count": 406,
     "metadata": {},
     "output_type": "execute_result"
    }
   ],
   "source": [
    "len(nmr_dict)"
   ]
  },
  {
   "cell_type": "code",
   "execution_count": 407,
   "metadata": {},
   "outputs": [],
   "source": [
    "nmr_count_dict = {}\n",
    "for i in range(len(smiles)):\n",
    "    if smiles[i] not in nmr_count_dict:\n",
    "        nmr_count_dict[smiles[i]] = 1\n",
    "    else:\n",
    "        nmr_count_dict[smiles[i]] += 1"
   ]
  },
  {
   "cell_type": "code",
   "execution_count": 408,
   "metadata": {},
   "outputs": [],
   "source": [
    "nmr_mols_count = {}\n",
    "for i in nmr_count_dict:\n",
    "    if nmr_count_dict[i] not in nmr_mols_count:\n",
    "        nmr_mols_count[nmr_count_dict[i]]=1\n",
    "    else: \n",
    "        nmr_mols_count[nmr_count_dict[i]]+=1"
   ]
  },
  {
   "cell_type": "code",
   "execution_count": 409,
   "metadata": {},
   "outputs": [
    {
     "data": {
      "text/plain": [
       "{1: 27686, 2: 173, 3: 4, 4: 1}"
      ]
     },
     "execution_count": 409,
     "metadata": {},
     "output_type": "execute_result"
    }
   ],
   "source": [
    "nmr_mols_count"
   ]
  },
  {
   "cell_type": "code",
   "execution_count": 410,
   "metadata": {},
   "outputs": [
    {
     "data": {
      "image/png": "[encoded data removed]",
      "text/plain": [
       "<Figure size 432x288 with 1 Axes>"
      ]
     },
     "metadata": {
      "needs_background": "light"
     },
     "output_type": "display_data"
    }
   ],
   "source": [
    "import matplotlib.pyplot as plt\n",
    "x, y = list(nmr_mols_count.keys()), list(nmr_mols_count.values())\n",
    "plt.plot(x,y)\n",
    "plt.xlabel('Number of Duplicates per Molecule')\n",
    "plt.ylabel('Number of Molecules')\n",
    "plt.show()"
   ]
  },
  {
   "cell_type": "code",
   "execution_count": 330,
   "metadata": {},
   "outputs": [],
   "source": [
    "df0 = df.copy()\n",
    "df0 = df0[['Temperature [K]','nmrshiftdb2 ID','Field Strength [MHz]','Spectrum 13C 0','Spectrum 13C 1','Spectrum 13C 2','Spectrum 13C 3','Solvent','ID','SMILES','Molecule']]"
   ]
  },
  {
   "cell_type": "code",
   "execution_count": 321,
   "metadata": {},
   "outputs": [],
   "source": [
    "def spectrum_to_target(l, dataframe, names):\n",
    "    for spec, target in zip(l, names):\n",
    "        new = df0[spec].str.split(\"|\").tolist()\n",
    "        \n",
    "        n = []\n",
    "        for l in new:\n",
    "            inner = []\n",
    "            if type(l) == list:\n",
    "                for i in l:\n",
    "                    if i != '':\n",
    "                        j = i.split(';')\n",
    "                        inner.append(j)\n",
    "                n.append(inner)\n",
    "            else:\n",
    "                n.append(None)\n",
    "\n",
    "        m = []\n",
    "        for i in n:\n",
    "            if type(i) == list:\n",
    "                d = {}\n",
    "                for j in i:\n",
    "                    d[j[2]] = j[0]#int(d[j[2]]) = float(j[0])\n",
    "                temp_d = {int(k): float(v) for k, v in d.items()}\n",
    "                d_ordered = {int(k): float(v) for k, v in sorted(temp_d.items(), key=lambda item: item[0], reverse = False)}\n",
    "                m.append(d_ordered)\n",
    "            else:\n",
    "                m.append(None)\n",
    "        dataframe[target] = m"
   ]
  },
  {
   "cell_type": "code",
   "execution_count": 322,
   "metadata": {},
   "outputs": [],
   "source": [
    "def temps_to_tempval(dataframe):\n",
    "    new = dataframe['Temperature [K]'].str.split(\" \").tolist()\n",
    "\n",
    "    for index, value in enumerate(new):\n",
    "        if value == ['0:', '293.15', '1:Unreported', '']:\n",
    "            new[index] = ['0:293.15', '1:Unreported', '']\n",
    "\n",
    "    n = []\n",
    "    for i in new:\n",
    "        inner = []\n",
    "        if type(i) != float:\n",
    "            for j in i:\n",
    "                if j != '':\n",
    "                    inner.append(j.split(\":\"))\n",
    "            n.append(inner)\n",
    "        else:\n",
    "            n.append(None)\n",
    "\n",
    "    m = []\n",
    "    for i in n:\n",
    "        if type(i) == list:\n",
    "            inner = []\n",
    "            for j in i:\n",
    "                inner.append(j[1])\n",
    "            m.append(inner)\n",
    "        else:\n",
    "            m.append(None)\n",
    "\n",
    "    for i in m:\n",
    "        if type(i) == list:\n",
    "            for j in range(4-len(i)):\n",
    "                i.append(None)\n",
    "\n",
    "    for index, value in enumerate(m):\n",
    "        if value == None:\n",
    "            m[index] = [None,None,None,None]\n",
    "        if len(m[index]) > 4:\n",
    "            m[index] = m[index][:4]\n",
    "\n",
    "    col = np.array(m)[:,0]\n",
    "    dataframe['Temp1'] = col"
   ]
  },
  {
   "cell_type": "code",
   "execution_count": 323,
   "metadata": {},
   "outputs": [],
   "source": [
    "def solvents_processing(dataframe):\n",
    "    s = []\n",
    "    for i in dataframe['Solvent'].tolist():\n",
    "        if type(i) != float:\n",
    "            s.append('{'+i+'}')\n",
    "        else:\n",
    "            s.append(None)\n",
    "\n",
    "    solvents_list = []\n",
    "    for string in s:\n",
    "        d = {}\n",
    "        l_start = []\n",
    "        l_end = []\n",
    "        if type(string) == str:\n",
    "            for i in range(len(string)):\n",
    "                if (string[i] == ':') and (string[i-1].isdigit() == True) and (string[i+1].isdigit() == False):\n",
    "                    l_start.append(i+1)\n",
    "                    l_end.append(i-2)\n",
    "            l_end.append(len(string)-2)\n",
    "            for i in range(len(l_start)):\n",
    "                d[i] = string[l_start[i]:l_end[i+1]]\n",
    "        #         print(string[l_start[i]:l_end[i+1]])\n",
    "        else:\n",
    "            d = {0: 'Unreported'}\n",
    "        solvents_list.append(d)\n",
    "\n",
    "    first_solvents = [i[0] for i in solvents_list]\n",
    "    second_solvents = []\n",
    "    for i in solvents_list:\n",
    "        if len(i) > 1:\n",
    "            second_solvents.append(i[1])\n",
    "        else:\n",
    "            second_solvents.append('Unreported')\n",
    "    dataframe['Solvent1'] = first_solvents\n",
    "    dataframe['Solvent2'] = second_solvents"
   ]
  },
  {
   "cell_type": "code",
   "execution_count": 331,
   "metadata": {},
   "outputs": [],
   "source": [
    "temps_to_tempval(df0)"
   ]
  },
  {
   "cell_type": "code",
   "execution_count": 332,
   "metadata": {},
   "outputs": [],
   "source": [
    "solvents_processing(df0)"
   ]
  },
  {
   "cell_type": "code",
   "execution_count": 333,
   "metadata": {},
   "outputs": [],
   "source": [
    "spectrum_to_target(['Spectrum 13C 0', 'Spectrum 13C 1', 'Spectrum 13C 2', 'Spectrum 13C 3'], df0, ['target1', 'target2', 'target3', 'target4'])"
   ]
  },
  {
   "cell_type": "code",
   "execution_count": 334,
   "metadata": {},
   "outputs": [],
   "source": [
    "temp = df0[['nmrshiftdb2 ID', 'SMILES', 'Solvent1', 'Temp1', 'Molecule', 'target1']]"
   ]
  },
  {
   "cell_type": "code",
   "execution_count": 335,
   "metadata": {},
   "outputs": [],
   "source": [
    "df_final = temp[temp['target1'].isnull() == False]"
   ]
  },
  {
   "cell_type": "code",
   "execution_count": 336,
   "metadata": {
    "scrolled": true
   },
   "outputs": [
    {
     "data": {
      "text/html": [
       "<div>\n",
       "<style scoped>\n",
       "    .dataframe tbody tr th:only-of-type {\n",
       "        vertical-align: middle;\n",
       "    }\n",
       "\n",
       "    .dataframe tbody tr th {\n",
       "        vertical-align: top;\n",
       "    }\n",
       "\n",
       "    .dataframe thead th {\n",
       "        text-align: right;\n",
       "    }\n",
       "</style>\n",
       "<table border=\"1\" class=\"dataframe\">\n",
       "  <thead>\n",
       "    <tr style=\"text-align: right;\">\n",
       "      <th></th>\n",
       "      <th>nmrshiftdb2 ID</th>\n",
       "      <th>SMILES</th>\n",
       "      <th>Solvent1</th>\n",
       "      <th>Temp1</th>\n",
       "      <th>Molecule</th>\n",
       "      <th>target1</th>\n",
       "    </tr>\n",
       "  </thead>\n",
       "  <tbody>\n",
       "    <tr>\n",
       "      <th>0</th>\n",
       "      <td>234</td>\n",
       "      <td>[C]C1([C])[C][C][C][C@@]2([C])[C]1[C][C]=C([C]...</td>\n",
       "      <td>Chloroform-D1 (CDCl3)</td>\n",
       "      <td>298</td>\n",
       "      <td><img data-content=\"rdkit/molecule\" src=\"data:image/png;base64,iVBORw0KGgoAAAANSUhEUgAAAMgAAADICAIAAAAiOjnJAAAABmJLR0QA/wD/AP+gvaeTAAAcL0lEQVR4nO2dd1xUV9rHnykgbRRpCiJiGVEQC/aKNeqKLSxqxOHjx0LWjQuf942uGvddVJKILlE3ZGNQ4wZbRCUaLKBEBUQiSFOx0CwYBlSagIUZZs77x8FxZAam3cIM5/uHn+Hce895zvibe855Tnk4CCEgEKiGy7YBBNOECItAC0RYBFogwiLQAhEWgRaIsAi0QIRFoAUiLAItEGERaIEIi0ALRFgEWiDCItACERaBFoiwCLRAhEWgBSIsAi0QYRFogQiLQAtEWARaIMIi0AIRFoEW+GwbYOSIxZCaCo8eQf/+MHEiODmxbVB7gUO2f+lPYiIsWgTu7uDpCXl5UFUFsbEwdSrbZrULiLD0pbISevWC0FD46ivgcEAmg6AguHQJHj8Ga2u2jWMf0sfSl59/hi5dYOtW4HAAAHg8CAmBykpISmLbsnYBEZa+FBbCoEFgZvY+ZdQocHKCJ0/Ys6kdQYSlLxYWUFb2QcqrV1BTA3Z2LBnUviDC0hcvL7h3Dx4+fJ+SkgJSKQwbxp5N7QjSedeXt29BKIQhQ+DgQXBygpISWLgQ+vSBM2cAIUAIuB36R9uhK28QFhbw229QXg7dukHnzuDhAYMHw7FjsG8fCIVw/jzb9rEMcZAagIcHZGfDs2dQVgYDBoCVFQBAdTWUlMCRIzB3Ltv2sQlpCg1AKoVz5yArC7766n1iWRn06gVmZlBeDra27BnHMqQpNACJBIKCYPv2D7rwPXqAry+8fQunTrFnGfsQYRmAtTXMmwcIwbFjH6SLRAAAhw+zYlQ7gTSFhpGYCLNng1AIBQXNLngAqK+H7t3hzRsoKYHevVm1jzXIG8swZswAZ2coKoLMzPeJAgHMn6/mTdaRIMIyDB4PPvkEQKXhw61hTAwLJrUPSFNoMHl5MGwY2NlBeTmYmzcnNjVBz55QUQGZmTByJKv2sQN5YxnM0KHg7Q3V1ZCQ8D6Rz4clSwA6bheeCIsKli0DaKU1PHYMJBIWTGIb0hRSgVgMbm7A44FYDPb279MHD4Y7dyA+vgN64ckbiwpcXGDKFJBIIC7ug/TAQIAO2hoSYVGEWqdoYKDM2Tmjpqa2tpYVo1iECIsi/P3BxgauX4eSkveJrq6zvbzG/PbbyZMn2bOMHYiwKMLaGhYsAA6n6tdflZOXBgYCwJEjR1gyizVI550ynly96r90aZ1AUFBQwHk3vdPQ0ODs7Pzq1avi4uI+ffqwayGTkDcWZfT09a3g8YqKijIyMhSJNjY28+bNQwgd62DTO0RYlMHlcpcsWQIAhz/swotEIgA4dOhQh2ocSFNIJbdu3Ro6dKidnZ1YLO7UqRNOlMlkrq6uFRUVGRkZo0aNYtdCxjDxN1ZKSsqQIUNmzZpVWVnJQHFDhgwZPHhwdXV1YmKiIpHH4y1duhRU3mQmDjJpRo8ejasZERHBTIk7d+4EAH9/f+XE3NxcALCzs2tsbGTGDNYx8TdW37598YfeTC24CwwM5PF4Z8+eraqqUiQOHTrU29u7xZvMtDFxYe3bt+8///nP6dOnFy1axEyJLi4uU6dOlUgkpz5c875s2TLoUK0h269ME+TQoUMAMH78eOXEsrIyHo9nbm5eVVXFlmFMYtJvLLEYjh+H7dshLg6eP2es2I8//tjGxiY9Pb1EaXrHxcVlypQpqm8yU8V0hZWYCAMGwNdfw61bsHkzeHnBlSvMlGxtbb1gwQKE0NGjR5XTsUPr9OnTAJCVlZWUlIRM2NfD9iuTHl68QFZWaNMmJJcjhFBTE1q6FDk4oIYGZsq/ePEiAPTr108ul9fV1dXX1yOE6uvrT548+fbt219++QXP+WzatIkZe5jHRIX17bfI2RlJJO9TbtxAAOj0aWbKx05RAEhLS5s3b97gwYMfP36suLpu3Tr8q548eTIz9jCPiZ7dwPapaFwuNzQ0tK6uLiYmJj4+3s7OTiqVKq6uWrXq1KlTtbW1n3/+OTP2sADbyqaHdeuQp+cHKfX1yMwMHTqEEEK1taiwkAErDh48CABmZmZXrlxhoLh2hTEJKy4ubvny5VevXtV863//iwBQScn7lHPnEAC6cweVlCBPT+Tujp49o81ShBBKTU01NzcHgOjoaFoLap8YjbBKSkq4XC4AWFtb475wW7x5g1xd0Zw5zeopLkbe3mj+fJSSguztEQDy9v5AdlTz8OFDR0dHAFi/fj19pbRnjEZYDx48wCOpTp06vXz5UpsHkI8PAkACAeLxUGAg2rsXmZsjADRrFkpLQ0IhSk+nw9SXL196eXkBwOzZs5uamugoov1jNMJCCO3fv3/u3LlnzpzR4ZmKCpSdjRoa0Lp1CAABoP/9XxQbi6ysEABatIhyI5uamv70pz8BgKenp1Y/ABPFmIT18uXLlJSUt2/f6vPwX/6C+Hz03Xdozx7E5SIAtGIFOnsW7dtHrZF//etfAaBbt25PnjyhNmfjwmgW+tXX12Nv0MiRI2/cuMF9d3Tsb+r2wDg4OGzdupXPV3KmSKWQlwdRUXD4MPB4sGMHmJvD//wPcDiQmUnVUcdRUVEhISEWFhZXrlwZO3YsJXkaK2wrW1t+//13hc0VFRU4USwWW+GTP1UICwtTk8tXXyEbG/TLL+hvf0MAiMNBGzagK1eaHfSGcfHiRT6fz+Fwjhw5Ynhuxo7RCKuxsXHChAkAsEipY1RRUdHaD2bDhg3qM3r8GPn5IQBkYYGOHkVhYQgAbdtmoHn379+3tbUFgH/+858GZmUaGI2wEEJyuby6ulo5RSaTmSm715X497//3WpGsbHI0RFduoQWLkQAyMwM/fADevNGb8MqKyv79esHAP7+/jKZTO98TAljEtbnn38uFAojIyOVE/GUnConT55sK6+6OjRtGgJAXbuixES0fDmaORNJpXpYJZFIpkyZAgA+Pj4NTE1yt3+MRlg5OTlYMVwuV3mtXGv7XtLS0jTkmJqKPD1RWhqaMAEBIBsblJenh2HBwcEA4OLi8vTpUz0eN1WMRlhisdjS0hIAunfvruxxmD9/vlphPXz4UHOmTU3N7y03t/q0tJUrVz5//lwnq3bs2AEAlpaWmZmZutbItDEaYSGEcnNz//WvfxUXFysnrlmzRq2wXr9+rVWmd++ijz569PvvAwcOBICFCxdqb8+FCxd4PB6Hwzl+/LhOFekIGJOw1LJt2zZVVdnZ2emUCfaVe3t737hxIzs7W5tH8vPzO3fuDABff/21XoabOEYvrAMHDqgKy8vLS6dMxGLxqlWrrl+/7ubm5uDgUKJpfrq8vNzNzQ0AFi9eLKfCB2Z6GP2ad2dnZ9VEFxcXXTPZv39/VFRUaWnpoEGDeDxeGze/fft24cKFpaWl48aNi4mJURwsQ/gAxiRcWlqakJCg2AqcmZl548YNw7PFm4xbEBQUpEdW9fX127Ztu3Dhgr29/blz59TeI5fLAwMDAcDd3f0ZzSu69ObatWt5eo1wKYQhYRUXF9vY2ACAn58fUmq/9u7da2DOap3vGzdu1DvD0NBQAFi9erXaq1u3bgUAgUBw+/ZtvYuglS+//BIAOBxOXFwci2Yw1BTevHmzoaEBAFJSUgAgOTkZp1+9etXAnB0dHVWd72rbRy2JjIyMiYkZP358REREi0txcXFbtmzhcrlHjx719vbWuwhawd8tQig1NZVNO5jRb21trY+PD4/HCw8PRwilpaXZ2dl17do1JSXF8MxVne8a3O5aEBkZyeFwcnNzFSnZ2dl4wnv37t0GZk4rZ8+etbGx6d69e25u7qNHj9gyg9FR4Rul+TipVCrVawpFFVXnu2a3uxYkJyfHxcXhJaBlZWVYvitWrDA8Z7ppbGxsamo6fPiwmZlZSEhIbW0t8zYwOiq0sLBQfObz+R+slzIA1YZP11GhWnx9feVy+d///vc3b94sWLDgjz/+mDhx4t69ew3PmW7Mzc15PN79+/dlMtm3337r4eHx448/yuVyRo1gWMhVVVVisfjevXsU5qnqfNfW7a4Ft2/fnjNnDgAIhUKjOM9DKpUWFBTgz9nZ2RMnTsTfybBhw1JTUxkzgzlhSaXS6OhoR0fH0aNHc7lckUikWK9nIC2c77q63dsgPj7e3d0d+0J9fX01Ok5Z5/Lly97e3q6ursrrLHAt8Jfj5+fHTMeLIWElJSXhjSsA0K9fPzyO69KlyzfffCNR3givFy2c77q63dWSlZWF1xUCgLu7u7W1NQBYWFhs2rRJ8+YzNigqKpo3b57iG757967y1devX0dERGCPj6Wl5YYNG+iuBe3CKioqCggIwBXu27fviRMnEEKFhYWKRKFQiBP15vz588rCmjFjhiG5VVZWhoSEYOe7vb39nj17mpqaxGJxcHAwXmjv7OwcHR3dfhb0NTQ0hIWF4bN0ra2t165d25rn9o8//hCJRHiqoEePHjExMfTNR9EoLFxh3GG3trYOCwt78+EqzaSkpEGDBmE1TJs27c6dO/oV1ML5rp/bHSEkkUj27NnTpUsXAFA7nsrKyho/fjwuZfjw4deuXdOvIKqQy+UxMTHdu3cHAA6HIxKJysrKhg8frvg9qH3q2rVrPj4+uBYTJkzIycqiwzZahKVa4fLycrV34o6Xg4MDAPD5/ODg4BcvXuhaXAvnu35u96SkJE9PT5zD9OnTWzQlCuRy+YkTJ3r16oWrFhAQoHyMDJNkZGQoNgKNHDkyPT0dIfTs2TNFC+7j49Oa9JX/gx5OmIBEItTKf5DeUC+szMxM1Qq3TVVVlaL1sbOza+PXppYWK9/bWu2ujgcPHuBlMwDg4eFx/vx5jY+8evVK8TK2srIKCwujcByqEY0tmpa99ZcvXx7YuhV16oQAUOfOaOdORN2hzlQKy8Am/N69ezNnzsRfx8CBAxMSErR/Vtn5rr3bvbq6esOGDfjojq5du0ZEROh0XPbTp08V9XV1daW1y4JR7YPX1dUZeCcqKkIBAc3bxPv1Q4b1dxVQIyxcDYFAoLkamoiPj1cEM/Lz89NyhK/sfNem6yOTyWJiYvC5Hdj3ofdSheTk5CFDhuCifX19lWeBqKXFe0ibtdc6/NQvX0be3s3ymjoVGTzFToGw4uPjFaeoa1nhtmlsbNyzZw9en2lubh4SEqLxEATlle8aDbhy5crgwYPxzVOmTLl165aBBmOZduvWTSFTqlx0mJycHGU/p64TrBkZGWPGjNHcOZFKUXQ0cnREAIjPR8HBSMcdAMoYJKycnJxJkybpXeG2KSsr036Er+x8b6O7U1paik+YBYCePXvGxMRQaHBNTc2GDRvwsN/W1jYiIkLPYyaUUOv70CMfmUx24MABhfRXrFhR01pvvboahYQgPr95b9yePfrtitNTWFRVWCM3b94cN24clsKIESNam11WON9bc7tr9H1QRUFBgZ+fHzZGKBSePXtWv3w0+j70QOHx8u3ZU25nh8LCWt2me/8+mj27uWUcMABduKBrWToLi44Ktw0e4eN5FTzCVz3IReF8V3W748d79uzZxuOUozzTMH369Pz8fF0f18b3oR+FhYWP16x531v/9ddWb/3lF9SnDwJAlpa6Nou6CatFhXX9vgxBdYSv/MpRON9buN1b+D6uX7/OmMH4F4gPdDAzM9PSRVdQUIDnvAGgf//+ra2QpgAte+tv36Lt29GOHbpmDzExMT/99JPGpVHMVbhNVDtJeJijcL4r3O5lZWWKAZGLiwtbkzDau+iUfR+4i0Z7qDBKe+staO7wqj/0ByH0rk/KaIU1cfXqVcUIf/LkyXl5eQrn+8aNG5V9H3hQqbfvgypauOgSExOVr+JBpZOTExjs+9AHLXvrZWXo55/R11+jU6e0ORe4WVgikUj1GssVbpMWti1btgw731evXk2t74NC1PplWvg+WNtdo9xb9/Bo2VtPSEACAfL2RosXIw8P5OCALl9uOz8YO3bs6NGjVVfeFRQUUOvsoYPq6urQ0FAsKcUZfwAwdOjQ5ORktq1Tw+vXr8PDw/EiHEtLS8WOjD59+rC7qaaZ+HjUt2+zvPz8ED7NQK/4Ma123qOiomxtbfFMBcXWU42i/9epUyeBQECf74MqsIuOw+G4urpaWFjQ5/vQB9xbFwgQAFq1CiE948fA4sWL//znP6sewYNbGSM6oRWvwLl06RLbhmjLrFmzACAqKoptQ9QhFqPg4OYlD2vXohZL3ORy5OSE9uxpIwN+bGwsAHTp0kXtIQiKUOztHzzhiv81Cuzs7ACga9eubBuiDmdniI5u/mxhAWVlH1x99QpqasDOro0MmvsleGKOQFCDlxfcuwcPH75PSUkBqbTto6b54eHhcrnclMNQEQxkyRL4v/+DkBA4eBCcnKCkBDZtgvnz4d3qX7Xw//GPfzBmYYelsLAwPz/fw8NDMc9jTFhYwG+/wdKl0K0bCATw+jUsWQL79rX9kNEfY2QUxMXF+fv7HzlyhG1D9MXDA7KzoaICkpOhrg6OHIFWjtdXYKKBMAl00K0bdOum5b3kjUWgBSIsAi0QYRFogQiLQAtEWARaIMIi0AIRFoEWiLAItECERaAFIiwCLRBhEWiBCItAC0RYBFogwiLQAhEWgRaIsAi0QIRFoAUiLAItEGERaIEIi0ALRFgEWiDCYoIRI0Z89tlnirMFOwL89PR0uVyuiJNBoIMZM2bMmDGDbSsYhTt+/PiJEydGRUWxbQnBpGhuCtPT09m1g2Bi8J2cnORy+Weffca2JYbCdMxjg5HJZGybQCetHZwlEolsbW0XLFjAVtg07cEHX1tZWTk5OY0dO1bvuIeMgaO6CQSCsWPHts8jLQ0HNm/evGnTJtVgNbm5uZaWlgBgbW0dHh7OZNg0nThz5ky/fv3wjwQbbGZmFhoaWl1dzbZp6rl27drw4cOxwcHBwWybQxfN762QkBDVa8yHTdMJ1TiD+FB1Pp8P7w5V13h+PZMwGTmXdUDjTyc5OXno0KH4ttGjR9+4cYNJ+9TSdpzB+/fv4+M9AWDAgAE6xT2kCeZjfbMOLF++PCgoqO0waHSHTdMeHOpXOc7g8+fPEUINDQ0BAQFDhgxRnM2vX9xDOlAb77SpqWnNmjWenp4//fQTW4bRig6xdOrr6xXR0m1sbMLCwgwPm6YTly9fbu3o+R9++EHxilIk6hH3kFqys7OV4wympqYqLl26dEnRL2xX7TVV6Bz9q7CwMCAgAH8pQqHwBEWRXtumqKhIUaibm5vq0fMJCQn46kcffdTiklgs1j7uIVVoDLt39+5d3BcUCoUm2dPSM15hUlLSoHdnm06bNo2+Eb72cQbj4+N37dpVVVWl9mpWVtb48eOxwcOHD9cmvK9+aB92LzU1defOnUZ0kr5O6B9hVSKRREdHOzg4AACfz9cybJr2YGdP9+7dAYDD4YhEovLWgoJqneGJEyd69eoF7wIXUu6iozXOoHFhaExo1bBplPQYWsQZbDWMse6oxj2kxEWn6vswPE+jhpoo9sph0wwc4TPj7KHQRde276PDQo2wMAaO8JXjDGJnD91xBpOTkxVxD319fXNzc3V6HHthlH0f7SfsHutQKSxkwAi/hbOHsTiDervoWsQZbJ9h91iEYmFhcNg0LUf4OTk5kyZNUjh7UlJS6DCpbXAUWeyiw1Fk23DRPXnypEX4YCZNNRZoERbm5s2byiP8tLS0FjdodPYwTEFBgZ+fXxsuOu19HwQahYXejfDd3NxajPC1d/YwT1JSkiLizfTp07GLroXvIyAgoLS0lG1L2zX0CgtTX1//xRdf4B+6jY1NUFCQYqGLn59fQUEBAzbohEQi+eabb2xtbbHuP/nkEx8fH2zw2LFjMzMz2TbQCGBCWJjS0lLcNcHjPqFQeO7cOcZK1wOFiw7HqnRxcWFmOsg04CDF0hn6uXjx4pw5c/CS3DVr1nz//feMFa03eXl5z549e/jwYVBQEA4STtAKxiR8//593LisWrUKL/X87rvvGCudwDAMCauyshL3q/z9/eVyeWxsLIfD4fF47bw1JOgNE8KSSCRTpkwBAB8fn1evXuHEzZs3A0Dnzp3b7d6HHTt2jBs3DrupXr58KRKJZsyYkZeXx7ZdxgETwgoODgYAFxeXp0+fKhLlcvmSJUsAoHfv3ngVaLvizp07uKvA5/Nramq2b9+O/5w8eTLbphkHtJ/dsHPnzn379llaWp45c8bV1VWRzuFwDh48OGrUqEePHvn7+zc2NtJtiU507tzZzMwMAAQCQadOnezt7XG64gNBA7TK9vz58zwej8PhHD9+XO0NYrEYq2358uW0WqIHly9fXr9+fXZ2NkJIJpPt3bs3LCyssrKSbbuMAxqFlZ+fj2ejt2/f3sZtOTk5eBgfGRlJnzEEhqFLWOXl5XgmRyQSabw5Li6Oy+VyudwzZ87QZA+BYWgR1ps3b8aMGQMA48aN03Inz5dffgkANjY2ZP2JaUC9sORyeWBgIAC4u7trv/BNLpcvW7YMAHr16sXWpkUChVAvrC1btgCAQCC4ffu2Tg82Njb6+voCwIgRIxTuLoKRQrGwTp06xeFwuFxufHy8Ho+/ePGib9++ABAQEGCSu+06DlQKKzs728rKCgB2796tdyZ3797F67TCw8MptI3AMJQJq6ysDHukVqxYYWBWCQkJ2Pt17NgxSmwjMA81wnr9+vXIkSMBYNKkSZRsfoqMjAQAS0vLjIwMw3MjMA8FwpLL5YsWLQKAPn36ULgZ+tNPPwUAZ2dnsgjYGKFAWBs3bgSArl27UrvIWCKRTJ06FQCGDRvW0NBAYc4EBjBUWDExMQDA5/OTkpIoMUiZqqoqoVAIAB9//DFZE2xcGCSstLQ0vBfv+++/p8qgFjx48AAvOf/iiy9oKoJAB/oL69GjR05OTgAQGhpKoUGqJCcn45MRDh06RGtBBArRU1h1dXXe3t4AMHPmTAYOpDtw4AAAmJubm+rh1aaHPsKSyWRz584FgIEDB9bU1FBuk1rWrl0LAA4ODsXFxcyUSDAEfYQVGhoKAPb29kVFRZQb1BpNTU14/7unp2f72TZNaA2dhfXjjz8CgJmZ2dWrV2mwpy3q6urw+ZSzZs1i95QHgkZ0W/OOEDp9+jQA7N+/f/LkybovhDYIgUDw66+/Ojg43L59++nTpwyXTtAJnXdCNzU1XbhwYd68eTQZpJHMzMwePXr06NGDLQMI2sDoFntCx4GE7iXQgmZhHTx4cNWqVbm5uQCQn5+/evVqHAaisbFxy5YtISEhz58/p9VEuVy+e/fuTz/9tLi4GADS09NXrlwZGxsLALW1tevXr9+4cWNDQwOtNhB0pu2+fVpaGr6tR48eCKH+/fvjPxMTEyMiIvDnxYsX0zq++Pnnn3FBY8aMaWxsxCeLcDic/Px8RfzOdevW0WoDQVc0vLEUG5SlUikASCQS/KdEImlxiT6UC5XL5bg4hJBUKmXMBoKu8PDeh9bo3bu3tbW1paXlrl273N3dx4wZU1VVFRgYuHLlyhEjRtTV1QmFwp07d+K3CE14eXnJZDJHR8ddu3a5uroOGzasrq4uNDR07ty5o0ePrqysHD58eHh4OF4VTWgnkFEhgRbIqJBAC0RYBFogwiLQAhEWgRaIsAi0QIRFoAUiLAItEGERaIEIi0ALRFgEWiDCItACERaBFoiwCLTw/8gX4lhUnHmKAAAAAElFTkSuQmCC\" alt=\"Mol\"/></td>\n",
       "      <td>{0: 18.3, 1: 41.8, 2: 33.5, 3: 42.2, 4: 42.0, ...</td>\n",
       "    </tr>\n",
       "  </tbody>\n",
       "</table>\n",
       "</div>"
      ],
      "text/plain": [
       "  nmrshiftdb2 ID                                             SMILES  \\\n",
       "0            234  [C]C1([C])[C][C][C][C@@]2([C])[C]1[C][C]=C([C]...   \n",
       "\n",
       "                Solvent1 Temp1  \\\n",
       "0  Chloroform-D1 (CDCl3)   298   \n",
       "\n",
       "                                            Molecule  \\\n",
       "0  <img data-content=\"rdkit/molecule\" src=\"data:i...   \n",
       "\n",
       "                                             target1  \n",
       "0  {0: 18.3, 1: 41.8, 2: 33.5, 3: 42.2, 4: 42.0, ...  "
      ]
     },
     "execution_count": 336,
     "metadata": {},
     "output_type": "execute_result"
    }
   ],
   "source": [
    "df_final.head(1)"
   ]
  },
  {
   "cell_type": "code",
   "execution_count": 341,
   "metadata": {
    "scrolled": true
   },
   "outputs": [
    {
     "data": {
      "text/html": [
       "<div>\n",
       "<style scoped>\n",
       "    .dataframe tbody tr th:only-of-type {\n",
       "        vertical-align: middle;\n",
       "    }\n",
       "\n",
       "    .dataframe tbody tr th {\n",
       "        vertical-align: top;\n",
       "    }\n",
       "\n",
       "    .dataframe thead th {\n",
       "        text-align: right;\n",
       "    }\n",
       "</style>\n",
       "<table border=\"1\" class=\"dataframe\">\n",
       "  <thead>\n",
       "    <tr style=\"text-align: right;\">\n",
       "      <th></th>\n",
       "      <th>Solvent1</th>\n",
       "      <th>nmrshiftdb2 ID</th>\n",
       "      <th>SMILES</th>\n",
       "      <th>Temp1</th>\n",
       "      <th>Molecule</th>\n",
       "      <th>target1</th>\n",
       "      <th>target1_str</th>\n",
       "    </tr>\n",
       "  </thead>\n",
       "  <tbody>\n",
       "    <tr>\n",
       "      <th>0</th>\n",
       "      <td>Unreported</td>\n",
       "      <td>29154</td>\n",
       "      <td>29154</td>\n",
       "      <td>29120</td>\n",
       "      <td>29154</td>\n",
       "      <td>29154</td>\n",
       "      <td>29154</td>\n",
       "    </tr>\n",
       "    <tr>\n",
       "      <th>1</th>\n",
       "      <td>Chloroform-D1 (CDCl3)</td>\n",
       "      <td>2158</td>\n",
       "      <td>2158</td>\n",
       "      <td>2158</td>\n",
       "      <td>2158</td>\n",
       "      <td>2158</td>\n",
       "      <td>2158</td>\n",
       "    </tr>\n",
       "    <tr>\n",
       "      <th>2</th>\n",
       "      <td>Dimethylsulphoxide-D6 (DMSO-D6, C2D6SO)</td>\n",
       "      <td>402</td>\n",
       "      <td>402</td>\n",
       "      <td>402</td>\n",
       "      <td>402</td>\n",
       "      <td>402</td>\n",
       "      <td>402</td>\n",
       "    </tr>\n",
       "    <tr>\n",
       "      <th>3</th>\n",
       "      <td>Methanol-D4 (CD3OD)</td>\n",
       "      <td>331</td>\n",
       "      <td>331</td>\n",
       "      <td>331</td>\n",
       "      <td>331</td>\n",
       "      <td>331</td>\n",
       "      <td>331</td>\n",
       "    </tr>\n",
       "    <tr>\n",
       "      <th>4</th>\n",
       "      <td>Acetone-D6 ((CD3)2CO)</td>\n",
       "      <td>156</td>\n",
       "      <td>156</td>\n",
       "      <td>156</td>\n",
       "      <td>156</td>\n",
       "      <td>156</td>\n",
       "      <td>156</td>\n",
       "    </tr>\n",
       "  </tbody>\n",
       "</table>\n",
       "</div>"
      ],
      "text/plain": [
       "                                  Solvent1  nmrshiftdb2 ID  SMILES  Temp1  \\\n",
       "0                               Unreported           29154   29154  29120   \n",
       "1                    Chloroform-D1 (CDCl3)            2158    2158   2158   \n",
       "2  Dimethylsulphoxide-D6 (DMSO-D6, C2D6SO)             402     402    402   \n",
       "3                      Methanol-D4 (CD3OD)             331     331    331   \n",
       "4                    Acetone-D6 ((CD3)2CO)             156     156    156   \n",
       "\n",
       "   Molecule  target1  target1_str  \n",
       "0     29154    29154        29154  \n",
       "1      2158     2158         2158  \n",
       "2       402      402          402  \n",
       "3       331      331          331  \n",
       "4       156      156          156  "
      ]
     },
     "execution_count": 341,
     "metadata": {},
     "output_type": "execute_result"
    }
   ],
   "source": [
    "df_final.groupby('Solvent1').count().sort_values(by=['nmrshiftdb2 ID'], ascending = False).head().reset_index()"
   ]
  },
  {
   "cell_type": "code",
   "execution_count": 338,
   "metadata": {},
   "outputs": [],
   "source": [
    "targstr = [str(i) for i in df_final['target1'].tolist()]"
   ]
  },
  {
   "cell_type": "code",
   "execution_count": 340,
   "metadata": {},
   "outputs": [
    {
     "name": "stderr",
     "output_type": "stream",
     "text": [
      "/Users/aquail/anaconda2/envs/python3/lib/python3.7/site-packages/ipykernel_launcher.py:1: SettingWithCopyWarning: \n",
      "A value is trying to be set on a copy of a slice from a DataFrame.\n",
      "Try using .loc[row_indexer,col_indexer] = value instead\n",
      "\n",
      "See the caveats in the documentation: https://pandas.pydata.org/pandas-docs/stable/user_guide/indexing.html#returning-a-view-versus-a-copy\n",
      "  \"\"\"Entry point for launching an IPython kernel.\n"
     ]
    }
   ],
   "source": [
    "df_final['target1_str'] = targstr"
   ]
  },
  {
   "cell_type": "code",
   "execution_count": null,
   "metadata": {},
   "outputs": [],
   "source": []
  },
  {
   "cell_type": "markdown",
   "metadata": {},
   "source": [
    "#### There seems to be a difference between the currently available dataset and the dataset Eric Jonas/Seokhang used?"
   ]
  },
  {
   "cell_type": "markdown",
   "metadata": {},
   "source": [
    "#### I am not properly processing H's - will just join with Seokhang dataset to include solvent data"
   ]
  },
  {
   "cell_type": "code",
   "execution_count": 342,
   "metadata": {},
   "outputs": [],
   "source": [
    "message_data = pickle.load(open('../nmr_mpnn-master/datasets/data_13C.pickle', 'rb'))"
   ]
  },
  {
   "cell_type": "code",
   "execution_count": 366,
   "metadata": {},
   "outputs": [
    {
     "data": {
      "text/plain": [
       "dict"
      ]
     },
     "execution_count": 366,
     "metadata": {},
     "output_type": "execute_result"
    }
   ],
   "source": [
    "type(message_data)"
   ]
  },
  {
   "cell_type": "code",
   "execution_count": 367,
   "metadata": {},
   "outputs": [
    {
     "data": {
      "text/plain": [
       "dict_keys(['train_df', 'test_df', 'MAX_N', 'spectra_config', 'tgt_nucs'])"
      ]
     },
     "execution_count": 367,
     "metadata": {},
     "output_type": "execute_result"
    }
   ],
   "source": [
    "message_data.keys()"
   ]
  },
  {
   "cell_type": "code",
   "execution_count": 369,
   "metadata": {},
   "outputs": [
    {
     "data": {
      "text/plain": [
       "[('13C', 'dataset.named/spectra.nmrshiftdb_13C.feather')]"
      ]
     },
     "execution_count": 369,
     "metadata": {},
     "output_type": "execute_result"
    }
   ],
   "source": [
    "message_data['spectra_config']"
   ]
  },
  {
   "cell_type": "code",
   "execution_count": 343,
   "metadata": {
    "scrolled": true
   },
   "outputs": [],
   "source": [
    "seok_train_df = message_data['train_df']"
   ]
  },
  {
   "cell_type": "code",
   "execution_count": 344,
   "metadata": {},
   "outputs": [
    {
     "data": {
      "text/html": [
       "<div>\n",
       "<style scoped>\n",
       "    .dataframe tbody tr th:only-of-type {\n",
       "        vertical-align: middle;\n",
       "    }\n",
       "\n",
       "    .dataframe tbody tr th {\n",
       "        vertical-align: top;\n",
       "    }\n",
       "\n",
       "    .dataframe thead th {\n",
       "        text-align: right;\n",
       "    }\n",
       "</style>\n",
       "<table border=\"1\" class=\"dataframe\">\n",
       "  <thead>\n",
       "    <tr style=\"text-align: right;\">\n",
       "      <th></th>\n",
       "      <th>molecule_id</th>\n",
       "      <th>rdmol</th>\n",
       "      <th>spectra_ids</th>\n",
       "      <th>value</th>\n",
       "    </tr>\n",
       "  </thead>\n",
       "  <tbody>\n",
       "    <tr>\n",
       "      <th>0</th>\n",
       "      <td>4001</td>\n",
       "      <td><img data-content=\"rdkit/molecule\" src=\"data:image/png;base64,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\" alt=\"Mol\"/></td>\n",
       "      <td>[1]</td>\n",
       "      <td>[{15: 193.4, 11: 203.0, 2: 33.5, 14: 33.5, 1: ...</td>\n",
       "    </tr>\n",
       "    <tr>\n",
       "      <th>2</th>\n",
       "      <td>4003</td>\n",
       "      <td><img data-content=\"rdkit/molecule\" src=\"data:image/png;base64,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\" alt=\"Mol\"/></td>\n",
       "      <td>[3]</td>\n",
       "      <td>[{10: 26.1, 9: 23.3, 6: 23.5, 1: 132.1, 8: 23....</td>\n",
       "    </tr>\n",
       "    <tr>\n",
       "      <th>3</th>\n",
       "      <td>4004</td>\n",
       "      <td><img data-content=\"rdkit/molecule\" src=\"data:image/png;base64,iVBORw0KGgoAAAANSUhEUgAAAMgAAADICAIAAAAiOjnJAAAABmJLR0QA/wD/AP+gvaeTAAAgAElEQVR4nO2deVwTV9fHT3YIOwiKWhdAq1AfNquWRagEQaW2WnnQutG6Fyt9LUqtVltLrVoXtFVakQpt3SsqLiBgRYSKjwHEKqIs4sYijWEPhCTz/nHrNCWACWRmQpzvH36ckJlzJvnl3Dv3nnsuA8MwoKHRNkyqHaDRT2hh0RACLSwaQqCFRUMItLBoCIEWFg0h0MKiIQRaWDSEQAuLhhB0UVgikSgnJwc/LCoqKi0tpdAfmm6gi8LKy8tbvHgxfhgTExMXF0ehPzTdQBeFRaMHsKl2oGNqa2tPnjyJ/l9aWvqf//yHWn9oNEVHhVVfX3/8+HH0/7t379LC6nXoqLAGDRp06NAh9P/w8HBqnaHpBrrVx8IwbNu2bY2NjVQ7QtNTdChiYRgWFhYWExMzatQo5dcZDAZVLtF0H0w3UCgUYWFhAMDj8c6ePUuCxb/++uvq1av44Z07d0pKSkiw+5KgE8LCVWVoaJiWlkaO0dTU1FGjRuGHK1asWLNmDTmmXwbU7WMRNxqOYdhHH320Z88eQ0PDpKQkgUCglcvSUIu6fay8vLxPPvnk5s2b6DAmJsbIyGjTpk09NI9h2PLly/fu3UuJqujRMuKgsvNOraqAHi0jEg2Epfr7vnbt2tGjR319fcePH29ubq6RYVxVfD7/9OnTlKiqT58++GjZvHnzxGIxyT7oMRoIS/X3febMmZ07d+7cuZPJZI4YMcLLy0sgEPj5+VlaWnZ9KWVVJSUl+fn5df8OuktJScmTJ0/ww5s3b/L5fPLd0Fc0EJbqaPj06dPZbHZGRsa1a9cKCwsLCwv37dvHYrGcnZ19fX19fX29vb1VI5kuqKqdPxkZGVVVVXZ2dtR6ok/0qI/l5ubm5uYGADKZrKCgID09PT09PSsrKy8vLy8vb8eOHaqRDHs+Ckq5qtzc3KytrVHjvmTJkpqamsmTJ1PljP7RTWG1Gw1ns9nu7u7u7u6RkZESiSQnJycjI0M1krm4uCgUivz8fENDw6+++qpv377auIXugzfuZmZmNTU1JSUl1PqjVxA6StbW1iYUCjdv3iwQCAwMDADAycnJwsJi/fr1ADBjxgxCrXeN8gDpmTNnAKB///4U+qNnEDvcgEcyFov1559//vTTTzY2Nu7u7tnZ2QDQ3NxMqHX18fPzY7PZlZWV1dXVlMdR/YCk7IaCgoLq6urz58/7+fmZm5uj5y/dEZahoWHfvn0xDEtJSaHaF32BnMBYXl5uYGDAZDJzc3MxDLt27RoAjBkzhhzrLyQjI4PJZALVrbM+QVLEGjx4cFhYmEKhiIiIAAAUsZqamsix/kI8PDxeeeUVADh37lxbWxvV7ugD5CX6rV271tLS8tKlS2lpabrWFHI4nC+++AIAJBJJZmYm1e7oBWSGxy1btgCAs7MzGvJG3RodQSaToQmDcePGSaVSqt3p9ZCamrxixYpBgwYVFBScO3cOdCliAQCLxQoICOBwODk5Oebm5v7+/lu2bMnNzVUoFFS71jshWcjx8fEAMHjwYABgsVgkW++Cmpqafv36AYCtra3y52NjYzNz5szY2NiysjKqfexNkC0suVzu6uoKAGw2GwAkEgnJDnRGcHAwAHh7e8vl8urq6mPHji1evBj9AHBsbW2Dg4N//PHHx48fK59LZzmrQkFqcnJyMjyfFBKJROQ7oAqKo2ZmZuXl5e3+VFpa+uOPPwYHB7dL2bCzs1u8ePGxY8dqa2vpLGdVqMl5x7OvHj16RIkDyjx69MjCwgIAEhISunibTCa7fv06mp4yNDTEFcbhcD799FNaWO2gJoN027ZtLi4uAFBSUjJw4EBKfEAoFIr58+eLxeK333573rx5XbyTxWKNHj169OjRkZGRytkcly9fHjRoEJ3l3B6qFI2CRFBQEFUOIHbs2AEA1tbWVVVV3btCbW3thQsXzMzMZj3HwcGBjliUCcvd3R0AmExmXl4eVT4UFhaiRu3EiRM9uQ7dx1KFsiX2KGIpFIrPPvuMEgdkMtn8+fMlEsnChQunT59OiQ96DGXCQrM6xsbGKSkp6enp5Dvw5ZdfXr9+fejQoag11CJ0TQAA6vpYM2fOBAD0r7Ozs1wuJ9O6UCjkcDhMJjMjI4NMuy8PlEUsIyMjABg/fjya5Dly5Ahpppubm2fPnt3W1hYREeHj40Oa3ZcKipvCtrY2lFawdu3a1tZWckyvWrXq7t27jo6OX375JTkWX0IoFlZzc/P8+fNdXFzKy8v37t1Lgt309PSYmBgul3vo0CGUhk9DBBQLSyKRiMXiuXPnAsBXX3317NkzQotv19bWfvDBBxiGbdy40dnZmSArNEBh7QY+n88CEJw9yzh71uPevVxLyzvPnkVHRdXJ5VopN9Ihy5Yte/TokYeHB0pkbYdIJCouLh43bhw6LCoq4nA49vb2RHii91AZseYDeOflWebljWtsdHv2bDaAxXffNTQ0EGQxMTHxyJEjRkZG8fHxLBZL9Q10fXktQqWw0ETuQxeXYHPzZDs7AHCyt6+qqiLCXEVFBRLNzp07hw0bRoQJGmUoawrRcAMApBUVJUqltrW1kwDu3r37e3l5TU2Nq6urv7+/phVsEKotGpvNDg8PF4lEAQEBCxcu7OJcei5Za1A1gCaVSstXrcIAHgH8zmI9tbTEAL5n/hNB2Wz2G2+8sWbNmpSUlMbGRvWvrDpzFxAQAAB9+vSprKzs+kR6LllbUBaxSktLZyckhAJ8BDBQLodnz4DFWnjw4MWjR2tqagwMDK5cuXL16tWrV69+8803qO6DQCDw9PQcP368mZmZ+obq6uouXboEAHv27EHJx11A15fXFtQIq6ioaMKECZVPn4708Rnj7x8XF7dv3z7o04fn4jLo6tURI0Zs2rSpubn5jz/+yMrKys7OzszMzM3Nzc3NBQA2m+3s7IxE5uPjY2pqqnp9vEWTy+WnT5+WSqVz587973//S/Z9vsyQHyTv3LmDIkdAQIByzvvhw4dDQ0MvXbqkekpjY2NaWtqGDRsEAgGXy8WdR7UhIiMjk5KS6urq0JuVWzTUSTIxMXn27NkLHWvXhoaEhHh7e/f0bl9WyBZWZ6rCMOzjjz8GgB07dnR9hReKbOPGjU5OThiG5eXloTeEhIRo6mdTUxN6dMjPz9f0XGVe2nUWpAqrsLAQqSowMFB1fc7XX38NABr1l+vq6s6ePRsRETF69GjloSkGg+Hl5dW/f38AcHFx6UYfvKqqauTIkQCARuo1QllMqampw4cPx8X08uQAktfHunPnzoQJE6qqqgIDA0+ePKk6T2dtbQ0ANTU16l/T1NR0ypQpU6ZMAYDGxsacnJz09PSzZ88WFhZmZWVZWVkZGRl5enpq6mpCQsLKlSufPXsGAL/++quJiYmtra2BgYGhoaGpqSmXyzU1NeXz+Twez9zcnMvlGhsbGxsbczgcdHq70uUikSguLo6guQTdhRz9FhQU9OnTBzqJVYjExEQAePvtt3tuTiwWf/fdd+gGx40bp/6J9+/fnzhxIjoxMDBw8eLF+HjYC2EwGBYWFgEBAcp9tdTUVBMTk3fffTcxMTExMXHKlCl0xNICaKySz+f7+fn99ddf3t7e27dv7yynoBsRqzPMzc2XL18eFRVVXV2dk5OTn5+PVsl2AYZhsbGxERERDQ0NFhYWX3zxhb29/aVLl5qamqKiohoaGiQSSUtLS11dXWtra2NjY1NTk1QqFYvFra2tzc3NDQ0NMplMLBa3tLSA0mNpQUGBRCK5c+cOqkn5ElWTJ1S2qampw4YNQ7Fq0qRJYWFhXfxei4qKAGDYsGHasv7555+jewwPD+/6nffu3cMz/hwdHcePH6/8WHDz5k11zMnl8mfPnonFYuXH0jfffJPL5eJ3/fL0sQifK2xtbRWLxUFBQadOnepw6hdHixELsXLlSlRO7cCBA3K5vMP3NDY2LlmyZOTIkZcvX0a56oWFhZmZmRiGeXp6rlu37uLFi2rOLTKZTAsLC/QsiQZaDx06tGbNGhMTE23dUS9Cy01hu3m6R48etbW1bdiwYcSIEefOnSstLXVyclqyZMmECRP8/PxQJMOxsLBgs9l1dXVtbW14R7gnmJubu7m5CYXC+vr6y5cvT5gwAb2OLzc9efLk9evX8XoyTCbTxcXF09PTy8tr4sSJGo3vd0hsbKyNjY3yK0Svs9ChzB/tBsB2Y4zvvPMOj8dTnn2bPXs2btrR0TEyMjItLQ3vzqPCsl3P6GkEnko/ZcoUoVAYHR0dHBzcTjEcDmfKlCnHjh1TZxBVHdCHgEy/9tprZDZ/urPCkXBhWVtb44crVqxYvnz51q1b/f39lcsf8Pn8SZMm7dixw8HBAdTu07yY4mK5h0cugyEEEAJ8/twcg8FAXSgWi7V48WKNZrjV5MmTJ1ZWVgCwb98+jMRhUt0RlvafCpUzTyorK9v91cTEZNWqVatWrZJIJFlZWampqWlpaTdv3kxOTkZVaAAgICDAysqq3SgRl8s1Nzfn8Xh8Pt/ExITH45mamhoaGhoYGJiZmXG5XBMTEyMjIy6Xi5bCAgAsW8b84w+356bdART+/pktLVlZWVKpdNSoUXFxca+//rrWPwEMwxYtWiQSiSZOnIiydAjalK9DdCTzR/vCUt7L6dGjR8p/Uu5hGBoa+vv7+/v7A0BNTU1GRkZ6evqBAweYTGZlZaWqIjWCy+UaGRklNzePBfjUyipdJIoFcAW4c+PGlZoaDoezcuXKjRs3Kj/6aZGYmJjz58/36dMnPj6e5MWr9fX1YrEY//z//PNPVLSXfLQvrHaZJ3hCHwBER0d3eIq1tXVwcLCPj09sbKyBgUFRUZFUKm03SiSVSuvq6lpaWiQSSV1dnVQqbWhoaG5ubm1tra2tbW1tbWpqamxslEqltbW16HS0muyqSJTPZDYqFABQU1Pj4eGxf/9+NF1DBGVlZZGRkQCwZ88e5eKA5ASSkpISmUyGf/4uLi4FBQVEGHohOrSLPcprGD9+/KuvvtrDSyE5GgYGwv/+d8rGpuzpU3RFIyOjV5ycbt261a9fv39aTO2hUChCQ0MbGxtVs3Retk03iRWWRg0BSsd78803e26Xx+PxeDz4+WeYNcsiP98dAACKAXKbmlJiY2NjY1kslqurK773XYdJXd1g06ZNV65cGTBgwK5du9r9ibQUQrlcjofG+vp6qjZh1LKw/P398S4qdN72dUhGRgYA+Pr6as2bV1+Fw4cV9fXTp09//PjxfYCovXvr6+vR3ndCoVAoFG7btg2lp6LhK4FAoGYkUx0xKi4u/uqrrxgMxv79+4kIh+rg5ubG5/NRaHzw4EFNTc20adMo8YSynPd2VFRUAICJiYnWa6xv3rwZnsfOadOmoRebm5uvXLmC6j7yeDz802CxWO7u7itWrDh27JhYLO7isu0e7MPCwtDMger0kVwuT05OVn5zeHg4QaMAyl6hAWGqStvpirAOHjwIAJMnT9buZW/dumVgYMBgMFAg5HK5zc3N7d7T1NTUDZG1Exaa5B4xYoTq9bdu3fr666/fuXNHu7fWIcpexcTEAICDgwMJdlXRFWGh8Z5vv/1Wi9dsaWlBfeSwsLDbt28juXRdwVYdkdXW1mIYlpqa+sorr6BkmK+//prBYDCZzGvXrrW74O3bt5Gyz549q8Vb6wxlYVVWVjIYDAaDQUlpal0RFprPEgqFWrzm6tWrAcDe3r6hoQHDMDSXrBxmuqapqanDHGgkspCQED6fP2PGjBkzZqAhFdUEealUOnr0aABYunSpFu9LTVJTU5HDcXFx5FvXCWE9fPgQAMzMzGQymbaumZWVxWKx2Gw2Ppdy4MAB1NmqqanR9GoNDQ3JycmRkZFjx45FWx8gOBwOGqzq27dvZGRku7M+/fRTALCzs6uvr9fCLWnOgAEDAMDV1ZV80zohrISEBACYOnWqti7Y2NiIph0///xz/EWZTIYmKF+YnvXCi6elpc2dOxdNNHE4HBaLFRgY2K4//scff7BYLCaTefny5Z6Y6wnffvst+i2R3xrqhLDef/99UGN9jvqgHpurq2tra6vy62jQ0sTEJD8/v4fFKVFvpr6+Hi0PMTY2XrhwIf7XxsZG1PJ+9tlnPbHSQ5qamlAC0rp160g2rRPCGjJkCPR4oRVOSkoKg8Hg8XiqWRJnzpxhs9noszYxMREIBJs3bxYKhT0R2datW1GzqBwIUQESFxeXdsomn8DAQACwsLC4e/cumXapF9aDBw8AwNLSUiv1bfFNvFTjX1NT0/Dhw1H/fejQocqDeVZWVtOmTdu1a1dBQYFCodDIokQiGcnhAMCYAQMwuRzDsAsXLnSmbPJJSEhgs9kod7dfv35ok6n79+8TbZd6YeXn548fP74ba0o7RHkTr3Z/CgsLAwBHR0eUV1hRUYG2+HJ0dFQWWTciWYyvbw6AAgBLT//rr79Qd37btm1auaOegPc1HR0d2+WyDh8+fOnSpUePHn369CkRpikTFhG5b2gyztTUVHUTr7S0NJTfd+PGDdUTnzx5gkTWLpL16dMnKCjohSK7mJJSD4ABYJMmoW6cl5eXFp9wuw36LTk7O6MWGd/JrN2ME76TmXIObQ+/IMqERUSuo0gkmjVr1oEDB9q9LhaLUVrS5s2bX3iRzkRmbW2Ni6xdcymvqUkwMioFuBAQYAVgbGysC+voL168yGAwOByO6uigTCYTCoWbN28OCgpSnoBHQ3SoFsbp06d78gX1bmGp+auaNWsWAHh4eGgaRXCRoceLjkV26xZmY4OhiAUgBji9YYOmN6J16urq0C6eUVFRXb+zpaUlIyNj/fr1np6eymtYpk6d2luFhU+JdHuJsDrqPHHiBAAYGRndu3evJw4XFxfv379/zpw5aNQRJ8rYGAOQGBiUAtQieU2dihUX98RWz/nggw8AwM3NTaNJ/YaGhvPnz0dERLi5uW3YsKEnXxCViX4k5L5psfSog4ODg4PDggULAKCsrAwV7rpw4ULjgwcAEN3SwmAwVmMYAIBQCI6OsHcvdFmWkjhSU1MPHDjA4/F+/vlnjRbSGRsbT5o0adKkSQCQlpYWHR3d7S+ISmFpJfeti5RfTGVRg7aws7Ozs7NDG2f+FREB27e7Wln5i0TxAO8DQGgojBoFy5fD++9Dl2t0iaC2tnbBggUYhm3atMnJyaknl+rJF6RDqcndo4uw98MPP5CwqKGPgwNYWgaIRIBUBdAmk3FmzICwMLh2DTw8CLLbGR9++OHjx489PDyoLXWpK8Lq9hff2a+qrKwMZTe0W9SgfZYuBQBYvbqxufmpXP4YQDx8+NtsNjg4wJ07JAvr9OnThw8f7qKWfbfR+AvStFeoU3TWeZfL5d7e3gAwZ84cklxZu1b8fA2Ir68vVl+PsdlYR2UviePp06doKfnevXvJtNshlG0gQAT4r+qbb75Bixp2795Nku333jMvK5tsYAAAmZmZkqgoGDYMxo8nyToAACxbtqy6utrPz28pCqLUQrWytY9cLp8wYQKDwUhLSyPV8KFDTTxeGUAFQPUrr2BlZWQaR6lHZmZmDx48INNuZ+ihsDAMk8lkZKsKwzAMu5Gb+yqADYCdnR2Zdp88eYJmaVRnHahCH4SlU5WJBw0ahJqC0tJSciwqFAo08vTWW2+RY1Ed9KGPpVO7duGeoCLQJLBv377k5GQrK6t9+/aRY1Ed9EFYOsWcOXPQMwQ+ukYo5eXlq1atAvU2dCETPREWGn9HELdBqzoMHjwYzdM1NDQsWrQoNze3syqVPUehULz//vsNDQ3Tpk0LCQkhyEr30JUB0h6iOyU3RCJRSEjIkSNHeDze/v379+/fz+fzPTw80OY/Y8eO1UoVTMTu3bszMjKsra1/+OEHbV1Ta1DdydMCulPGDjmD6tuOGDFiwYIF7bZcNDc3nzp16o4dO/Ly8nqYil1UVIQWHZ04cUJbzmsRPYlYukN2dnZtba2RkVFSUtKwYcPQWlYvLy9UiaSwsDApKSkpKQkATExMxo4dKxAIBAKBq6srk6lWtwQVIxkzZszChQslEsm0adN0c9d0PRQWyUX0lKmoqNi5cycAzJ0799atW7du3UIJF8HBwSgZv6qq6sqVK7jI0tPT09PTQRORoaqTs2bNysrKGjBggI2NjW7up8LAUAoRTY/BMCwoKOj8+fNsNhvJCACuX78eHBzc4RdfWVmZlZWFiwx/vWuRpaWlLV++/OHDh62trefOnUtJSSGunGlP0MOIRRUoS8fMzKx///7qpDHZ2trikQwXWXp6ellZWReRTC6Xl5eXS6XSwMDAlpYWnd24mhaWdsCzdJYvX466UBqhLLLy8vKMjIxLly5lZGQ8fPgQF5m1tbWPj8+DBw+kUimqJH38+HGdrTpJC0sL4KVH58yZ4+PjoyysbnT4hgwZEhoaGhoaCgAVFRXZ2dnp6empqanl5eW//fYbh8NhMBhJSUmopqbublxN9WOpPhAVFQUAAwYM0NbeFh1SUlKyb98+pNTt27ejF3V21yc9GXmnkvx8iwsXGAxGfHw8oaVH7e3tFy1ahNLY9+7d29LSUlxcLJPJiLPYI6hWdi9HIsGcnDCA8i++IMcgXk5NIBAAwKlTp8ixqyl0xOoZa9fC7dswYsTg1avJMejv74/WLj9+/BhU9v7QHWhh9YCsLNi1C9hsSEgApT2niGbq1KkAUFZWBgBPnjwhza5G0MLqLvX1MGcOyOWwbh2MGUOm5fXr1wOAVCqF53FLB6GF1V3Cw+HBA3Bzg88+I9nysGHD8GX+tLD0i9OnIT4eDAzg559Be2kw6rNo0SL0n/v375NvXR3ouULNqamBUaOguhp274aPPqLEhYqKioEDB2IYxmazpVIphfPunUFHLM1Ztgyqq8HPD5Yvp8qF/v37hzo4BANMk8kafvoJbtygypNOoXq8o7fx668YAGZujj18SKUbR48qGAy8KBdmaFh++LAuVHvDoSOWhgQFwfz58N13QNHOpX+Tnc3AsBsAxwHqbWxAIhH+8AOFa5NUoSehNcTMDOLjqXbib+IZjFhDwx21tUsA2traqHbnX9ARSw1u3IAff4RffoGSEqpd+Ru08scZw96WSgdLpQCQk5OTkpJy7949ql17DtVtsc7z6acYk4lNnoyNHYtxOFhsLNUOYVKpdJeLyz28gwWAAYQCAACTyRQIBElJSVT7qBdL7AmktBRjMrHbt/8+PHwYs7LCKK2zLZPJZs6cCQBLebzzxsZYcDAWHIx9/vn8efNGjx6Nb9Tr4uKSkJCg9V1F1YcWVpd89x3m4fHPYVsbZmmJZWdT5Y5cLp8zZw4AmJmZff/996qL3p4+fbp58+b+/fsjefXr12/Dhg2U7FdI97G65Pp1eOONfw7xOn1UgGHYhx9++OuvvxoZGZ05cwZt34KDxkitra0jIyPLysoSEhKcnJyqqqq+/PLLwYMHL1my5O7du2S7S9Mpa9diY8f+c0hFnT6EQqFA20zw+fxLajtw5cqVoKAgpDkmkxkUFJSVlUVOcR5aWF1y+zbG4WAXL/59uGEDNnIkpo3NpDQlMjISALhc7vnz5zU998aNG/PmzUObxA4ZMiQlJYWEheP0OFaXODpCQgLMmAEmJiAWg5kZZGaCekuWtci6deu2bNnC5XJPnDiBSmFphLOzc0JCwjfffPP999/b2dmpueS6p2hdqnqITIalpmIA2JAh5BvfuHEjALBYrKNHj2rlglrZE+SF0BFLDVgsePNN4HDg4UNoaQEDA9IsR0dHr1+/nsVi/fLLL2hfMa1AQnEeWljqwWbDkCFQXAxlZfDv/Q2J49ChQytXrmQymT/99BPaZ0pbaGVPkK6hhxvUBm3FU1xM0OVFIlFOTg5+WFRUNHLkyHHjxu3ZswftrdK7oCOW2hAsLFRG5ubNm+gwJibGyMgoMzOTzSb2OyIoSZAWltoQLKwOIUJV/v7+uHwBIDo6WusmgBaWBhAvrC52Mut10MJSF2zYsLt2dg+43ADCTOhOJdWeQwtLXbDBg12ePJHev9/Q1IQKQGodEh7WSIN+KlQXJpM5dOhQDMPQEmSarqGFpQFo899iUvrvOriiSyPoplADUKYKQcIi52GNNGhhaUB3ItaNG3DtGvD58MYb4OBAlGe6B70SWgN+//13Pz8/a2trZ2dniUTS0tKCXn9v6NCVt29Da+s/b21pgd27QSiErVshMBBEIsjLo3BfewrQ+rS2HvPw4UMAUE07iXRzw/69tAEDwHbs0LV8eTKhI5YGyOVyPp8vl8tPnTplYWFh8DzNwYzJdODx/pX1wOPBb7/BsWOQnf33KzIZ9O0LZ86Qv689JdB9LA3YuXOnVCqdPXu2o6NjbW0t/pvEAKCi4l9vrauDzMyO8+VfDmHRTaG6XLt2jcvlMhgM1W0Bl44a1UFTiJYi4lCXL08JdMRSC7FYHBISIpVKV61alZ+fz+fzzc3N8aGmPgMHQt++/zrB1BQmTYIPP4Tff4cJEwAAtm8nf197CqGF9WIwDPvggw/Ky8vHjBkTFRWFViWohZERzJgB5ubQ0gL9+8O5c+Tny1MF3Xl/Mdu3b4+IiLCwsMjLyxsyZIhmJ8vlUFICFhZgY0OIc7oKLawX8L///c/b27utrS0xMfGdd96h2p1ew8sSmbuHWCyeOXOmVCr95JNPaFVpBB2xOgXDsOnTp586dWrMmDFXrlzRoGtFQ0esLti5cycaCD1y5AitKk2hI1bHXL9+3cvLi+5adRs6YnVAbW0tGrX6v//7P1pV3YOOWO3BMOzdd989efLk66+/npWVRTeC3YOOWO2Jjo4+efKkubn50aNHaVV1Gzpi/Qu8a3XixIlp06ZR7U4vho5Y/4B3rT7++GNaVT2Ejlh/g2HYjBkzEhMT6a6VVqAj1t/s2rUrMTGR7lppCz0RlmqpltLSUvVPFwqFkZGRDAYjLi5u6NChBHEr1+AAAAL/SURBVDj40qEnwsrLy1u8eDF+GBMTo/7GMnjXKjw8fPr06cQ4+NKhJ8LqCQsWLCgrKxs9evSWLVuo9kV/0J9EP9VSLWKxODk52cfHB9/oVpXdu3fTXSsi0B9hqZZquXTp0uzZswHA1tbWy8tLIBB4eno6OTnhpwiFwtWrVwNAXFycnZ0dJW7rK/ojLNVSLWZmZpMnT87KyqqsrDx+/DiS3cCBA318fLy9vV1dXWfNmtXa2kp3rYhAf4Slip+fn5+fn1wuLygoyMzMvHz5clZW1uPHjw8ePHjw4EEAYDAYzs7OdNeKCPRQWCKRqLq6Gm/aiouLzczM5s2bN2DAABsbm5MnT9bU1KA/MRgMKysrHo9HnbP6C0XLzggkNTW13ZYeISEhLBYLv2V7e/sVK1YcOnTI0tISAPbv30+ht/qKHkYsVWxtbdls9rhx49566y2BQODu7o5exzBs9uzZ4eHhPj4+Di9TKRgS0E9hdTj0YGho2O5t77333unTp48dOxYaGnr58mXlqEbTQ/RzgBQNPSDQPn2qqkLs3bvX1tY2Ozt79+7d5Pqo5+hnxFK/SqyVlVV8fHxgYOCaNWv8/f1fe+01UhzUf/QzYmnExIkTFyxY0NraOm/evLa2Nqrd0RP0X1jqVImNjo52cHDIz8//+uuvSXDpZYBO9Pub7OxsHx8fBoORnZ09ZswYqt3p9eh/xFITT0/P8PBwmUw2f/58iURCtTu9HlpY/7Bp06bXXnutqKho7dq1VPvS66Gbwn+Rn58/duxYuVx+8eJFX19fqt3pxdAR61+4urquXbtWoVAsWbJELpdT7U4vho5Y7ZHJZAsWLFi5cqWzszPVvvRiaGF1jEgkKi4uHjduHDosKiricDj29vbUetWLoJvCjunJ6gwaoIVFQxD6OVeoFfRpI13yoYXVKfq0kS750MLqFH3aSJd86D4WDSHQwlKL3r6RLvnQ41g0hEBHLBpCoIVFQwi0sGgIgRYWDSHQwqIhBFpYNIRAC4uGEGhh0RDC/wNOjA+yrW8OeQAAAABJRU5ErkJggg==\" alt=\"Mol\"/></td>\n",
       "      <td>[4]</td>\n",
       "      <td>[{4: 38.7, 8: 38.7, 6: 73.5, 15: 25.2, 11: 18....</td>\n",
       "    </tr>\n",
       "    <tr>\n",
       "      <th>4</th>\n",
       "      <td>4006</td>\n",
       "      <td><img data-content=\"rdkit/molecule\" src=\"data:image/png;base64,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\" alt=\"Mol\"/></td>\n",
       "      <td>[6]</td>\n",
       "      <td>[{8: 120.9, 5: 146.0, 2: 109.4, 4: 159.8, 15: ...</td>\n",
       "    </tr>\n",
       "    <tr>\n",
       "      <th>6</th>\n",
       "      <td>4009</td>\n",
       "      <td><img data-content=\"rdkit/molecule\" src=\"data:image/png;base64,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\" alt=\"Mol\"/></td>\n",
       "      <td>[9]</td>\n",
       "      <td>[{26: 62.8, 22: 78.44, 0: 95.68, 1: 96.13, 7: ...</td>\n",
       "    </tr>\n",
       "    <tr>\n",
       "      <th>...</th>\n",
       "      <td>...</td>\n",
       "      <td>...</td>\n",
       "      <td>...</td>\n",
       "      <td>...</td>\n",
       "    </tr>\n",
       "    <tr>\n",
       "      <th>26908</th>\n",
       "      <td>44689</td>\n",
       "      <td><img data-content=\"rdkit/molecule\" src=\"data:image/png;base64,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\" alt=\"Mol\"/></td>\n",
       "      <td>[49498]</td>\n",
       "      <td>[{2: 70.9, 16: 73.8, 13: 27.8, 14: 120.5, 10: ...</td>\n",
       "    </tr>\n",
       "    <tr>\n",
       "      <th>26909</th>\n",
       "      <td>44692</td>\n",
       "      <td><img data-content=\"rdkit/molecule\" src=\"data:image/png;base64,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\" alt=\"Mol\"/></td>\n",
       "      <td>[49504]</td>\n",
       "      <td>[{0: 98.2, 10: 134.0, 6: 145.3, 9: 120.6, 11: ...</td>\n",
       "    </tr>\n",
       "    <tr>\n",
       "      <th>26910</th>\n",
       "      <td>44693</td>\n",
       "      <td><img data-content=\"rdkit/molecule\" src=\"data:image/png;base64,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\" alt=\"Mol\"/></td>\n",
       "      <td>[49505]</td>\n",
       "      <td>[{13: 24.5, 8: 51.8, 17: 148.7, 11: 69.5, 19: ...</td>\n",
       "    </tr>\n",
       "    <tr>\n",
       "      <th>26911</th>\n",
       "      <td>44695</td>\n",
       "      <td><img data-content=\"rdkit/molecule\" src=\"data:image/png;base64,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\" alt=\"Mol\"/></td>\n",
       "      <td>[49508]</td>\n",
       "      <td>[{17: 23.1, 6: 75.2, 16: 176.4, 1: 47.6, 14: 7...</td>\n",
       "    </tr>\n",
       "    <tr>\n",
       "      <th>26912</th>\n",
       "      <td>44696</td>\n",
       "      <td><img data-content=\"rdkit/molecule\" src=\"data:image/png;base64,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\" alt=\"Mol\"/></td>\n",
       "      <td>[49509]</td>\n",
       "      <td>[{9: 29.4, 8: 73.3, 10: 28.9, 0: 48.4, 3: 36.1...</td>\n",
       "    </tr>\n",
       "  </tbody>\n",
       "</table>\n",
       "<p>21523 rows × 4 columns</p>\n",
       "</div>"
      ],
      "text/plain": [
       "       molecule_id                                              rdmol  \\\n",
       "0             4001  <img data-content=\"rdkit/molecule\" src=\"data:i...   \n",
       "2             4003  <img data-content=\"rdkit/molecule\" src=\"data:i...   \n",
       "3             4004  <img data-content=\"rdkit/molecule\" src=\"data:i...   \n",
       "4             4006  <img data-content=\"rdkit/molecule\" src=\"data:i...   \n",
       "6             4009  <img data-content=\"rdkit/molecule\" src=\"data:i...   \n",
       "...            ...                                                ...   \n",
       "26908        44689  <img data-content=\"rdkit/molecule\" src=\"data:i...   \n",
       "26909        44692  <img data-content=\"rdkit/molecule\" src=\"data:i...   \n",
       "26910        44693  <img data-content=\"rdkit/molecule\" src=\"data:i...   \n",
       "26911        44695  <img data-content=\"rdkit/molecule\" src=\"data:i...   \n",
       "26912        44696  <img data-content=\"rdkit/molecule\" src=\"data:i...   \n",
       "\n",
       "      spectra_ids                                              value  \n",
       "0             [1]  [{15: 193.4, 11: 203.0, 2: 33.5, 14: 33.5, 1: ...  \n",
       "2             [3]  [{10: 26.1, 9: 23.3, 6: 23.5, 1: 132.1, 8: 23....  \n",
       "3             [4]  [{4: 38.7, 8: 38.7, 6: 73.5, 15: 25.2, 11: 18....  \n",
       "4             [6]  [{8: 120.9, 5: 146.0, 2: 109.4, 4: 159.8, 15: ...  \n",
       "6             [9]  [{26: 62.8, 22: 78.44, 0: 95.68, 1: 96.13, 7: ...  \n",
       "...           ...                                                ...  \n",
       "26908     [49498]  [{2: 70.9, 16: 73.8, 13: 27.8, 14: 120.5, 10: ...  \n",
       "26909     [49504]  [{0: 98.2, 10: 134.0, 6: 145.3, 9: 120.6, 11: ...  \n",
       "26910     [49505]  [{13: 24.5, 8: 51.8, 17: 148.7, 11: 69.5, 19: ...  \n",
       "26911     [49508]  [{17: 23.1, 6: 75.2, 16: 176.4, 1: 47.6, 14: 7...  \n",
       "26912     [49509]  [{9: 29.4, 8: 73.3, 10: 28.9, 0: 48.4, 3: 36.1...  \n",
       "\n",
       "[21523 rows x 4 columns]"
      ]
     },
     "execution_count": 344,
     "metadata": {},
     "output_type": "execute_result"
    }
   ],
   "source": [
    "seok_train_df"
   ]
  },
  {
   "cell_type": "code",
   "execution_count": 345,
   "metadata": {},
   "outputs": [],
   "source": [
    "new_target = [{k: v for k, v in sorted(d[0].items(), key=lambda item: item[0], reverse = False)} for d in seok_train_df['value']]"
   ]
  },
  {
   "cell_type": "code",
   "execution_count": 346,
   "metadata": {},
   "outputs": [],
   "source": [
    "seok_train_df.drop('value', axis = 1, inplace = True)\n",
    "seok_train_df['value'] = new_target"
   ]
  },
  {
   "cell_type": "code",
   "execution_count": 347,
   "metadata": {},
   "outputs": [
    {
     "data": {
      "text/html": [
       "<div>\n",
       "<style scoped>\n",
       "    .dataframe tbody tr th:only-of-type {\n",
       "        vertical-align: middle;\n",
       "    }\n",
       "\n",
       "    .dataframe tbody tr th {\n",
       "        vertical-align: top;\n",
       "    }\n",
       "\n",
       "    .dataframe thead th {\n",
       "        text-align: right;\n",
       "    }\n",
       "</style>\n",
       "<table border=\"1\" class=\"dataframe\">\n",
       "  <thead>\n",
       "    <tr style=\"text-align: right;\">\n",
       "      <th></th>\n",
       "      <th>molecule_id</th>\n",
       "      <th>rdmol</th>\n",
       "      <th>spectra_ids</th>\n",
       "      <th>value</th>\n",
       "    </tr>\n",
       "  </thead>\n",
       "  <tbody>\n",
       "    <tr>\n",
       "      <th>0</th>\n",
       "      <td>4001</td>\n",
       "      <td><img data-content=\"rdkit/molecule\" src=\"data:image/png;base64,iVBORw0KGgoAAAANSUhEUgAAAMgAAADICAIAAAAiOjnJAAAABmJLR0QA/wD/AP+gvaeTAAAfO0lEQVR4nO2deViTV/bHT0LYwo61BKwLuCEqKtqiYItOM1or1nYwdZvYYivanz44Lo/pM6ODjjOdtNUa7egI09ZG7VgpVkWdcaNu4MKgLYoLskrZBEQBCSQhub8/bn0bAUOWdwvcz+MfZrv3vLzf99z9HAFCCAgEuhFybQChe0KERWAEIiwCIxBhERiBCIvACERYBEYgwiIwAhEWgRGIsAiMQIRFYAQiLAIjEGERGIEIi8AIRFgERiDCIjACERaBEYiwCIxAhEVgBCIsAiMQYREYgQiLTjQaTUZGRltbG/VOdnZ2eXk5hyZxBREWnRQXF0ul0qamJuqd+Pj4I0eOcGgSVxBhERiBCIvACCKuDeiGhIaGCoW/PLH379/n1hiuIMKin3379vn6+uL/y2Qybo3hCiIs+hkzZoyfnx/+v5ubG7fGcAXpYxEYgQiLfgQCgelLnU6XlpZmb6E1NXDwIGzZAv/5Dzx6ZG9pzCMg0WYYRafTRURE3L59+8SJE1Kp1MZSMjIgLg4CAyE0FH76CXQ6OHAAxo+n1VK6QQSG2bhxIwAEBQXV1tba8vu6OuThgdasQUYjQghpteitt1BQEGptpddOeiHCYhyDwTB58mQAePPNN6375Y8/oupqtG0bCgxEWu2v7589iwDQ8eP02kkvpI/FOEKhcPfu3f7+/ocOHfrXv/5l0W9u3IC334aICPj4Y7h7F0aOBBeXXz+dOBH8/KC0lBl76YEIiw1eeOGFlJQUAPjDH/5w584dc1+9dg1mzoRRo+C770AsBg8PcHWFysqnvvP4MTQ2wpMZDZ7CtcvsQSxYsAAAIiIitKbt2hPuXr2KZsxAAgECQB4eaPVqdP8+Qgh99RUCQCUlv371+++RQIDy81my2yaIsNijqalp8ODBALBmzRrT93Nzc2UymUAgaBg5Enl4oMREVFn5y2cFBejdd1FgIHrjDYT7/gUFKCwMyWSsm28dRFiskp2d7ezsLBQKT58+jV/GxsbipsPT0/PgRx+hmppfvlpSghISkEiEAFB8PBozBgEgLy/k5ITeeQe1tHB5GRZAhMU2GzZsAICAgIDf/va3lKQUCsWvkxHFxb9KytkZyeXo7l2EEKquRlevIo2GQ+Mtp6cIq7m5+fTp03q9nnrnypUrP//8M/uWGAyGSZMmAYBAIPDw8EhMTKyqqsIf5efnq1euRE5Ov0jq/fef6lo5FD1FWDdu3ACA+vp66p2wsLAdO3ZwYkxJSYmPjw8AbN26Fb9TXFyckJAgEokAoGnUKCSXo4ICTmyji+4z3eBA+80HDBjwySefBAYGGo3G/Px8uVw+ePDglJQUoVCYkJDw8NAh2L0bBg3i2kz74FrZtGHeJ/HKYyGEjh8/DgChoaFOTk4A4OLisnjx4tLSUq7soZ2etR+LP3s7CwoKAGDMmDFlZWVxcXFJSUkDBw7k0B7a6VnC4s/eTiyssWPH7tixgzKpO9HdhGXeJ/FnbycW1uDBg7ulqqD7CYs/Psk8lLC4NoQpupuwzPukgoICiUTSt2/fdps8WUav19+7d08oFIaEhHBoBqN0N2E9ixEjRiCEoqOjL168ePbs2ZiYmJs3b3JlTElJiV6vDw4OdnV15coGpuluwhIIBDt37mxoaFiyZEnHT+/evQsAQ4YMYd2up+j27SB0J2FhnwQAf/vb38rLy+fPn9/OJz18+LCurs7Ly0sikXBk4y/0BGF1n5l3CoPBAAB44tGU/Px8ABgyZAi3HSwgwnJQniUsnrSD8ERYfLCEOXqQsPhzO7HEicdyMMx7LM5vp1arLS8vF4lE/fv359YSRulxwuLcYxUVFRkMhuDgYGdnZ24tYZTuMyqk6FRYCKHCwkLggcfiT4vcNTU1kJUFpaUwdChERYE1q089RVgVFRWPHz8OCAjgfG2OJy1y15ie69+2zdpz/T2lKeRJOwiOMtfw4AHMnAmLF8OtW3DwIOTnQ2QkxMWBVmthAURYbOMYwvr3v8HbGzZuBDzn5+ICy5dDZSWcPWthAd1NWHj7okAgaDcLyp/byR9LzGH3uf7uJiyeDwk1Gk1lZaWrq2vfvn25taQL7D7X37OExbmfKCgoQAgNHDiwo4X8YvhwyMt7yj/98AMYjTB6tIUF9AhhtbW1lZSUCIXCQVwffXGMdhAA5syBPn1g+XKoqwMAKCyEtWth1iyw2OX3CGEVFxfr9fp+/fpxHmrWAYR16RKsXAnV1XDqFPz8M/TuDd7eEBoKL74Iu3dbXkx3m8ciQ0J72bwZDhwAb29Yvx7On4fmZqiogGHDwN3dqmJoEJZGo7mcmRkTHEzdzmuFhc+Hhb3wwgv2F24t7YRVX1//448/4nBnvXr1Yt+edvBdWPfuweHD4OICeJvkokWQnw9ffGGtqgDoOLB64/r1VABk8q9RKPxOobC/ZBvIzc0FAE9PT7lcHhYWRk06iMVioVC4c+dOTqyiCAgIAIDy8nJuzXgmK1ciAPTOOwghVF6OnJ2RszOyKcIFDcLKy8lBAEggQCEhKCQE+fkhgP9Nn25zgZYH8NDr9Xl5eXv27Fm1atWrr77q7+/f7rHx9PSMiop69913XZ5MychksgcPHthsmz00NjZiiRtxmFq+0diIfHwQAPrf/xBCSKFAAGj+fNsKo0FYV7OyEIDR1fWX1+vXI4ALr75qc4FmjsNrtdq8vDy1Wp2YmBgdHS0Wizv6YHyu0MvL69ChQwaDAZdw/PhxyntJJJL//ve/tl+wreTk5ABAeHg4+1VbxNatCADFxCCEUHMz6tULAaArV2wrjAZhpaemIoBWgUAikUgkkk89PRFA2ogRNhf4LGEtX768Xa9cIBB4e3ubnnUJDg6OiorCGhIKhR999BFVyLJly7DDwD9MTExsZTei9b59+wAgLi6OzUotxWhEQ4ciAHTwIEII7diBAFB0tM3l0Tbd4CIQ3IiKuhEV9X+MzSkHBAQIBIJhw4ZJpdLo6GgfHx+EUGNjo1arDQ4OTkxMvHDhQlFRUVZW1sWLF318fIxG4x//+MfRo0fX1dUBwKeffhoeHq7RaMaPHy8SibZt2zZu3Ljr168zZG1HeL1h5sgRyM+HAQNgxgxACD7/HABg+XLbC7Rf64cOHFj6dOfdAPDZxIltbW1tbW02FIg91vPPPy95gkAg2Lp1a2pq6vz583FkKUxYWJhCobhw4ULHQlpaWqZNm4a/5ubmtn//foRQXl4ensr65JNPcBAOsVi8a9cudmKyyeVyAPjqq69oL9l+iuPjkZMT2rIFIYSOHUMAqH9/ZPI3sRYahHXw4EEngFVeXqu9vfG/KQBz5sxZunTpa6+91tDQYG2BWFgZGRlXr17NysrasmWLp6en6dxmWFhYUlLSrVu3uixqy5YtuPUUi8UpKSl6vX7z5s0A8Nxzz33//fcLFy4UiUTffPMNsBLhKDIyEgA6fQxsg64whXgoPS001PDoEUIITZmCANCnn9pjGz3CAoDDhw9ffYKLi8vMmTPxvNHo0aOtvVQsrF27dsnlcg8Pj3Z6yrcyDPWtW7cCAwNxCVu3bjUaja+//joAeHp6bt++/c6dO4yGzqqsrExPT09KSpJKpS4uLgKBgEaPRZfl8fHxALBixQqE0M2bN7+LiWkNDUUmxdoAHfNYz7i8Dz/8EN9OiUTyPzyC7YoHDx6o1eqYmBhKTEKhMDo6WiKRmHbDrUWj0cTFxeEC5XJ5SUkJnk+SyWRm7LetLq1We/nyZZVKNWfOnH79+pn2OvCQQiAQbMEtjt3QYnlNTY2bm5tQKCwsLEQILVq0CACWLVtmp20MCispKQkH1cS9nIN4uNEZtbW1arU6NjbW9HxBZGSkSqWqrKxEdLgQbKS7uzv2fJ9//jkAiESin376qdMunVXVmbol96cnqb28vKKjoxUKRXp6emlpKZbaGienPLvvHKJJWOvXrweAt956CyH04MEDsVgsEAhu375tp220Cevhw4fUO9Tl5ebmvvjii9RfefXq1aY/LCsrU6lUUqmU0p+Tk1N0dLRKpaqurrbfsI5G+vv747qoOa2wsDA8vYS7dJiQkBDztwdPzCYnJ+P5fXiakJAQuVyuUqlycnKoiTTqh/GRkQYABHB96lT09KcWYjAYfvrppz179tj/SLS2tuKAA+fOnUMI/fWvfwWAGTNm2GBVOxiPQWowGJKTk6mppokTJxYUFKhUqujoaOruurm5xcbGqtXqR7jzyADUgODChQtTp07F9WLv8vvf/96S595Ct1RXV2feEqPRePDNN7UARwE2ffyxhfbr9fqcnByVSiWTyfACg1AozMzMtPaRaMeuXbsAYMyYMQghnU6Hl3dxcgM7YSm4bXFx8ahRo9o92Z6enrNnz05NTX38+DHTBrRrNdRqNdXjwf/pKCyb3ZIlpK5Y4SkUAsCfFi0yHjiAPvsMHTuGTLw+Qgg1NaFTp1BSEpJKP3s6iWZwcPCCBQtOnz5tZ1M4evRoAFCr1QihvXv3AsCIESNoWXFiNWryhx9+6OTk5OLiIpPJ1Gp1U1MTa1V37I6EhIT07t2bulV4sIndUu/evUNDQ+1xS5awd+/eqSLRI4BKHx/jzJlowAAUFIQuXUIIobVr0ejRv2QSAEAAOWFh4eHhS5cu3bdvH7WGbWcf69y5cwAgkUjwCsRLL70EAF9++aX9l4ZYFlZNTQ0A9O7dm81KMZ12BDdt2vTGG29g3fj6+rbbhy4UCocPH/7ee+99+eWXN2/etMEtdUFdXZub2xYXFwHAG2+8oXn06NfUqdOnIwAkEqGxY1FiIkpNRZ1J2Uzv1hIeP368Zs2al19++cSJEzjrXe/evVtoytLDqrAqKysBIDAwkM1KzWM0GtevXy8UCr28vJhwS+bYtg0FBmZnZj733HMAEBMT8xhPeR8/jrKy0LlzDKXNaWlpSU9PT0hIoBx2r169RCKRk5PT2rVr6aqFVWGVlZUBQN++fdms1BKwqi5fvky/WzLDsmVoyhSE0K1bt7CzDB8+3ODjg5jZNNbc3JyWljZnzhx8sZhRo0Zt2LAhISEBv0xISKDrL8CqsIqKinDHk81Ku0Sr1QoEAmdnZ7a3Sa1ahZ7sASktLQ0NDfUBaAOoVKlorESj0aSnp8vlclM94TUM08mq5ORkPIn4+uuv27AK1xFWhYVj6g0ePJjNSrukoqKCmwb66dSpDx48+HDoUCNA1HPPXbt2zc6ym5ubsZ46rondxUnqOnD+/HncOI4cObK4uNhOA1gVFg4KGhYWxmalXYKXYEeOHMl2xRoN6tPHNHWqITT0vESCJ2JOnjxpQ5H19fV4DYOaOMRrYkqlEq/YmKewsBBPrPTq1evMmTM2GEDBqrDwLeTbFsqMjAwAmDx5Mgd137rVLnWqtqFhzpw5AODq6pqammphMXV1dVhP1A5sag2joqLCKosaGxvxSNnFxcWeqQdWhXX16lUAiIiIYLPSLtm/fz88WZDmhqdTpxqNxpUrV2JxmD/90XGNldITlVzTBtra2hQKBdWd19u0K4tVYV25cgUAXnrpJTYr7ZLt27cDwAcffMC1IU+hVCrxrVV0OO/UcY3V1dVVKpWqVKr7OPE9HXzzzTd4D9yUKVMetlsSsABWhZWVlQUAUVFRbFbaJThJ87p167g2pD27du3C0lm6dKnBYCgtLWV5jTUrKysgICA4OLisrMzaHYWsCguvIbzyyitsVtoliYmJAKCidZBPF2lpabgbjjeQYTw8PGQy2f79+1lYEystLbVtLySrR+xxXl3KgfMEfNQCT3/zjbi4OA8PjzfffNNoNIrF4t/85jcymex3v/udp6cnOwbg0M55eXnW/pAIi9fCAoCKigqtVtu/f//MzEwHSurEarQZIixLyMvLmzZt2rFjx/BLHHgiMTGRc1WFhoYGPuH27dvmv0w8Fu+ElZKScvz48UGDBk2fPv3GjRtXrlzx9fWl9uxziFVJRlm9x3q9HoiwzNLS0oKPo7333nsAgHezyOXyToMJsIxViY/pbAo1Gk1GRgZ2S5js7Ozy8nLqJf6IVxkZWlpaNBqNu7u76Zoah6SlpdXX10dGRo4ePZoS2cKFC7m2y2roFFZxcbFUKm1qaqLeiY+PP3LkCPWSh01hbW0t8MZdwZMeFT6DlZqa+vDhw/Hjx4+2OPIno1iVjq+n97F41Q7m5+dnZmZ6enq+/fbb8LTIuIVKMkrRZeLjnj4q5JWwUlJSEELz58/38vK6c+fOxYsXvby8sMgcDvrvcWhoKI5QBQD37983/YiHwuJPU6jT6fbs2QNPXFRycjIWGWtzofRC/z02MyjlobD447EOHDhQW1s7atSosWPH6nQ63G3nQztoG/TfYzODUh4K68GDB8APYeEe1ZIlSwAgLS2ttrZ27NixERERXNtlI6SPxQuPVVRUdPbsWQ8Pj3nz5gGfuu02Q7+wqEGp0Whs9xER1rPA3fY5c+Z4e3sXFRWdO3fOw8Nj7ty53FplD3TeY2pQWl9fHxsbW1lZWfp0sigirE7R6/Udu+1z58719vbm0Co7YaQp9PPzKywsvHfvXklJien7PFzS4YOwDh8+XFVVNXLkyMjISJ1Op1arwcHbQWBIWAKBYMKECQBw8eJF0/dx2ggirHbgHhU+NXr48OGamprw8HAcScFxYarzjoV16dIl0zd52BTiUSGH2VBKSkpOnz7t7u4+f/58eFpkDg1TwoqKioIOHotvwmpoaNDpdO0ixbPM/v37jUajTCbz8/MrKSnJyMhwd3fHY0OHhql7/OKLL7q4uFy/fr2pqYk63M03YfGhHVyzZk1ERESfPn0A4IsvvjAajW+//bafxYlMeQtTHsvd3X3UqFEGgyE7O5t6kwirI0KhcMqUKcOHD29ra/v666/B8bvtGAYnSHFraNrNwvGx8NiQD/BBWBRHjx6trKwMDQ3FfzdHh0FhUf33kpKSrVu3Tpw4MTU11dvbW6FQ4Kka5qq2EF4JC3fbFy9ebNW2J/7C3JE0HHrVNK2Sn58f9TI6Ovr69evM1W4JmzZtAoCVK1dya4ZOp0tOThYKhS4uLoxHe2ML+oV17969dgd2vby85HJ5enq6VqstLCzE8Z8BQCgUyuXyWhxrhV2am5t3794dEhLi5OQUEhJCV3xEaykvL1cqlTjqWlBQEADIZDIbzrPzENqEhQMKmOpJLBbjP9Y///lP029WV1fjvbb4m/7+/iqVqrGxkZ1MSRcvXly0aBGV6Qnb4OPjY2fUHqtoa2s7dOjQtGnTqI1rI0aMmD9/Pt53HxIScgmHuHVkuhBWl2mAysvL2+nJ3d0dBxR4/PixSqUCgIULF7YrtqmpCQdbxy2ju7v7yZMngclMSVVVVSqVyjQk+NixY1UqlVKppFrnefPmMX1ovbKyUqlU4uPFAODq6iqTyU6dOoWDCRYXF+OOqUgkSkpKsi13Gk/oQljPOrSPA+hIpVLqmaP0ZHpvcHiZ0NDQjiVrtVocCMrZ2Tk+Pp6hTEltbW2nTp2SyWTU0aDAwMDExMTc3Fzqmbl27RqV8zcgIODUqVN2VtoRg8GAzaCmWoYMGaJUKjt2A/R6fVJSEv6rjh8/vqioiHZj2MEWYW3cuNFUT3Fxcfv3729ubu74c51Oh3OzdNqRMhqNq1atwn5r3bp19Arr5s2bCoXi+eefx3a6uLjExsampqbqdLqOl1ZXV0etzQkEArlcXm9f7iuKqqoqpVIZHBxMmWHqop7FDz/8gJNEeHt77927lxZLWMZGjzVu3Djsn7oMhPrKK68AwNGjR5/1BaVSSTWj9qSFwTx8+DA5OTk6Oppq8sLCwpRKZcfAUe0uTa/Xm64YBgYGHjp0yNraKYxGYztPOWjQoE7NMHMh2KM7aI/eImF1vN+WB23GyeX+9Kc/mfnO119/jTs6r732WnZ2tg1pYXBbY3pi2NfXNyEhwUzWyU6fmXnz5pmep01PT7d2SFFfX69SqXD6VuyMpVJpenq6bSGZ1Wo1PkwxYMCAzMxMG0rgCouEZU8aoMOHD4MFET5xnjcAmDlzpkajQRY3hffu3VMqlQMGDMA/FwqFUqlUrVZ32jR3vLSOz0xmZiYORiUWi3GOTwsb6JycnISEBCpRSp8+fRQKRVlZWZeXYJ7bt2/jne84GSw7Y2f7sbEptLyCgoICgUDg5OSUkJDw3XfflTyJPt1pRbgTHRMT8+jRI/MVaTSa1NRUqVRKNaP9+vVTKBTPKv9ZNXZ8Zj766KOXX3556NChAIC9hfnLx43viBEjTJWdmppK45gO9+j79u17/vx5JoY4TMCssFJTU6nuM4WPj090dHRiYqJarc7LyzOt6NKlS3i2cMSIEUOGDOm0IuwYqB0T7u7ulnSHLby07du3h4SE4JKppZ6kpKROLx9bQjW+gYGBCoWitLTUKjMsp6GhgdEsw/RikbBsSAN0586dyZMn47/4hAkTxo0bh//fMSKIRCKJjY1dv3790aNHq6urcY4G3KswTf9cUVGhVCoHDx5M/XDs2LHJycmNjY22XbmZmZSkpCRqAgLj5uYWEBCAm8vPPvssOTmZmhKjXJRt0YVpsZnpem2A/iWdlpaWpKQkvHXO398/OTkZ+5Jjx45hb+Tq6jp37ty1a9fGxsaaJnajnvupU6fib/r5+Z0/fz49Pd10BigoKEihUDwrvYLlmH9mmpqaVCqVaeTPoKAglUrl7e1NxVKXSCQKhcL+JA7W2mz/2JkFaBbWmTNnsL/Bs0E1NTWmnz569CghIQH3isLDw3NychBChYWF33777erVqydNmtTxXArl4dzc3GbPnn38+HE28yjhwPR4Fx52TvjSpkyZcuDAAWpKjDXsH0uxBm3Cqqqqksvl+AYMGTIkIyPjWd88deoUnjB0dnZet25dU1OT6UinoqJi06ZNK1asmD59ukgkEovFEomk00lqFsA3sra2NiUlBZ/q9vX13bBhA/uWmNrTU5pCo9GoVqvx7KK7u3tSUpJWqzX/k+bmZoVC4eTkNGvWLDN/rD//+c/AaQR20+YyJiYGAPr378/hjXQgYdm7Szg3N3fJkiWXL18GgOnTp//jH/+gppTMIBaLlUrljBkzBg4ciHfbdQre+t3Q0GCnkTZjGhcKPzmbN2/mPByoQ+wEtF1YGo3mL3/5y+bNm9va2oKCgv7+978vWLDAqhLwwosZYeHNLRwKyxQ8+2DGWhawIQAaV9gorCNHjixbtqysrEwkEiUmJm7cuNHO8+CdRtXilbCwx8LnEAldYk5YGo3m0qVLMTEx1FA/Ozvb09NzzZo1OAp5ZGTkzp07aYmQ2WlULSIsx8WcsHCw2vr6euqYW3x8/NKlS+vr6318fDZs2LBs2TLTLe320GlULV4Jiw9NoQNhdVMoEAjUarWXlxe1dZ05iLAcF1v6WKbrKnTR6UiHV8IiTaFVdC0sM8FqacHMSAcLq7GxkfZKbYB4LKvoWlhWZVChF1dXV1dXV61W29ra2mWODaYhHssquhaWVRlUaMfHx6empqahoYFzYfn6+opEooaGBr1ez6usLfyE1eC2NsCfbpZAIPD390cI1dfXc22LA9C1sLhdQMDzrnwQFpBuljWYawr5sIDAH48FpJtlDaQptALisSyHCMsKsMciwrIEIiwrwB6LNIWWQIRlBaSPZTlEWFYwYMCA8PDwjgfaCB3hS5zZZ8ErYc2aNWvWrFlcW+EYOIbH4ny5sMs86oR2OIawOPdYXeZRJ7SDCIvACHwXFq+WdAiWQzrvVsD01rTuBBGWFXC4Nc3h4LuwxGKxs7Nza2urVqvlMEcXhtutaY4F3/tY8KSbxfmMA8EqHEBY/GkNHeJsO0/ge1MI/BAWH7amORbEYxEYgQiLwAgOICytVgsAZ86caWlp4doWgqUIEA8SUnZKY2Pjt99+u2PHjtzcXC8vr6amJjc3t4kTJ0qlUqlUGhERgbvSnUYuCQoKwilDCJzBYdC3Z3H58uX4+HgqzHVAQACOt25Kv379Fi1alJaWhlMDO0SQux4Fj4TV2NiYnJw8ZswYLB0qzLVOp6uqqho2bBgABAcHv/POO1S0WQDYvHkzERYP4cV0w61bt5KTk3ft2oX3pfj5+cnl8sTERCojjUQiOXny5OTJkwsLC/38/K5fv15aWnrixImTJ0+OHz+eU9sJz4BDUbe0tOC0JZQxOCcAzqXTkZ9//hlLbfz48VTWMQcKfd6j4EZYt2/fVigUVPYHHx+fhIQES3KPl5WV4ZQkEyZMwDkpHCj0eY+CKWF1mvO3qKioXWYl7KK6zNRlyr1793CY+KioqMbGRgeKUN2jYKqP1WmYyWHDhh04cAC7KLlcvnjxYippluX069cvIyNj0qRJTU1Nra2tNNtNoAlWO++RkZHV1dULFy6cPXs2zthuG8HBwWfPnvXy8hKLxTjtNOUCs7Oz9Xo9PeYS7IBVYXl6emZmZtJSFG4N8/Ly3n///fr6emr/XXx8/IoVKz744ANaaiHYDLPCInt5eyzMCovs5e2xMCssdvbyEr/IQ3gx824nxC/yEGaFxc5eXnLGgYcwJSyyl7eH4wAb/bqEnHHgIfzd6EdwaLqDxyLwECIsAiMQYREYgQiLwAhEWARGIMIiMAIRFoERiLAIjECERWAEIiwCIxBhERiBCIvACERYBEYgwiIwAhEWgRGIsAiMQIRFYAQiLAIjEGERGOH/AQ9BYlF4IPSAAAAAAElFTkSuQmCC\" alt=\"Mol\"/></td>\n",
       "      <td>[1]</td>\n",
       "      <td>{0: 18.3, 1: 41.8, 2: 33.5, 3: 42.2, 4: 42.0, ...</td>\n",
       "    </tr>\n",
       "  </tbody>\n",
       "</table>\n",
       "</div>"
      ],
      "text/plain": [
       "   molecule_id                                              rdmol spectra_ids  \\\n",
       "0         4001  <img data-content=\"rdkit/molecule\" src=\"data:i...         [1]   \n",
       "\n",
       "                                               value  \n",
       "0  {0: 18.3, 1: 41.8, 2: 33.5, 3: 42.2, 4: 42.0, ...  "
      ]
     },
     "execution_count": 347,
     "metadata": {},
     "output_type": "execute_result"
    }
   ],
   "source": [
    "seok_train_df.head(1)"
   ]
  },
  {
   "cell_type": "code",
   "execution_count": 348,
   "metadata": {},
   "outputs": [],
   "source": [
    "valuestr = [str(i) for i in seok_train_df['value'].tolist()]"
   ]
  },
  {
   "cell_type": "code",
   "execution_count": 349,
   "metadata": {},
   "outputs": [],
   "source": [
    "seok_train_df['value_str'] = valuestr"
   ]
  },
  {
   "cell_type": "code",
   "execution_count": 350,
   "metadata": {},
   "outputs": [
    {
     "data": {
      "text/html": [
       "<div>\n",
       "<style scoped>\n",
       "    .dataframe tbody tr th:only-of-type {\n",
       "        vertical-align: middle;\n",
       "    }\n",
       "\n",
       "    .dataframe tbody tr th {\n",
       "        vertical-align: top;\n",
       "    }\n",
       "\n",
       "    .dataframe thead th {\n",
       "        text-align: right;\n",
       "    }\n",
       "</style>\n",
       "<table border=\"1\" class=\"dataframe\">\n",
       "  <thead>\n",
       "    <tr style=\"text-align: right;\">\n",
       "      <th></th>\n",
       "      <th>molecule_id</th>\n",
       "      <th>rdmol</th>\n",
       "      <th>spectra_ids</th>\n",
       "      <th>value</th>\n",
       "      <th>value_str</th>\n",
       "    </tr>\n",
       "  </thead>\n",
       "  <tbody>\n",
       "    <tr>\n",
       "      <th>0</th>\n",
       "      <td>4001</td>\n",
       "      <td><img data-content=\"rdkit/molecule\" src=\"data:image/png;base64,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\" alt=\"Mol\"/></td>\n",
       "      <td>[1]</td>\n",
       "      <td>{0: 18.3, 1: 41.8, 2: 33.5, 3: 42.2, 4: 42.0, ...</td>\n",
       "      <td>{0: 18.3, 1: 41.8, 2: 33.5, 3: 42.2, 4: 42.0, ...</td>\n",
       "    </tr>\n",
       "  </tbody>\n",
       "</table>\n",
       "</div>"
      ],
      "text/plain": [
       "   molecule_id                                              rdmol spectra_ids  \\\n",
       "0         4001  <img data-content=\"rdkit/molecule\" src=\"data:i...         [1]   \n",
       "\n",
       "                                               value  \\\n",
       "0  {0: 18.3, 1: 41.8, 2: 33.5, 3: 42.2, 4: 42.0, ...   \n",
       "\n",
       "                                           value_str  \n",
       "0  {0: 18.3, 1: 41.8, 2: 33.5, 3: 42.2, 4: 42.0, ...  "
      ]
     },
     "execution_count": 350,
     "metadata": {},
     "output_type": "execute_result"
    }
   ],
   "source": [
    "seok_train_df.head(1)"
   ]
  },
  {
   "cell_type": "code",
   "execution_count": 351,
   "metadata": {},
   "outputs": [],
   "source": [
    "merged_df = seok_train_df.merge(df_final, how = 'inner', left_on='value_str', right_on='target1_str')"
   ]
  },
  {
   "cell_type": "code",
   "execution_count": 352,
   "metadata": {},
   "outputs": [
    {
     "data": {
      "text/html": [
       "<div>\n",
       "<style scoped>\n",
       "    .dataframe tbody tr th:only-of-type {\n",
       "        vertical-align: middle;\n",
       "    }\n",
       "\n",
       "    .dataframe tbody tr th {\n",
       "        vertical-align: top;\n",
       "    }\n",
       "\n",
       "    .dataframe thead th {\n",
       "        text-align: right;\n",
       "    }\n",
       "</style>\n",
       "<table border=\"1\" class=\"dataframe\">\n",
       "  <thead>\n",
       "    <tr style=\"text-align: right;\">\n",
       "      <th></th>\n",
       "      <th>Solvent1</th>\n",
       "      <th>molecule_id</th>\n",
       "      <th>rdmol</th>\n",
       "      <th>spectra_ids</th>\n",
       "      <th>value</th>\n",
       "      <th>value_str</th>\n",
       "      <th>nmrshiftdb2 ID</th>\n",
       "      <th>SMILES</th>\n",
       "      <th>Temp1</th>\n",
       "      <th>Molecule</th>\n",
       "      <th>target1</th>\n",
       "      <th>target1_str</th>\n",
       "    </tr>\n",
       "  </thead>\n",
       "  <tbody>\n",
       "    <tr>\n",
       "      <th>0</th>\n",
       "      <td>Unreported</td>\n",
       "      <td>18404</td>\n",
       "      <td>18404</td>\n",
       "      <td>18404</td>\n",
       "      <td>18404</td>\n",
       "      <td>18404</td>\n",
       "      <td>18404</td>\n",
       "      <td>18404</td>\n",
       "      <td>18404</td>\n",
       "      <td>18404</td>\n",
       "      <td>18404</td>\n",
       "      <td>18404</td>\n",
       "    </tr>\n",
       "    <tr>\n",
       "      <th>1</th>\n",
       "      <td>Chloroform-D1 (CDCl3)</td>\n",
       "      <td>1179</td>\n",
       "      <td>1179</td>\n",
       "      <td>1179</td>\n",
       "      <td>1179</td>\n",
       "      <td>1179</td>\n",
       "      <td>1179</td>\n",
       "      <td>1179</td>\n",
       "      <td>1179</td>\n",
       "      <td>1179</td>\n",
       "      <td>1179</td>\n",
       "      <td>1179</td>\n",
       "    </tr>\n",
       "    <tr>\n",
       "      <th>2</th>\n",
       "      <td>Dimethylsulphoxide-D6 (DMSO-D6, C2D6SO)</td>\n",
       "      <td>241</td>\n",
       "      <td>241</td>\n",
       "      <td>241</td>\n",
       "      <td>241</td>\n",
       "      <td>241</td>\n",
       "      <td>241</td>\n",
       "      <td>241</td>\n",
       "      <td>241</td>\n",
       "      <td>241</td>\n",
       "      <td>241</td>\n",
       "      <td>241</td>\n",
       "    </tr>\n",
       "    <tr>\n",
       "      <th>3</th>\n",
       "      <td>Methanol-D4 (CD3OD)</td>\n",
       "      <td>146</td>\n",
       "      <td>146</td>\n",
       "      <td>146</td>\n",
       "      <td>146</td>\n",
       "      <td>146</td>\n",
       "      <td>146</td>\n",
       "      <td>146</td>\n",
       "      <td>146</td>\n",
       "      <td>146</td>\n",
       "      <td>146</td>\n",
       "      <td>146</td>\n",
       "    </tr>\n",
       "    <tr>\n",
       "      <th>4</th>\n",
       "      <td>Acetone-D6 ((CD3)2CO)</td>\n",
       "      <td>88</td>\n",
       "      <td>88</td>\n",
       "      <td>88</td>\n",
       "      <td>88</td>\n",
       "      <td>88</td>\n",
       "      <td>88</td>\n",
       "      <td>88</td>\n",
       "      <td>88</td>\n",
       "      <td>88</td>\n",
       "      <td>88</td>\n",
       "      <td>88</td>\n",
       "    </tr>\n",
       "  </tbody>\n",
       "</table>\n",
       "</div>"
      ],
      "text/plain": [
       "                                  Solvent1  molecule_id  rdmol  spectra_ids  \\\n",
       "0                               Unreported        18404  18404        18404   \n",
       "1                    Chloroform-D1 (CDCl3)         1179   1179         1179   \n",
       "2  Dimethylsulphoxide-D6 (DMSO-D6, C2D6SO)          241    241          241   \n",
       "3                      Methanol-D4 (CD3OD)          146    146          146   \n",
       "4                    Acetone-D6 ((CD3)2CO)           88     88           88   \n",
       "\n",
       "   value  value_str  nmrshiftdb2 ID  SMILES  Temp1  Molecule  target1  \\\n",
       "0  18404      18404           18404   18404  18404     18404    18404   \n",
       "1   1179       1179            1179    1179   1179      1179     1179   \n",
       "2    241        241             241     241    241       241      241   \n",
       "3    146        146             146     146    146       146      146   \n",
       "4     88         88              88      88     88        88       88   \n",
       "\n",
       "   target1_str  \n",
       "0        18404  \n",
       "1         1179  \n",
       "2          241  \n",
       "3          146  \n",
       "4           88  "
      ]
     },
     "execution_count": 352,
     "metadata": {},
     "output_type": "execute_result"
    }
   ],
   "source": [
    "merged_df.groupby('Solvent1').count().sort_values(by=['nmrshiftdb2 ID'], ascending = False).head().reset_index()"
   ]
  },
  {
   "cell_type": "code",
   "execution_count": 353,
   "metadata": {},
   "outputs": [
    {
     "data": {
      "text/plain": [
       "20301"
      ]
     },
     "execution_count": 353,
     "metadata": {},
     "output_type": "execute_result"
    }
   ],
   "source": [
    "len(merged_df)"
   ]
  },
  {
   "cell_type": "code",
   "execution_count": 355,
   "metadata": {},
   "outputs": [],
   "source": [
    "merged_df_final = merged_df[['molecule_id', 'rdmol', 'Solvent1', 'Temp1', 'value']]"
   ]
  },
  {
   "cell_type": "code",
   "execution_count": 356,
   "metadata": {},
   "outputs": [
    {
     "data": {
      "text/html": [
       "<div>\n",
       "<style scoped>\n",
       "    .dataframe tbody tr th:only-of-type {\n",
       "        vertical-align: middle;\n",
       "    }\n",
       "\n",
       "    .dataframe tbody tr th {\n",
       "        vertical-align: top;\n",
       "    }\n",
       "\n",
       "    .dataframe thead th {\n",
       "        text-align: right;\n",
       "    }\n",
       "</style>\n",
       "<table border=\"1\" class=\"dataframe\">\n",
       "  <thead>\n",
       "    <tr style=\"text-align: right;\">\n",
       "      <th></th>\n",
       "      <th>molecule_id</th>\n",
       "      <th>rdmol</th>\n",
       "      <th>Solvent1</th>\n",
       "      <th>Temp1</th>\n",
       "      <th>value</th>\n",
       "    </tr>\n",
       "  </thead>\n",
       "  <tbody>\n",
       "    <tr>\n",
       "      <th>0</th>\n",
       "      <td>4001</td>\n",
       "      <td><img data-content=\"rdkit/molecule\" src=\"data:image/png;base64,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\" alt=\"Mol\"/></td>\n",
       "      <td>Chloroform-D1 (CDCl3)</td>\n",
       "      <td>298</td>\n",
       "      <td>{0: 18.3, 1: 41.8, 2: 33.5, 3: 42.2, 4: 42.0, ...</td>\n",
       "    </tr>\n",
       "  </tbody>\n",
       "</table>\n",
       "</div>"
      ],
      "text/plain": [
       "   molecule_id                                              rdmol  \\\n",
       "0         4001  <img data-content=\"rdkit/molecule\" src=\"data:i...   \n",
       "\n",
       "                Solvent1 Temp1  \\\n",
       "0  Chloroform-D1 (CDCl3)   298   \n",
       "\n",
       "                                               value  \n",
       "0  {0: 18.3, 1: 41.8, 2: 33.5, 3: 42.2, 4: 42.0, ...  "
      ]
     },
     "execution_count": 356,
     "metadata": {},
     "output_type": "execute_result"
    }
   ],
   "source": [
    "merged_df_final.head(1)"
   ]
  },
  {
   "cell_type": "code",
   "execution_count": 252,
   "metadata": {},
   "outputs": [],
   "source": [
    "g = merged_df_final.groupby('SMILES').count().sort_values(by=['molecule_id'], ascending = False).reset_index()"
   ]
  },
  {
   "cell_type": "code",
   "execution_count": 253,
   "metadata": {},
   "outputs": [
    {
     "data": {
      "text/html": [
       "<div>\n",
       "<style scoped>\n",
       "    .dataframe tbody tr th:only-of-type {\n",
       "        vertical-align: middle;\n",
       "    }\n",
       "\n",
       "    .dataframe tbody tr th {\n",
       "        vertical-align: top;\n",
       "    }\n",
       "\n",
       "    .dataframe thead th {\n",
       "        text-align: right;\n",
       "    }\n",
       "</style>\n",
       "<table border=\"1\" class=\"dataframe\">\n",
       "  <thead>\n",
       "    <tr style=\"text-align: right;\">\n",
       "      <th></th>\n",
       "      <th>molecule_id_x</th>\n",
       "      <th>rdmol_x</th>\n",
       "      <th>Solvent1_x</th>\n",
       "      <th>Temp1_x</th>\n",
       "      <th>value_x</th>\n",
       "      <th>SMILES</th>\n",
       "      <th>molecule_id_y</th>\n",
       "      <th>rdmol_y</th>\n",
       "      <th>Solvent1_y</th>\n",
       "      <th>Temp1_y</th>\n",
       "      <th>value_y</th>\n",
       "    </tr>\n",
       "  </thead>\n",
       "  <tbody>\n",
       "    <tr>\n",
       "      <th>0</th>\n",
       "      <td>4028</td>\n",
       "      <td><img data-content=\"rdkit/molecule\" src=\"data:image/png;base64,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\" alt=\"Mol\"/></td>\n",
       "      <td>Methanol-D4/D2O (CD3OD/D4)</td>\n",
       "      <td>298</td>\n",
       "      <td>{0: 156.4, 1: 96.4, 2: 155.1, 3: 134.7, 4: 155...</td>\n",
       "      <td>[C]Oc1[c]c(O[C@]2O[C@]([C][O])[C@@]([O])[C@]([...</td>\n",
       "      <td>2</td>\n",
       "      <td>2</td>\n",
       "      <td>2</td>\n",
       "      <td>2</td>\n",
       "      <td>2</td>\n",
       "    </tr>\n",
       "    <tr>\n",
       "      <th>1</th>\n",
       "      <td>6367</td>\n",
       "      <td><img data-content=\"rdkit/molecule\" src=\"data:image/png;base64,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\" alt=\"Mol\"/></td>\n",
       "      <td>Unreported</td>\n",
       "      <td>Unreported</td>\n",
       "      <td>{0: 132.5, 1: 153.3, 2: 94.4, 3: 154.0, 4: 94....</td>\n",
       "      <td>[C]Oc1[c]c(O[C@]2O[C@]([C][O])[C@@]([O])[C@]([...</td>\n",
       "      <td>2</td>\n",
       "      <td>2</td>\n",
       "      <td>2</td>\n",
       "      <td>2</td>\n",
       "      <td>2</td>\n",
       "    </tr>\n",
       "    <tr>\n",
       "      <th>2</th>\n",
       "      <td>4045</td>\n",
       "      <td><img data-content=\"rdkit/molecule\" src=\"data:image/png;base64,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\" alt=\"Mol\"/></td>\n",
       "      <td>Acetone-D6 ((CD3)2CO)</td>\n",
       "      <td>298</td>\n",
       "      <td>{0: 142.1, 1: 129.1, 2: 128.6, 3: 128.4, 4: 12...</td>\n",
       "      <td>[O]C1=[C]c2[c]oc(=O)c3[c][c]c(-c4[c][c][c][c][...</td>\n",
       "      <td>2</td>\n",
       "      <td>2</td>\n",
       "      <td>2</td>\n",
       "      <td>2</td>\n",
       "      <td>2</td>\n",
       "    </tr>\n",
       "    <tr>\n",
       "      <th>3</th>\n",
       "      <td>4045</td>\n",
       "      <td><img data-content=\"rdkit/molecule\" src=\"data:image/png;base64,iVBORw0KGgoAAAANSUhEUgAAAMgAAADICAIAAAAiOjnJAAAABmJLR0QA/wD/AP+gvaeTAAAc20lEQVR4nO2de1iTR/bHT8JNLloCSLl7Q7xBqyBii/rr1qgtoHVtI127UZe1qbVtdKuP0a6IRdtm1frgtrZGH3VxvYZWWyyuGmqtsvVSBAtYbLlYQUUFBJEAISTz+2Pat1kSYgjvvAlhPn/wJHEyZ2K+eefMvOec4SGEgEJhG76tB0BxTKiwKESgwqIQgQqLQgQqLAoRqLAoRKDCohCBCotCBCosChGosChEoMKiEIEKi0IEKiwKEaiwKESgwqIQgQqLQgQqLAoRqLAoRKDCohCBCotCBCosChGosChEoMKiEIEKi0IEKiwKEaiwKESgwqIQgQqLQgQqLAoRqLAoRKDCohCBCotCBCosChGICCsnJ2fSpEnM0+nTp2dlZZEwRLFbuLhi0WqUfRBnQv2q1eorV67gx01NTYSsUOwWUsKqrKxctmwZflxWVkbICsVuITUVRkVFnfmNmJgYQlYeCfX2bEXfWhVSb48zSE2FDB0dHfX19dXV1aQNdQX19mwCEWElJiYmJibix//4xz8KCwujo6NJGLIE6u3ZBOJT4UsvvQQAn3/+uUajIW3LJHbi7fU1iAtrxIgRY8eObWxsPHXqFGlbFPuBC+c9OTkZAA4fPsyBra6oq6vLzMy8f/8+j8cjaoiuQzFcCGvevHk8Hu+LL75Qq9UcmDMkMTExLy8PAI4cObJw4cJBgwbhqZkz+uw6lAthhYWFxcXFqdXq48ePc2DOJAkJCTweT6VSceDq4XUops+uQznax3r55ZcB4NChQ9yYMyYkJCQqKqq5uRlfwIiC16GYPrsO5UhYycnJTk5Ox48ff/DgATcWjUlISACA//znP6QN0XUocCasgICAKVOmtLW1ffnll9xYNOb5558HABtOx30KjoRVV1fXv39/AEhNTd29e3dLSws3dg2Jj4/38fEpLS2tqKjg0m5HRweX5uwFRJjS0lKJROLu7g4ALi4u2Ki3t7dUKv3xxx9JW+/E3LlzAeDjjz/mxtz9+/cXLFgQFxen0+m4sWg/EBTWuXPnRCKRk5MTAPB4PKFQ+Pnnnx8+fFgoFDKyjomJUSgULS0t5IZhyJ49ewAgMTGRG3NqtXrQoEEAoFAouLFoPxAQVlsb2rPns+RkLB0PD4/Fixdfu3bNsElpaalMJhMIBLiNQCCQSqUVFRXsD+Z/uXv3Lp/P79ev38OHD0nbwiiVyhmxsWXR0ejePW4s2gmsCquxEWVkoJAQBKANDQ0NCkpLS6utre2qeVNTk0KhGDduHJYXn88XCoVKpVKr1bI5KoQQQpWVlRkZGfHx8QAQGho6fPjwzMzMjo4O1g2Z4PnnEQBKSeHClt1glbDa2lBBAbpx4/dXSkvRa68hd3cEgADQ2LEoM7Ojrc3C/vLz8yUSiYeHB1ZYYGCgTCa7Ydi/tRQXF69bty4qKoqZfAcMGPD444/jx6NGjTpw4ABxB+jnn5GvL9q0iawVO6P7wtq9G7m5oWHDkIcHiopCZWVo9WrE4yEAxOejpCT09dfWDaWxsVGhUERGRuJv3cnJSSgUZmdn6/X67nZVUlKSlpY2atQoRk8CgUAsFiuVyubm5vb29szMzPDwcEZexK9eajVCpn6Qjks3hVVVhZyc0IkTSK9H9++j+fPRH/+Ijh5Fbm5ILEZXr1rSx4YNG8xPefn5+WKxmFlChoeHy+Xyexb4KFhPERERjJ58fHzEYnF2drZGo+nUuJO8Ro8eTVZexj9Ih6abwtq+HU2e/PvTkhLk5YVaW1FdnYUd6PV65rscPHjw+++/f+fOHZMta2pq5HL54MGDcWM3NzeRSKRSqTo10+l0586dk8lkTLcA4Ofnh/XU3t5ufjwcycvkD9Kh6aawFixAa9f+/lSvRx4e3f3xNTQ0KBSK0aNH4+/S1dUVK8bklKfT6VQqlUgkcnb+Ndh15MiRcrm8trb23LlzUqk0KCiI0VNoaKhUKlWpVN11/4nLy+QP0ugi6kh0U1grViDDTaCCAjR4sHWGGcUwU15ERIRcLq/r4uJ3/fr11atXM353QEAAo6dhw4bJZLJLly5Z7o3V1tYa++xYXsOGDWNTXtXV6OBBVn6QvYtuCuv775G7O8rKQlot0uvRggVIKu3hCG7fvi2Xy/FGopkpD6PRaA4dOjR+/Pj+/fv369dPKpWeO3fOCu9+xowZXfnsneQ1ZswYa+TV0IAyM1FSEnJ2Rnw+WryYrR9kb8ECYXVayygUyNMTBQSgwECUkIDu30cWbyuYgbmA4Z16fMHIyMgwuZPZ3NyM7zx22ne1kPv37w8ZMoSxcujQoUdevSyVV0sLUirRCy8gN7dfd17c3dHcuejIEdZ/kHbOo4Rlci1z9y4qLUUNDQghdPo0Cg1Fx4+zNaDy8nKZTDZw4ED8jfbv318ikVy5cqVTs4ULFwLAWsP5pTtY6FThZkOHDjWUl7EK8QJCIpEsi4v7VU98PoqPRwoFevDg10bGP0iHxqywulrLDB+OAgORSIQUCiSTIQAUFIS63mG3gra2tn379jHB46NGjerU4PTp0wAwaNCgnmxvWigvjUZjKK/IyEhGXhcvXly6dCnj8PF5vJaEBLR1KzK51NVqf/9BOjpmhWVyLXPnDho48NffJUD74MHRXl4rAbISEkjcSy4uLn7jjTd27tzZ6XW9Xo+nszNnzvTQhIU+e1tb27Zt20JDQ3GzoUOHMvMpXqump6eXl5f3cDAOg1lhdbWW0elQQQHauBFNn35l6lTmP9fFxYWziBSE0Jo1awAghaV7cBY6VRqNRqFQBAcH422OoKAgvIBgZQyOhFlhmdxcSE1Fq1ah3FzU2ooQ0mq1+fn5r7zyCv4+tm/fTnjAv1NWVsbj8by8vFgMVbBQXi0tLXj6u3DhAlumHQyzwjK5ueDvz6x39DNmbNm0qaCgQKfTicViJyen8ePHf/vtt1wNHj311FMAsG/fPna7NSmvTs4cTttfvnw5u6YdhketCjutZerq0KlTaOVKFB2N+PzmMWPwf/3AgQPnzJmDU/Z4PF5KSkpX+5zssn37dgCYNm0aic4Nl4TDhw/vtJt//vx5AAgJCemD0aGWYME+VldrmdrasqNHFy1axNzOW7t2rVwu79evHwAIBAKFQmHF1mW3aGxsdHd35/P5VVVVhExgn/3LL7/s9Lper8cfPC8vj5DpXg07gX5lZWWffPIJjmEvLy+fMWMGltqUKVNIB7aLRCIAkMvlRK2YZOXKlQDw1ltvcW/a/iEV865UKv39/fFSUSaTtba2EjL01Vdfmdzo4oDLly8DQEBAAEeRqL0KgskUDQ0NUqmUz+cDQHh4+KlTp0hY0Wq1eIF26dIlEv2bZ/jw4QBw+vRp7k3bOQTzCr29vbdu3Xr27NkxY8aUl5dPnz597ty5tbW17FpxdnaeN28eAOzdu5fdni0B55PZtpCOncKBeNvb2zMyMjw9PQFAIBBkZGSwtZKqqakpLy8vLi4GAB8fnzY2bod3i6KiIgDw8/MjkQDSq+FCWJiKiornnnsOq3ny5MlXLYtjNubhw4cqlUomk8XExPB4vHnz5iGEnnzySQA4cuQIq0O2iDFjxgDAyZMnuTdtz3AnLEx2dnZwcDB006lXq9UnT56UyWSxsbFMXA0AeHl5LViwACH04YcfAsDs2bPJjt4U7777LrB3Z8lh4FpY6H+d+mHDhnX1W+/o6MjPz5fL5UKhEO+NYZydnWNiYmQymUqlwnNfS0uLUqnk8/nOzs65ubncfhp07do1APD29uZ+IrZnbCAsTH5+PlPiRyQS3b17t1MD7L5gnJycYmJipFKpUql88OAB6kJ2gYGBACAUCo3jt4iCJ+Jjx45xadTOsZmwEEJarTYjI8PLywv/4js59Xq9fvLkyW+99dbRo0cbGhoQQjqdrqCgYPPmzQkJCfhdGD6fHxMT87e//S0lJQVnvTo5Oc2fP7+yspKbD/L+++8DwJ///GduzPUKbCksTGVlJa5cBQCTJk0qKSnp1KCiokKhUIhEIl9fX8P17NChQyUSiVKprK+vZxrfu3dPJpPha5iLi4tEIrl58ybpj1BRUcHj8fr379/S0tLY2Gh89e2D2F5YmOzs7JCQEKwGXCBEqVRKJBImyYKZ7EQikUKhMJ+Af+PGDYlEgjPGXF1dJRJJV9mLbBEbG4uXpWvXrvX09JRKpbdv3yZq0c6xF2EhhBoaGl5//XXs1OO/GH9//5dffnnHjh3djc8sLS0Vi8W4Ky8vL5lM1kAsLHjz5s0AkJycPH/+fFzx29PTc8WKFX326mVHwsKcP38eB0JNnDgxIyOjqKiohyESxcXF+EY13kSVy+VqXEmBPTQazc6dO/H2r0ajKSoqEolEjLz65tXL7oSFEFq7di0ALFmyhMU+z58//+yzz2J5DRw4UC6Xs3JfPD8/XyqVMjlFhw8fZv7JUF4eHh59TV72KKzvv/8eAIKDg1kP5zp37tzkyZOxCMLCwhQKhXW3YkpKSlavXm3o/z355JNyubympqZTS0N5lf3hD0gqRX1DXvYoLL1ejx35y5cvk+hfpVKNHTsWC2LkyJEmUwVNcvPmTaZ6GyYkJEQqlV6+fLmxsTE4OLiry1JBQcE7CxYgZ2cEgDw80PLlyNF9L3sUFkJo8eLFAJCWlkaof51Op1QqcdALAERGRiqVyq4aNzY2ZmZmJiUlMYVJvL29xWKxYSGTffv2PdpnLypCItGvtcQ8PBz76mWnwsrJyQGA6OhoolZwVDuTHjhx4sSvDarGtbW1ZWdni8ViHJcBAG5ubklJSUql0rjaFrLcqeob8rJTYbW1tfXv35/H45ELZmfAqYJMNrNQKNyxY8err77K1N7l8/lTp07dvXt3Y2PjI3uzVF6FhWj27F/l5emJqqvZ/2A2xU6FhRCaM2cOAGzbto0bc83NzXK53NvbG++cYUmNHj06LS3t+vXr3e2toKBg9uzZWF5/HD0aLV9uOukeX72ef77n47c37FdYuCb7c889x6XR+vp6XIZ+3LhxVkeMMRQWFs6ePft6fPwjZj08sTpWhVL7FVZdXZ2Tk5Obm1tTUxOXdnGKRGhoKGs9Fhf/7lS5uSGJBN261bmNw1UotV9hIYRwtZmsrCwujer1ehx+w3Limhl5OWKFUo4OabKOmTNnAsCxY8c4sKXRaA4cOLB69Woejzdt2jRg/QC6yEhQKqGgAGbPhvZ22LEDhg+HXbsAAI4fh6efhhkzgMcDgQBWrgSVCtrb2bTOPbZWtjlKS0sBwMfHh4NUBY1Gg6sEVlVVHThwAACmT59OylhxMRKLEZ+PcJkaR6xQatfCQgjhou3cFBp54YUXAGDXrl319fXYvSN75A4jHfZKBtsPdj0VAsCsWbOgi9kwNTUVO9psgZOITpw44ePjM378eI1G8+2337LYf2eYwvTJyXD6NHz2GXR0AEKwdSvMmkXQLjfYWtmPAH+14eHhnV7HpSJ5PJ5IJGLr2LDr168DgLe3t1arTUtLA4A333yTlZ4fjcNVKLV3YXV0dPj5+QFAaWmp4esPHz5MS0vD52u6urpKpVJWgvhGjhwJAHl5ebhK0ZAhQ3rep6U4VoVSexfWDz/8EB0dDQAvvvii8fkl1dXVEokEZxriIL4e5mDhcmpr1qzR6XQ4yqqslzvRtsIehaVWq1UqlVQqDQsLw/M1LvgZERGhVCqNg7Ty8/OZIL6wsLDMzEyrA7lOnDgBADExMQihP/3pTwDw0Ucf9fTz9ElsIKyvvvoqPj6eeTpt2jQcsvLjjz9u3rx56tSprq6ujAsYGBiYkpKSmpqKJykAmDRp0vnz5427ValUTzzxBG4TGxtr3UKytbXVw8ODx+PduXPnX//6F3B4zq+DYXthCYXC/fv3G57d5eTkFB8f/9577xUUFDDXHq1WaxiDkJSUZDxJ6XS6zMxMvG8OAEKh0DiZ7JHgXLS9e/fW1NTweDx3d3fOjqx2JGwjrLFjxxb+xoQJE5RKZXx8vJ+fH07tMg7wZcAxCHgnE6cNGofUqdVquVw+YMAApk23cr+2bt0KALjWCHbvCFX2cmxsI6wBAwb8328IBAKlUnn37l3LaxvdvHmT8dkFAoHJzIja2lqpVIpjPr28vNLS0iy88Pz8888A4Ofnp9Pp3nnnHQB4++23u/cJKXYyFZoJCzbD1atXk5KS8KwXGhqqUCiMpVlSUpKQkIDbiMViC3vG+WcXL148e/Ys2KgOZW+nFwsLY5gZERMTY7Jq49dffx0bG1tUVGRhnzt27Pj000/v3bun1Wpx6N8vv/xi9Qj7JnYhrB4GxuDMCKYquFAo/OGHH3o8TKTRaM6cOYNPLBeLxeQq2Ha1TO7V2OM+lnVgn/2xxx4DAD6fLxaLrUsQZWqQ4K4AAOeijRo1Kicnh/VhI7Yv4XaC4wgLU1dXJ5PJ8E6Yp6enTCazJAC1urp6z549r7zyCnM0ML4RGRUV9fbbb69bt465HCYmJna6udRzTC6T2TXBPY4mLMxPP/3EpMoEBQUpFArjiay5udmwlimjp4CAALzrUW2QOaPRaDIyMvA1zNnZ2eQ2h9WYXCaz1bmtcExhYc6fP89kLY8aNUqpVOKzynAdQMP9fU9PT6FQKJfL8/PzzdwOqqur67SFwUoBCDoV9j70ev3BgweZlFTDWqaurq5TpkxJT0//7rvvuhWhWlpaypSv6eGtSQwVVm+lvb0d3w7i8/nBwcG4DqAl2admMLw1GRcX99///tfqroyFZfl2rt3SJ4SFef311wEgPT2drQ7xrUl8+xKHHFqR2mrMG2+8AQAffvhhz7uyIX1IWNnZ2QDw1FNPsdttc3NzWloanmTd3d1lMtkD5uR6q8B1K/z8/MhG3BOmDwmrubm5X79+Tk5OJA7prK6uFovFeHXp5+eXkZHRkw3ViRMnAsDGjRtZHCHH9CFhIYRwwuD+/fsJ9X/p0iWcZNvDDVUcb+jn58dxFjiL9C1hbdmyBcgXZM/OzsYH/uL7S8XFxVZ0MmXKFAD44IMPWB8eN/QtYeHjSXBIDFFDPd9Qzc3NBQBfX98eemy2gocQgr5EeHh4RUXFxYsXJ0yYQNpWfX19enr6J5980tHR4e3tvWrVqqVLlzJ7aXq9vt6I2trauro6/LigoKC1tTUhIWHPnj1M/dxeg62VzTV4MU+uCKUxJSUlzCHZQ4YMiYuLi4iI6HTKRlfg+9+PPfbYpk2bTJYRtFv63BXr+PHjiYmJcXFxFy5c4NJubm7u0qVLHzx4cOvWLfwKj8fz8vIKCgry9fX19fX18/PDf/EDjFqt3rRpU1ZWFgCEhYWtX79+/vz5XA7bemytbK5Rq9X79++vra3l3vTDhw/xbuq2bdvu3LmDS+uew3VBzJKbm8vs8j/zzDOFhYUcjLaH9Dlh2RacqREZGanT6fA5CZMnT7bkjXiXH9ewxNFmZlJO7IE+JyzbhmtqNBoc2nX48OHGxkYfHx8AMCzVbJ6GhgaZTObm5gYAnp6ebIVXkMDeq82QBnHrYrq6uq5evRoAUlNTPT09ly9fjh9b+HZvb2+5XF5SUiISidRq9bvvvhsREbF3716OP4VF2FrZXGPzcM329nacBbR3797m5mY8ux0/fryr9llZWYcPHzaOzDl9+jQ+2RUA4uLivvvuO8ID7x59UVg2D9fEyfuDBw/WaDT4PLqYmBiTQV1NTU04sXvChAnG0sGOFw6nxuEV5o9x5JK+KCybR9V1dHTg5J+dO3e2trYGBwcDwNGjR41bGkfmGEvHMLwCO172EMtFhWWbcM2DBw8CQFhYWFtb20cffQS/LRVNNjaUjoeHh0wmM46ouXHjhlgsxjNjSEhIz+NaewgVVk+zGq1Dr9djD+njjz/WaDQ4ePrQoUNm3lJVVcVE5gQHB5uUzjfffDNu3DgsrwkTJlgS10pomdznhGU/HDlyBAACAwPVajU+oNWSOs0XLlzA0VoAEBsbm5eX16mB8ezZKY27ubm5qqqqsLBQpVKpVCpCl3AqLFuCb4Rv3ry5vb199+7dFt4N1Ov1SqUSV6XrKiS6qalp1apVzOwZGxv7xBNPBAcHG6aTAMCIESMILZOpsGwJE4VsRUAfdrxwFVbseBl3gmdPvDhg8PDwCA0NHTt27NSpUyUSCaFlMhUWESx3XHBA33vvvWedIcOQ6ODgYJMld3DNyzlz5lRXVxsvGAlNhX19550bEEIA8Nlnn23cuHHFihULFy5MSkqKi4sbPHjwpUuXAGDXrl3//Oc/tVptd3sOCQnZu3fv2bNnY2Njb9269dprrzFlmxjS09OdnZ2PHTvW3t6Or3Bc0HNtUowx6bjExMSY/ApcXFzwgxEjRhw7dsw6i9jxGjRo0JYtW4z/deHChQCQkpJicqgklsl9Lh6LG3JycubNm8es/IuKinAxiJqamscff9zvN/z9/f39/b28vHJzc5ctW3b16lUAePbZZ7ds2cLcrukWarXa1dWVUSrDL7/8MmLECJ1Od/Xq1REjRvTw01lEz7VJMcYKxwWna+MQZBKBMYsWLQKA+fPns9inGaiPZS/gOrw//fSTTCZzcXH597//HR4evm7dutbWVlb6T01NdXV13b9/P84oIQ0VFkcYVkoyA67VW1xczHpgTFhYWEpKik6n27BhQw+7sghuLowUKzh9+jRTXjU2NtaSIGbzVFVVubm58fl8y8uxWg0Vll1jeCQC3mSvrKzsSYc4SSk5OZmtEXYFXRX2AnCuzsaNG1tbW11dXRcvXrx+/Xp8QsIj0Wq1OFexrq7u7t27lZWV69evb29vLywstG7haSmklUthC3zUGZ/PB7N1R3bt2jVr1qynn346IiKCqc9rCN4EefHFF4mOlgqrl2FYd2T06NHGMc0rVqwwlJGzs3NAQEBkZOQzzzyTnJz85ptv7tq1Cx9ERTSNjAqrV5Kdnc3Uv+x0FtWVK1e++OKLvLy8a9eu1dfXG7+3o6Nj8eLFADBz5kxyI6Q+Vm+lvb39008/Xbt2bVNTk4uLy1/+8pcNGzYMGDCgvr6+4Tdqampu377d6fG9e/d0Oh0AhISETJw4cePGjYxG2YScZikcUFNTs2jRInxeFXNuqHn4fL6/v/+wYcOYKoRr1qxhvXogvWI5AkVFRYsWLbpy5YpWqxUIBIGBgQKBQCAQBAUFMY+Zp/7+/rii+M2bN9955519+/YhhAIDA9etW/fXv/4Va5QF2NUpxVbU1tbiYxxNHj9rhkuXLjHV8KOjo8+cOcPKeKiwHIe///3vYFngfCdwyA1zrEtSUlJ5eXkPB0OF5Tg0NDQIBAIA+Oabb6x4e0tLi+HptVKptCel8KmwHIr09HQAMIzY6S63bt1iTq/19fXNyMjo1rEdDFRYDsXDhw9xMYiTJ0/2pJ/Lly/jYHwAGDlypBXln6mwHA1cDGLGjBk97yorK4vZ4tq6dWu38lqd2VlbUuyGJUuWdHR0LFmypOddvfTSSzNnzty6dWtRURGukMOAHrVLRYXlaOBjV9jqzc3NbeXKlQCQk5OjVquvXLmCX29qajL/RiosByQnJ+eDDz7Iy8vDT6dPn/7qq68yR+FZTWVl5bJly/DjsrIy842psByfR05bFhIVFXXmzBn8GB8eYwYqLMekW9MWCaiwHJNuTVvWYT49hArLMenWtGUJiYmJiYmJzFOVSmW+PU3/ohCBCqtPYGFWI5sW2VoyUCiG0CsWhQhUWBQiUGFRiECFRSECFRaFCFRYFCJQYVGIQIVFIQIVFoUIVFgUIlBhUYhAhUUhAhUWhQhUWBQiUGFRiECFRSECFRaFCFRYFCJQYVGIQIVFIQIVFoUIVFgUIlBhUYhAhUUhAhUWhQhUWBQiUGFRiECFRSECFRaFCFRYFCJQYVGI8P8wb0is4+hGogAAAABJRU5ErkJggg==\" alt=\"Mol\"/></td>\n",
       "      <td>Acetone-D6 ((CD3)2CO)</td>\n",
       "      <td>298</td>\n",
       "      <td>{0: 142.1, 1: 129.1, 2: 128.6, 3: 128.4, 4: 12...</td>\n",
       "      <td>[O]C1=[C]c2[c]oc(=O)c3[c][c]c(-c4[c][c][c][c][...</td>\n",
       "      <td>2</td>\n",
       "      <td>2</td>\n",
       "      <td>2</td>\n",
       "      <td>2</td>\n",
       "      <td>2</td>\n",
       "    </tr>\n",
       "    <tr>\n",
       "      <th>4</th>\n",
       "      <td>4059</td>\n",
       "      <td><img data-content=\"rdkit/molecule\" src=\"data:image/png;base64,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\" alt=\"Mol\"/></td>\n",
       "      <td>Chloroform-D1 (CDCl3)</td>\n",
       "      <td>298</td>\n",
       "      <td>{0: 132.5, 1: 134.4, 2: 39.7, 3: 144.8, 4: 143...</td>\n",
       "      <td>[C]1[C]c2[c][c][c][c]c2[C]1c1[c][c]c2c([c]1)[C...</td>\n",
       "      <td>2</td>\n",
       "      <td>2</td>\n",
       "      <td>2</td>\n",
       "      <td>2</td>\n",
       "      <td>2</td>\n",
       "    </tr>\n",
       "    <tr>\n",
       "      <th>...</th>\n",
       "      <td>...</td>\n",
       "      <td>...</td>\n",
       "      <td>...</td>\n",
       "      <td>...</td>\n",
       "      <td>...</td>\n",
       "      <td>...</td>\n",
       "      <td>...</td>\n",
       "      <td>...</td>\n",
       "      <td>...</td>\n",
       "      <td>...</td>\n",
       "      <td>...</td>\n",
       "    </tr>\n",
       "    <tr>\n",
       "      <th>389</th>\n",
       "      <td>44520</td>\n",
       "      <td><img data-content=\"rdkit/molecule\" src=\"data:image/png;base64,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\" alt=\"Mol\"/></td>\n",
       "      <td>Unreported</td>\n",
       "      <td>Unreported</td>\n",
       "      <td>{0: 36.3, 1: 73.5, 2: 51.0, 3: 39.4, 4: 30.1, ...</td>\n",
       "      <td>[O][C]1[C][C][C@@H]2[C][C]3O[C]3[C@H]12</td>\n",
       "      <td>2</td>\n",
       "      <td>2</td>\n",
       "      <td>2</td>\n",
       "      <td>2</td>\n",
       "      <td>2</td>\n",
       "    </tr>\n",
       "    <tr>\n",
       "      <th>390</th>\n",
       "      <td>44554</td>\n",
       "      <td><img data-content=\"rdkit/molecule\" src=\"data:image/png;base64,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\" alt=\"Mol\"/></td>\n",
       "      <td>Unreported</td>\n",
       "      <td>Unreported</td>\n",
       "      <td>{0: 29.5, 1: 32.9, 2: 96.7, 3: 174.7, 4: 29.0,...</td>\n",
       "      <td>[C][C]1[C][C@@H]2[C][C][C]C([O])=C2C(=O)O1</td>\n",
       "      <td>2</td>\n",
       "      <td>2</td>\n",
       "      <td>2</td>\n",
       "      <td>2</td>\n",
       "      <td>2</td>\n",
       "    </tr>\n",
       "    <tr>\n",
       "      <th>391</th>\n",
       "      <td>44555</td>\n",
       "      <td><img data-content=\"rdkit/molecule\" src=\"data:image/png;base64,iVBORw0KGgoAAAANSUhEUgAAAMgAAADICAIAAAAiOjnJAAAABmJLR0QA/wD/AP+gvaeTAAAYEklEQVR4nO2dfVBTV/rHn4RgkHcQASNFRUREsQq+VEHLtKFWF9uqizjdZti2Nm21zayzv5rOdtfs7tRp7ExnIq2tILbLMK4tVemy2FajqIsWeZENLSoKviNCAKGJCQGSnN8fB+4iCCaQm/vC+Yx/ZA439zxJvj7Pc899+QoQQkAguBoh0wEQ+AkRFoEWiLAItECERaAFIiwCLRBhEWiBCItAC0RYBFogwiLQAhEWgRaIsJhHr9cLBIIffviBGtHpdAKBoKamhsGoxggRFoEWiLAItCBiOgBCH8XFxTdu3MCvb926xWwwY4cIiy0cP368vLwcvzabzcwGM3aIsNhCVlbW6tWr8WudTrdw4UJm4xkjpMci0AIRFoEWSClkC0Kh0GAwtLW1+fv7Mx2LK0AE1pCbmwsAr732GtOBuABSClmEl5cXAFgsFqYDcQFEWCwCC6u7u5vpQFwAERaLIBmLQAtisRiIsAguh2QsAi2QHotACyRjEWiB9FgEWiAZi0ALpMci0ALJWARa4JOwBIg8eI1NiEQim81mtVo9PDyYjmVMkIzFLvCBIQ/aLCIsdsGbakiExS54s5RFhMUuSMbiPOy8sZ03S1njV1jshGQsAi3g1R+DwcB0IGNlvN+lw5Ib2w0Gw3fffZefn19TU+Pr67tq1arMzMytW7fOnz+fqZDGyPhdINXr9WFhYdHR0QEBAXjEbDZfvnxZp9M9+eST7okBIXTmzJkvv/zy8OHD+LZ6Hx8fk8lEbbBixQq5XP7b3/4Wl0guwexNQgzS0tICAN9//z018t///hcAdDqdG2ZvbGxUq9XR0dH4VxAKhUlJSdnZ2Q8ePFCpVAAgFoupGwwDAgLkcnlNTY0bAnMVRFhuFZbFYikoKEhLSxOJ+pqQKVOmAMD+/fupbaqrq/GfYmJi/vGPf0ilUioLJCYmZmdnm0wm+iJ0FURYbhJWbW2tUqkMCQnBEhGLxenp6UVFRU1NTY8MY9asWQCwatUqq9V64cKFt956i0pgwcHBe/bsYTDdOsJ4PyoUCgd/A3a7/U9/+tO3337rkv13dHTk5OQkJibOmzdv165dbW1tcXFxarW6sbGxoKBg7dq1w51s3r17d0hIyLFjx3bs2JGQkPDFF1+0tLQUFBRIpdL79+9LJBKXhEcjTCubdRw5cgQAfHx8xvK/32azabVamUw2ceJE/D0HBQXJ5fLq6upBW+LEuWXLlj39bN++HQB0Ot2JEydEIpFAIPjnP/858C01NTXNzc3A7ow1voTlYPnbvHkzAEybNk2v1zs7xZUrV1Qq1bRp07CehEKhVCotKCjo7u4eIaTo6OjEfubMmUOFpNFoAGDixImVlZVD3/VIOToeKq3NABHWI75Ki8WydOlSAEhOTh5OEIMwm824TgkEAiyp2bNnq1SqW7dujTGkN954AwAiIyNbWloGvWs4OToIEZbLcPyrvHfv3tSpUwFAoVCMvM+qqiq5XO7r64v15O/vL5PJtFqt3W4fY0hFRUWrV6++devWihUrAGD58uWUyl2iCVqFNR5X3h+52o4QopINAISHhx86dCglJSUrKys+Ph4Xx4E0NTXl5+fv37+/vr4ejyQmJsrl8pdffpkS2Viw2+3bt2+vq6tbvHjxrl27bty48dNPP7311ltffvnlGPdsMpnKy8tra2s3bdoEtJ17GI/CeuRjZOfMmePh4UFVloSEhKeeeionJwefWomNjU1OTgaA7u7u48eP5+fnFxYWWq1WAJBIJDKZbPPmzdRq5ygYenAqFApPnTq1efPmo0ePvvrqq6mpqe3t7V999dXixYvffvttZ/ff3NxcWVl57ty5s2fPVlZW9vT0CAQCvEJG10N1x570OMRwyf/cuXODDvtFIlF8fHxmZiYuQ2FhYSUlJUqlcvLkyXgDsViclpZWUFDQ29tLX8B2uz07O9vHxwcAJk2aBACenp4lJSX4g/z444+DPghVxWw2W21t7d69e2UyWVRU1KCPtmTJkm3btuELhEiP5QJG6CqMRmNpaenu3bszMzPj4+OplfGhJCQkfPrpp/fv33db2NeuXcP6xgQHB1+7dm3oZj09PVVVVRqNJj09HauQwtfXNykpSalUFhUVdXZ24u1Jj+UOfH19k5OTcb0DgN7e3qtXr164cOHChQvnz5+vqqoCgK1bt77++utuO0VNERUVVVJS8sknn+zYsaOnp+f+/furVq3S6XQ+Pj4Gg6GiouLs2bO4zA28kGvKlCnJyclJSUnJyckLFy4cWm3pZeza5BCPrSDDgRNAa2srzQE+hurq6tjYWPzDTZ48efbs2QN/Sg8PjwULFrzzzjsHDx68c+fOY/c26m/DEcbvZTNOMWvWrIaGhqtXr+JTeAxisVgUCsW+ffv8/f0NBoOPj8+CBQuozBQUFMRseBREWA6xZMmSysrKioqKxYsXMx0LAIC/v7/RaDx58uTKlStHaAcZhI0xsRCcCTo6OpgOBADAaDQajUZvb+9nnnmG6ViGZbxf3eAgrBLWnTt3AACfGGAtRFgOwSph3b17FwAiIiKYDmQkiLAcglXCamxsBCIsfhAYGAhEWM5AhOUQOGN1dnYyHQhAfykkPRYfYGEpJMLiA6wSFmne+QOrhEV6LP7AHmFZLJb29nZPT8/Q0FCmYxkJIiyHYM9R4d27dxFCEonE3VcrOAmrg2MPAQEB2FrXbrczGwkn6iAQYTmIUCj09/e32+2MP2CICItvsKTN4sQiFhBhOQ4RllMQYTkKS4RFSiHfIMJyCiIsR2HJigMRFt9gQ8ay2WwtLS1CoTA8PJzBMByBCMtR2HCBQ1NTk81mCwsLmzBhAoNhOAIRlqOwIWNxpQ4CEZbjsEFYXFlrACIsx2GDsEjG4iFsOCokGYuHkIzlFERYjsKGo0IiLB4SGBgoEAjwM4CYioGUQh4iEol8fX2tVuuDBw8YCQAhhN0GiLD4BrNtll6v7+7unjRpkre3NyMBOAURlhMwKywO1UEgwnIKZoXFoc4diLCcgtmlLCIsftLR0YF/2l27dh06dAgXJox7fMu5VQrJg9ceT0NDw6effrp//36TyeTl5VVeXp6eng4AkZGRSUlJy5YtS01NdfmkBoOB8pHDkIzFExBCx44dW716dUxMTFZWltlsTk1NXbJkCf6rWCy+ffv2wYMHFQqFy2/dOXnyZExMTGFh4cBBkrE4D/ZB/fjjjy9evAgAYrF448aN27dvnzdvHgDk5ORs3bq1u7t71apVL7zwwqVLl6ZPnw4u8g6x2Wx/+ctf1Go1QujIkSPr1q3D4xcuXLh8+XJAQEBra+vYP6A7GPuDl11LS0tLOMB3AG0LFyKpFEmlhqVLPwQQuMWMr6mpSaVSUU/fnzJlikqlamtrG7TZjz/+iC3Kn3rqqebmZpd4cSGE9Ho9rqoeHh4qlcpms+HxrKws6sq+gICAqqoq13xaOmGjsA4CoCH/fkOzsKqqqmQyGfUE4sTExLy8vJ6enuG2/+WXX3CiioiIOHHiBIzZ4uHMmTPYHzo0NFSr1eJBg8GArZQA4I033sjIyACAkJCQ2traUX9S98BGYR0BQABXf/c7pNUirfZBQgIC2ECPsLq7uwsKCpYvX45/PE9Pz/T09HPnzjny3tbWVuxEgr1uRi0su92u0Wg8PT0B4Omnn25qasLjly5diouLAwA/P7+vv/4aIdTT07N27Vosvrq6Ouc/rvtgr7A+iIvLyMjIyMj4T2goHcLS6/VqtfqJJ57AkgoMDFQoFLdv33ZqJxaL5ZVXXsF7ePXVV6lxx4XV1ta2Zs0aABAIBAqFgrJ8ysvLw6du4uLiLl68SG2PezsAeOKJJ27evOlUtI+EJkcd9gpro6ent7e3t7d3oYeHa4VVV1enUCioM26zZ8/WaDQmk2l0e7Pb7X/+85+paoWrp4O/TWVl5YwZMwBg0qRJ1E/b1dUll8vxDmUy2dDATCYTzpSzZs26d+/e6MKmGHfCMsyYgZv33uBgLKyKigqqnx0F2AA8LS0NG15it+aioiIHrVBHpqCgAPuKS6XSjo4OR96SnZ2NW/JFixZdv34dD165cmX+/PkA4OXltW/fvuHe29nZmZCQAADz589vb28fS+TjSFjzAc4+3Lk3A0QBbNy4MSgoqLCw0Nl9GgyG7Oxsyt7Iz89PLpdfunTJtZGfP38e3+43a9askRsgg8GA23AAkMvllCFvYWEhPmsUExNTU1Mz8nR6vT4uLu7l2Nju555DBsOow3aJb/lQ2CgsAJgPUL5zJ27eG/bujQSgemTc4Roc+yqvXbumVCop66KoqCi1Wk2f1WBjYyNOJMHBwadOnXrkNhcvXqRa8m+++QYP9vb2KpVKHOS6desoS8GRudvYaI2PRwDomWdQV9foYnbVWskgWCosGGB3hjMzAJw4cSIxMRG/njBhwueffz7CfkpLS9PT0ynf1KSkJLrdUDFGo/GFF17AEX711VeD/lpRUYEr5oIFC+rr6/Hg7du3ly1bBgBisVij0Tg3X0MDkkgQAHruOWSxjCLg8VIKH8sXX3xBrRbOmTNnUPdqsVjy8vJwm4J/3fT09PPnz7szQqvVSqUfhUIxsC+02WxSqXRgS15cXBwcHAwAkZGRZWVlo5nvyhUUFoYA0Pr1yMn/OfiefSKsPgwGAzbKBgCRSLRz506EUHNzs1qtlkgkeDwsLEypVOIndjLCvn378NLU+vXrBx7ZdfXXLKvVqlKp8KNE09LSxtSD63QoKAgBoMxM5PCxyNGjR2NjY3U6HRHWQ3z99dfUksGkSZOoNJaYmJifn091xAyi1WpxM/7kk08OWiFraWnB/zdEItHAszej56efkK8vAkDvvvvYbe12+9/+9jes6ffeew9o8FnlsLAQQl1dXfg0bXBwsFAoTEtLo06GsIT6+npssCuRSCorK/Hg6dOnqbM3J06ccNlkx44hsRgBIJVqpM0MBvuGDenLlgkEAqVS6ZLVlqFwW1iYl156CQBwQWQh7e3tKSkp+Kj28OHDGo0Gn5FMSUkZ+/LmYL77Dvn4oMOHh92grg7FxiIAQ0REyfHjLp59AHwQ1tatWwHgs88+YzqQYenu7v79738PANTa7I4dO6xWKy2T6fX/e93YiP71L3TyJKIu0MjPRwAoPh41NNAyez98uB4LJwCr1cp0IMOClx4kEgleTM/Pz3/++efpmmzyZACABw8gIwO+/x78/KC3FywWePdd+OQTeOUVQAjWr4f+RUGa4MMVpHixymazMR3IY0hNTW1tbZ07dy6NqqJYuxaqq0GrhV9/BaMRcnMhJwf+8AcAAJmMblUBP4TF/oyFwbf34FUreikthdOn4fPPQSoFgQBEInj9ddi2DXJzwV23GPFBWFzJWPiBIngBgl7KysDLC1566aHBDRugpweuXKF9dgDgh7C4lbGoE5c0otdDSAgIBA8NTpwIAOCup+XwQVgkYw1GIoHGRrh586HB06cBAKZPp312ACDCcifuy1j4HrXi4ocGjx2DyEiIjqZ9dgDgx+1fWFhcKYXuyFjJyZCaCioVhIVBaip0dUF2NhQXQ14eiNz0i/NBWLjHYn/GwqXQHRkLAA4fhi1bYNMmwAaLwcFw8CD0X13oBvggLFIKH4GfH+Tnw969UFcHgYEQFTW4l6cZPgiLW0eF7iiFFD4+0H9ppJshzbv7cGspZBo+CItbGYsIizNwImNZLBaLxSIWi728vJiOxR3wQVicyFjjKl0BP4TFiYw1rhos4IewSMZiIXwQFicyFgNrDYzCB2FxImORUsg9OJSxiLC4BCcyFimF3IMTGYuUQu5BMhYL4YOwSMZiIfwRFicyFhEWl+DEhX6kFHIPUgpZCB+ExaHmnQiLS7A/Y9lsNqPR6OHh4efnx3QsboIPwmJ/xsIPqw0ICBC498JzBuGDsNifscZbgwX8EBb7M9Z4a7CAH8LiSsYaP2sNwA9hcShjYacdpsNxB3wQFu6Iu7q6WKstLCxfX9+1a9d+8MEHTIfjDrgnrEGW8WVlZfHx8QDQ3t4eGRn5/vvv3759m9EAB2Mymb755hsA6OrqOnXq1EcffbRnzx6mg6KfsTzAlCZTAwcnNRqNMpmMOoCfjJ+92W9mWVJSQtODpp3ihx9+wEasixYtMplMBw4cEAgEQqHw0KFDTIdGL1wV1kDnZtwU63Q6bL+L/SAAICYmRq1Wj9F1bdQ0NzfLZDJK67m5uXh8586dAODl5VVaWspIYO6Be8KiPJswc+fO3bZt28BJ7927p1arIyOxZRh4eXnJZLLq6mr6QhqE3W7Py8sLCQkBAG9v76VLlwJAaGgo5cqkUCgAICAg4Oeff3ZbVG7GBcJ6pNWdCzw8htDT06PRaLB7FgAIBIIZM2YMZ4M2yPYSABITE7Ozs0ftpOog9fX1zz77LJ5xzZo1N27csFqtL774IgBERUU1NzcjhKxWKzY9mDZt2q/9DtA8wwXCGmp1V1ZWNnXqVJlMVlRUNIIRvFNQztsYiUTyyy+/4D+NnCYvX76sUCioNaTJkyff//vfUb+jqSuxWJBK9cdFiwAgPDwc24NjTCYTNo5btGiR0WhECJnN5pUrVpx6+mk0bx5yzJGVW9BSCjUaDaWAsLCwd9555+zZsw620sPts6SkhLJkAoAjR44M2mDk+tvV1YXd6tNjYhAAEgqRVIoKCpz1YRuWM2ewlUh3VNSWN98c6rXZ2toaExOD0xi2Texta8NvQVIpYoGllGuhq8e6fv26Wq2m3HIBICIiQqFQlJaWjqyw4faJXXEBYOXKlWNp7DorKpBMhry8+nyBZ8xAavVDNiHO0tGBFAokFCIAFB2Nhjddqq+vx4eu//f2231Dd+6giAgEgDZtQjQ0DwxCe/NeW1urUqlmzpxJKWz69OlKpXI4S+ah+/zwww+p9yYlJdXU1MDYbdA6OlB2Npozp09eEyag9HQ0CuewoiI0dSoCQJ6eSKl8rMdpZWXl8hkzzLNn/8+g6+efUWAgAkDbtzs9O4txgbAc/I2rqqoUCgW2U8PExcWpVCrqWGngPvEBwe7duymvVA8PD6dtbR+LzYa0WpSejkSiPoXFxiKNBhmNj3/v9evo+ef73pWcjC5edHTOo0f7psvJ6RsqKemzg3P5B2QOd7t/2Wy20tJShUJBrWdihanV6qamJjTggGDu3LmiAY/4/fe//01jWHfvIrW6L/cAIH9/JJejgWsBQ220NmxAACgoCO3b57ipaR+5uQgAeXigwsK+kfx8JBAgoXCESsotGLOVs1qtWq1WJpNRF1UKhcKkpCRc+F577TXs/ykQCDIyMpyudKPDYkEHDqCkpD55eXigu3eR0YjWrEEAyM+vrzN7913U04Nu3kSZmai5eZRzqVQIAE2ciM6d6xv56CO0bh0ym131aZiFeb9Ck8l08ODBF198USwWw8MEBQVVVFS4YdF1MDU16M030caNCCGUkoLCw5FWi+x21NuLcnORWIy2bHHBLFu2IAAUEoLq6vpGeNS/My8sis7Ozry8vNTUVAAQiUQrVqywWCzILav5w/Kf/yAANGBpAyGE3n8fTZiAhiwoOE1vL/rNb/qOJR/X9XMOFgkLg3ssALjev4bJpLB27UJeXoNbqMpKBIDKylywf7MZpaSgAwceGhzaz3EQ1j3nPTQ0dObMmdeuXbNjSwWABQsWIKYujqPbRmviRCgp+d/+h7NF7T+tziHYeD0WbtspYTGJG2y0Bqp2BFtUrkGENSLutNFigS2qCyHCGhHKRuvbb6GzE+7dg7/+FYqL4cMPXW+jxQJbVBfCuh4L+q9hZ4WwwI02WiywRXUh7M1YjDXsg8A2WgYDVFVBQwO0tdFlzsYCW1QXwl5hsSVjYbCN1syZNJqzscAW1YWwsRSyUVhugAW2qC6EjRGPU2EB87aoLoQIi00wbYvqQoiw2AdztqguhDTvBFogwiLQAhEWgRaIsAi0QIRFoAU2Cotd5woJo4KNwmLXuULCqGCvsEjG4jREWARaELCw4jQ3N5vN5vDw8IFPASFwCzYKi8ADWFQKBz21FgB0Op1AIMBPASFwCxYJi8AniLAItMC6y2aKi4tv3LiBX9+6dYvZYAijhnXCOn78eHl5OX5tNpuZDYYwalgnrKysrNWrV+PXOp1u4cKFzMZDGB2kxyLQAhEWgRZYJyx8PofAdcjKO4EWSHog0AIRFoEWiLAItECERaAFIiwCLRBhEWiBCItAC0RYBFr4f3GdQVvq+ktoAAAAAElFTkSuQmCC\" alt=\"Mol\"/></td>\n",
       "      <td>Unreported</td>\n",
       "      <td>Unreported</td>\n",
       "      <td>{0: 29.0, 1: 27.5, 2: 96.8, 3: 174.9, 4: 29.5,...</td>\n",
       "      <td>[C][C]1[C][C@@H]2[C][C][C]C([O])=C2C(=O)O1</td>\n",
       "      <td>2</td>\n",
       "      <td>2</td>\n",
       "      <td>2</td>\n",
       "      <td>2</td>\n",
       "      <td>2</td>\n",
       "    </tr>\n",
       "    <tr>\n",
       "      <th>392</th>\n",
       "      <td>44582</td>\n",
       "      <td><img data-content=\"rdkit/molecule\" src=\"data:image/png;base64,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\" alt=\"Mol\"/></td>\n",
       "      <td>Unreported</td>\n",
       "      <td>Unreported</td>\n",
       "      <td>{0: 27.4, 1: 21.4, 2: 21.4, 3: 24.6, 4: 36.1, ...</td>\n",
       "      <td>[O][C]1[C][C][C@@H]2[C][C][C][C][C@H]12</td>\n",
       "      <td>2</td>\n",
       "      <td>2</td>\n",
       "      <td>2</td>\n",
       "      <td>2</td>\n",
       "      <td>2</td>\n",
       "    </tr>\n",
       "    <tr>\n",
       "      <th>393</th>\n",
       "      <td>44583</td>\n",
       "      <td><img data-content=\"rdkit/molecule\" src=\"data:image/png;base64,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\" alt=\"Mol\"/></td>\n",
       "      <td>Unreported</td>\n",
       "      <td>Unreported</td>\n",
       "      <td>{0: 27.8, 1: 22.9, 2: 23.8, 3: 25.2, 4: 36.7, ...</td>\n",
       "      <td>[O][C]1[C][C][C@@H]2[C][C][C][C][C@H]12</td>\n",
       "      <td>2</td>\n",
       "      <td>2</td>\n",
       "      <td>2</td>\n",
       "      <td>2</td>\n",
       "      <td>2</td>\n",
       "    </tr>\n",
       "  </tbody>\n",
       "</table>\n",
       "<p>394 rows × 11 columns</p>\n",
       "</div>"
      ],
      "text/plain": [
       "     molecule_id_x                                            rdmol_x  \\\n",
       "0             4028  <img data-content=\"rdkit/molecule\" src=\"data:i...   \n",
       "1             6367  <img data-content=\"rdkit/molecule\" src=\"data:i...   \n",
       "2             4045  <img data-content=\"rdkit/molecule\" src=\"data:i...   \n",
       "3             4045  <img data-content=\"rdkit/molecule\" src=\"data:i...   \n",
       "4             4059  <img data-content=\"rdkit/molecule\" src=\"data:i...   \n",
       "..             ...                                                ...   \n",
       "389          44520  <img data-content=\"rdkit/molecule\" src=\"data:i...   \n",
       "390          44554  <img data-content=\"rdkit/molecule\" src=\"data:i...   \n",
       "391          44555  <img data-content=\"rdkit/molecule\" src=\"data:i...   \n",
       "392          44582  <img data-content=\"rdkit/molecule\" src=\"data:i...   \n",
       "393          44583  <img data-content=\"rdkit/molecule\" src=\"data:i...   \n",
       "\n",
       "                     Solvent1_x     Temp1_x  \\\n",
       "0    Methanol-D4/D2O (CD3OD/D4)         298   \n",
       "1                    Unreported  Unreported   \n",
       "2         Acetone-D6 ((CD3)2CO)         298   \n",
       "3         Acetone-D6 ((CD3)2CO)         298   \n",
       "4         Chloroform-D1 (CDCl3)         298   \n",
       "..                          ...         ...   \n",
       "389                  Unreported  Unreported   \n",
       "390                  Unreported  Unreported   \n",
       "391                  Unreported  Unreported   \n",
       "392                  Unreported  Unreported   \n",
       "393                  Unreported  Unreported   \n",
       "\n",
       "                                               value_x  \\\n",
       "0    {0: 156.4, 1: 96.4, 2: 155.1, 3: 134.7, 4: 155...   \n",
       "1    {0: 132.5, 1: 153.3, 2: 94.4, 3: 154.0, 4: 94....   \n",
       "2    {0: 142.1, 1: 129.1, 2: 128.6, 3: 128.4, 4: 12...   \n",
       "3    {0: 142.1, 1: 129.1, 2: 128.6, 3: 128.4, 4: 12...   \n",
       "4    {0: 132.5, 1: 134.4, 2: 39.7, 3: 144.8, 4: 143...   \n",
       "..                                                 ...   \n",
       "389  {0: 36.3, 1: 73.5, 2: 51.0, 3: 39.4, 4: 30.1, ...   \n",
       "390  {0: 29.5, 1: 32.9, 2: 96.7, 3: 174.7, 4: 29.0,...   \n",
       "391  {0: 29.0, 1: 27.5, 2: 96.8, 3: 174.9, 4: 29.5,...   \n",
       "392  {0: 27.4, 1: 21.4, 2: 21.4, 3: 24.6, 4: 36.1, ...   \n",
       "393  {0: 27.8, 1: 22.9, 2: 23.8, 3: 25.2, 4: 36.7, ...   \n",
       "\n",
       "                                                SMILES  molecule_id_y  \\\n",
       "0    [C]Oc1[c]c(O[C@]2O[C@]([C][O])[C@@]([O])[C@]([...              2   \n",
       "1    [C]Oc1[c]c(O[C@]2O[C@]([C][O])[C@@]([O])[C@]([...              2   \n",
       "2    [O]C1=[C]c2[c]oc(=O)c3[c][c]c(-c4[c][c][c][c][...              2   \n",
       "3    [O]C1=[C]c2[c]oc(=O)c3[c][c]c(-c4[c][c][c][c][...              2   \n",
       "4    [C]1[C]c2[c][c][c][c]c2[C]1c1[c][c]c2c([c]1)[C...              2   \n",
       "..                                                 ...            ...   \n",
       "389            [O][C]1[C][C][C@@H]2[C][C]3O[C]3[C@H]12              2   \n",
       "390         [C][C]1[C][C@@H]2[C][C][C]C([O])=C2C(=O)O1              2   \n",
       "391         [C][C]1[C][C@@H]2[C][C][C]C([O])=C2C(=O)O1              2   \n",
       "392            [O][C]1[C][C][C@@H]2[C][C][C][C][C@H]12              2   \n",
       "393            [O][C]1[C][C][C@@H]2[C][C][C][C][C@H]12              2   \n",
       "\n",
       "     rdmol_y  Solvent1_y  Temp1_y  value_y  \n",
       "0          2           2        2        2  \n",
       "1          2           2        2        2  \n",
       "2          2           2        2        2  \n",
       "3          2           2        2        2  \n",
       "4          2           2        2        2  \n",
       "..       ...         ...      ...      ...  \n",
       "389        2           2        2        2  \n",
       "390        2           2        2        2  \n",
       "391        2           2        2        2  \n",
       "392        2           2        2        2  \n",
       "393        2           2        2        2  \n",
       "\n",
       "[394 rows x 11 columns]"
      ]
     },
     "execution_count": 253,
     "metadata": {},
     "output_type": "execute_result"
    }
   ],
   "source": [
    "merged_df_final.merge(g[g['value']>1], how = 'inner', on = 'SMILES')"
   ]
  },
  {
   "cell_type": "code",
   "execution_count": 254,
   "metadata": {},
   "outputs": [
    {
     "data": {
      "text/plain": [
       "19907"
      ]
     },
     "execution_count": 254,
     "metadata": {},
     "output_type": "execute_result"
    }
   ],
   "source": [
    "len(g[g['value']==1])"
   ]
  },
  {
   "cell_type": "code",
   "execution_count": 255,
   "metadata": {},
   "outputs": [],
   "source": [
    "g2 = merged_df_final.groupby('molecule_id').count().sort_values(by=['value'], ascending = False).reset_index()"
   ]
  },
  {
   "cell_type": "code",
   "execution_count": 256,
   "metadata": {},
   "outputs": [
    {
     "data": {
      "text/html": [
       "<div>\n",
       "<style scoped>\n",
       "    .dataframe tbody tr th:only-of-type {\n",
       "        vertical-align: middle;\n",
       "    }\n",
       "\n",
       "    .dataframe tbody tr th {\n",
       "        vertical-align: top;\n",
       "    }\n",
       "\n",
       "    .dataframe thead th {\n",
       "        text-align: right;\n",
       "    }\n",
       "</style>\n",
       "<table border=\"1\" class=\"dataframe\">\n",
       "  <thead>\n",
       "    <tr style=\"text-align: right;\">\n",
       "      <th></th>\n",
       "      <th>molecule_id</th>\n",
       "      <th>rdmol</th>\n",
       "      <th>Solvent1</th>\n",
       "      <th>Temp1</th>\n",
       "      <th>value</th>\n",
       "      <th>SMILES</th>\n",
       "    </tr>\n",
       "  </thead>\n",
       "  <tbody>\n",
       "    <tr>\n",
       "      <th>0</th>\n",
       "      <td>4294</td>\n",
       "      <td>3</td>\n",
       "      <td>3</td>\n",
       "      <td>3</td>\n",
       "      <td>3</td>\n",
       "      <td>3</td>\n",
       "    </tr>\n",
       "    <tr>\n",
       "      <th>1</th>\n",
       "      <td>7834</td>\n",
       "      <td>2</td>\n",
       "      <td>2</td>\n",
       "      <td>2</td>\n",
       "      <td>2</td>\n",
       "      <td>2</td>\n",
       "    </tr>\n",
       "    <tr>\n",
       "      <th>2</th>\n",
       "      <td>4325</td>\n",
       "      <td>2</td>\n",
       "      <td>2</td>\n",
       "      <td>2</td>\n",
       "      <td>2</td>\n",
       "      <td>2</td>\n",
       "    </tr>\n",
       "    <tr>\n",
       "      <th>3</th>\n",
       "      <td>7246</td>\n",
       "      <td>2</td>\n",
       "      <td>2</td>\n",
       "      <td>2</td>\n",
       "      <td>2</td>\n",
       "      <td>2</td>\n",
       "    </tr>\n",
       "    <tr>\n",
       "      <th>4</th>\n",
       "      <td>4617</td>\n",
       "      <td>2</td>\n",
       "      <td>2</td>\n",
       "      <td>2</td>\n",
       "      <td>2</td>\n",
       "      <td>2</td>\n",
       "    </tr>\n",
       "  </tbody>\n",
       "</table>\n",
       "</div>"
      ],
      "text/plain": [
       "   molecule_id  rdmol  Solvent1  Temp1  value  SMILES\n",
       "0         4294      3         3      3      3       3\n",
       "1         7834      2         2      2      2       2\n",
       "2         4325      2         2      2      2       2\n",
       "3         7246      2         2      2      2       2\n",
       "4         4617      2         2      2      2       2"
      ]
     },
     "execution_count": 256,
     "metadata": {},
     "output_type": "execute_result"
    }
   ],
   "source": [
    "g2.head()"
   ]
  },
  {
   "cell_type": "code",
   "execution_count": 259,
   "metadata": {},
   "outputs": [],
   "source": [
    "g2.drop_duplicates(keep = 'first', inplace = True)"
   ]
  },
  {
   "cell_type": "code",
   "execution_count": null,
   "metadata": {},
   "outputs": [],
   "source": []
  }
 ],
 "metadata": {
  "kernelspec": {
   "display_name": "Python 3",
   "language": "python",
   "name": "python3"
  },
  "language_info": {
   "codemirror_mode": {
    "name": "ipython",
    "version": 3
   },
   "file_extension": ".py",
   "mimetype": "text/x-python",
   "name": "python",
   "nbconvert_exporter": "python",
   "pygments_lexer": "ipython3",
   "version": "3.7.4"
  }
 },
 "nbformat": 4,
 "nbformat_minor": 2
}
